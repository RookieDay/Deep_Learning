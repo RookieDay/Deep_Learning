{
 "cells": [
  {
   "cell_type": "code",
   "execution_count": 28,
   "metadata": {
    "collapsed": true
   },
   "outputs": [],
   "source": [
    "def fn(x, y):\n",
    "    return x*x + 6.3001*y*y - 3.44*x + 5.6224*y + 2.9584\n",
    "\n",
    "def fnx(x):\n",
    "    return 2*x - 3.44\n",
    "\n",
    "def fny(y):\n",
    "    return 2*6.3001*y + 5.6224"
   ]
  },
  {
   "cell_type": "code",
   "execution_count": 41,
   "metadata": {},
   "outputs": [],
   "source": [
    "def model(x, y, num_iterations, learning_rate = 0.001, rate=1e-10):\n",
    "    fn_value= []\n",
    "    for i in range(num_iterations):\n",
    "        x_plus = x - learning_rate * fnx(x)\n",
    "        y_plus = y - learning_rate * fnx(y)\n",
    "        fn_plus = fn(x_plus, y_plus)\n",
    "        fn_rel = fn(x,y)\n",
    "        if abs(fn_plus - fn_rel) < rate:\n",
    "            return 'iteration_times = %s , x = %s, y = %s, fn = %s' % (str(i),str(x_plus),str(y_plus),str(fn_plus))\n",
    "        x = x_plus\n",
    "        y = y_plus\n",
    "        print(x,y ,fn_plus, fn_rel)\n",
    "    print('iterate fails,pls try update your parmeters')"
   ]
  },
  {
   "cell_type": "code",
   "execution_count": null,
   "metadata": {
    "collapsed": true
   },
   "outputs": [],
   "source": []
  }
 ],
 "metadata": {
  "kernelspec": {
   "display_name": "Python 3",
   "language": "python",
   "name": "python3"
  },
  "language_info": {
   "codemirror_mode": {
    "name": "ipython",
    "version": 3
   },
   "file_extension": ".py",
   "mimetype": "text/x-python",
   "name": "python",
   "nbconvert_exporter": "python",
   "pygments_lexer": "ipython3",
   "version": "3.6.4"
  }
 },
 "nbformat": 4,
 "nbformat_minor": 2
}
