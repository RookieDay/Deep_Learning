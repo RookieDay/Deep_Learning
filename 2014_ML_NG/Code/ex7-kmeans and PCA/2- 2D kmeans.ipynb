{
 "cells": [
  {
   "cell_type": "markdown",
   "metadata": {},
   "source": [
    "# 2-2维kmeans"
   ]
  },
  {
   "cell_type": "code",
   "execution_count": 1,
   "metadata": {
    "collapsed": true
   },
   "outputs": [],
   "source": [
    "import matplotlib.pyplot as plt\n",
    "import seaborn as sns\n",
    "\n",
    "import numpy as np\n",
    "import pandas as pd\n",
    "import scipy.io as sio"
   ]
  },
  {
   "cell_type": "code",
   "execution_count": 146,
   "metadata": {},
   "outputs": [
    {
     "name": "stdout",
     "output_type": "stream",
     "text": [
      "         X1        X2\n",
      "0  1.842080  4.607572\n",
      "1  5.658583  4.799964\n",
      "2  6.352579  3.290854\n",
      "3  2.904017  4.612204\n",
      "4  3.231979  4.939894\n"
     ]
    },
    {
     "data": {
      "image/png": "[encoded data removed]",
      "text/plain": [
       "<matplotlib.figure.Figure at 0x7f9d19c8ff28>"
      ]
     },
     "metadata": {},
     "output_type": "display_data"
    }
   ],
   "source": [
    "mat = sio.loadmat('./data/ex7data2.mat')\n",
    "data2 = pd.DataFrame(mat.get('X'), columns=['X1', 'X2'])\n",
    "print(data2.head())\n",
    "\n",
    "sns.set(context=\"notebook\", style=\"white\")\n",
    "sns.lmplot('X1', 'X2', data=data2, fit_reg=False)\n",
    "plt.show()"
   ]
  },
  {
   "cell_type": "markdown",
   "metadata": {},
   "source": [
    "# 0. random init\n",
    "for initial centroids"
   ]
  },
  {
   "cell_type": "code",
   "execution_count": 147,
   "metadata": {
    "collapsed": true
   },
   "outputs": [],
   "source": [
    "def combine_data_C(data, C):\n",
    "#     将原数据和新增的一列 c 进行组合\n",
    "    data_with_c = data.copy()\n",
    "    data_with_c['C'] = C\n",
    "    return data_with_c\n",
    "\n",
    "\n",
    "# k-means fn --------------------------------\n",
    "def random_init(data, k):\n",
    "    \"\"\"choose k sample from data set as init centroids\n",
    "    Args:\n",
    "        data: DataFrame\n",
    "        k: int\n",
    "    Returns:\n",
    "        k samples: ndarray\n",
    "    \"\"\"\n",
    "#     data中随机选择k行数据 并且转化为矩阵\n",
    "    return data.sample(k).as_matrix()\n",
    "\n",
    "\n",
    "#x -- 传入的’X'的坐标位置\n",
    "# centroids 处理的点 计算与X的距离\n",
    "def _find_your_cluster(x, centroids):\n",
    "    \"\"\"find the right cluster for x with respect to shortest distance\n",
    "    Args:\n",
    "        x: ndarray (n, ) -> n features\n",
    "        centroids: ndarray (k, n)\n",
    "    Returns:\n",
    "        k: int\n",
    "    \"\"\"\n",
    "    # 返回的是一个根据func()函数以及维度axis运算后得到的的数组.\n",
    "    distances = np.apply_along_axis(func1d=np.linalg.norm,  # this give you l2 norm\n",
    "                                    axis=1,\n",
    "                                    arr=centroids - x)  # use ndarray's broadcast\n",
    "    return np.argmin(distances)  #代表使得distances取得最小值的x的自变量x的值\n",
    "\n",
    "\n",
    "def assign_cluster(data, centroids):\n",
    "    \"\"\"assign cluster for each node in data\n",
    "    return C ndarray\n",
    "    \"\"\"\n",
    "#     load进来的每一行数据传入 lambda函数 _find_your_cluster \n",
    "# 当前的这个点x与 上面定义的 三个聚类点centroids 计算距离 ，并打上标签  是和第几个的聚类点近 返回 标签\n",
    "    return np.apply_along_axis(lambda x: _find_your_cluster(x, centroids),\n",
    "                               axis=1,\n",
    "                               arr=data.as_matrix())\n",
    "\n",
    "\n",
    "def new_centroids(data, C):\n",
    "    data_with_c = combine_data_C(data, C)\n",
    "    \n",
    "#     按照‘C’分组，算出x1 x2平均值，作为下一次的聚类的点，按照'C'排序，删除C这一列\n",
    "    return data_with_c.groupby('C', as_index=False).\\\n",
    "                       mean().\\\n",
    "                       sort_values(by='C').\\\n",
    "                       drop('C', axis=1).\\\n",
    "                       as_matrix()\n",
    "\n",
    "\n",
    "def cost(data, centroids, C):\n",
    "    m = data.shape[0]\n",
    "\n",
    "    #展开所有的元素对应的聚类的元素\n",
    "    expand_C_with_centroids = centroids[C]\n",
    "    \n",
    "#     求距离点的范数\n",
    "    distances = np.apply_along_axis(func1d=np.linalg.norm,\n",
    "                                    axis=1,\n",
    "                                    arr=data.as_matrix() - expand_C_with_centroids)\n",
    "    return distances.sum() / m\n",
    "\n",
    "\n",
    "def _k_means_iter(data, k, epoch=100, tol=0.0001):\n",
    "    \"\"\"one shot k-means\n",
    "    with early break\n",
    "    \"\"\"\n",
    "    centroids = random_init(data, k)\n",
    "    cost_progress = []\n",
    "\n",
    "    for i in range(epoch):\n",
    "        print('running epoch {}'.format(i))\n",
    "\n",
    "        C = assign_cluster(data, centroids)\n",
    "        centroids = new_centroids(data, C)\n",
    "        cost_progress.append(cost(data, centroids, C))\n",
    "\n",
    "        if len(cost_progress) > 1:  # early break\n",
    "            if (np.abs(cost_progress[-1] - cost_progress[-2])) / cost_progress[-1] < tol:\n",
    "                break\n",
    "\n",
    "    return C, centroids, cost_progress[-1]\n",
    "\n",
    "\n",
    "def k_means(data, k, epoch=100, n_init=10):\n",
    "    \"\"\"do multiple random init and pick the best one to return\n",
    "    Args:\n",
    "        data (pd.DataFrame)\n",
    "    Returns:\n",
    "        (C, centroids, least_cost)\n",
    "    \"\"\"\n",
    "\n",
    "    tries = np.array([_k_means_iter(data, k, epoch) for _ in range(n_init)])\n",
    "\n",
    "    least_cost_idx = np.argmin(tries[:, -1])\n",
    "\n",
    "    return tries[least_cost_idx]\n"
   ]
  },
  {
   "cell_type": "code",
   "execution_count": 148,
   "metadata": {},
   "outputs": [
    {
     "data": {
      "text/plain": [
       "array([[ 3.49798412,  1.10046402],\n",
       "       [ 2.28664839,  5.0076699 ],\n",
       "       [ 0.54845223,  5.0267298 ]])"
      ]
     },
     "execution_count": 148,
     "metadata": {},
     "output_type": "execute_result"
    }
   ],
   "source": [
    "random_init(data2, 3)"
   ]
  },
  {
   "cell_type": "code",
   "execution_count": 149,
   "metadata": {},
   "outputs": [
    {
     "data": {
      "text/html": [
       "<div>\n",
       "<style>\n",
       "    .dataframe thead tr:only-child th {\n",
       "        text-align: right;\n",
       "    }\n",
       "\n",
       "    .dataframe thead th {\n",
       "        text-align: left;\n",
       "    }\n",
       "\n",
       "    .dataframe tbody tr th {\n",
       "        vertical-align: top;\n",
       "    }\n",
       "</style>\n",
       "<table border=\"1\" class=\"dataframe\">\n",
       "  <thead>\n",
       "    <tr style=\"text-align: right;\">\n",
       "      <th></th>\n",
       "      <th>X1</th>\n",
       "      <th>X2</th>\n",
       "    </tr>\n",
       "  </thead>\n",
       "  <tbody>\n",
       "    <tr>\n",
       "      <th>192</th>\n",
       "      <td>2.023590</td>\n",
       "      <td>0.447716</td>\n",
       "    </tr>\n",
       "    <tr>\n",
       "      <th>235</th>\n",
       "      <td>5.860679</td>\n",
       "      <td>2.995771</td>\n",
       "    </tr>\n",
       "    <tr>\n",
       "      <th>277</th>\n",
       "      <td>4.372498</td>\n",
       "      <td>3.054882</td>\n",
       "    </tr>\n",
       "    <tr>\n",
       "      <th>220</th>\n",
       "      <td>5.766350</td>\n",
       "      <td>3.142717</td>\n",
       "    </tr>\n",
       "    <tr>\n",
       "      <th>103</th>\n",
       "      <td>1.402608</td>\n",
       "      <td>1.087265</td>\n",
       "    </tr>\n",
       "  </tbody>\n",
       "</table>\n",
       "</div>"
      ],
      "text/plain": [
       "           X1        X2\n",
       "192  2.023590  0.447716\n",
       "235  5.860679  2.995771\n",
       "277  4.372498  3.054882\n",
       "220  5.766350  3.142717\n",
       "103  1.402608  1.087265"
      ]
     },
     "execution_count": 149,
     "metadata": {},
     "output_type": "execute_result"
    }
   ],
   "source": [
    "data2.sample(5)"
   ]
  },
  {
   "cell_type": "markdown",
   "metadata": {},
   "source": [
    "# 1. cluster assignment\n",
    "http://stackoverflow.com/questions/14432557/matplotlib-scatter-plot-with-different-text-at-each-data-point"
   ]
  },
  {
   "cell_type": "markdown",
   "metadata": {},
   "source": [
    "### find closest cluster experiment"
   ]
  },
  {
   "cell_type": "code",
   "execution_count": 153,
   "metadata": {},
   "outputs": [
    {
     "data": {
      "text/plain": [
       "array([[ 1.60493227,  5.13663139],\n",
       "       [ 5.91280273,  2.85631938],\n",
       "       [ 6.63060699,  3.01502301]])"
      ]
     },
     "execution_count": 153,
     "metadata": {},
     "output_type": "execute_result"
    }
   ],
   "source": [
    "init_centroids = random_init(data2, 3)\n",
    "init_centroids"
   ]
  },
  {
   "cell_type": "code",
   "execution_count": 154,
   "metadata": {
    "collapsed": true
   },
   "outputs": [],
   "source": [
    "x = np.array([1, 1])"
   ]
  },
  {
   "cell_type": "code",
   "execution_count": 155,
   "metadata": {},
   "outputs": [
    {
     "data": {
      "image/png": "[encoded data removed]",
      "text/plain": [
       "<matplotlib.figure.Figure at 0x7f9d1a0f2ef0>"
      ]
     },
     "metadata": {},
     "output_type": "display_data"
    }
   ],
   "source": [
    "fig, ax = plt.subplots(figsize=(6,4))\n",
    "ax.scatter(x=init_centroids[:, 0], y=init_centroids[:, 1])\n",
    "\n",
    "for i, node in enumerate(init_centroids):\n",
    "    ax.annotate('{}: ({},{})'.format(i, node[0], node[1]), node)\n",
    "    \n",
    "# 在(1,1) 处标记‘X'\n",
    "ax.scatter(x[0], x[1], marker='x', s=200)\n",
    "plt.show()"
   ]
  },
  {
   "cell_type": "code",
   "execution_count": 156,
   "metadata": {},
   "outputs": [
    {
     "data": {
      "text/plain": [
       "array([[ 0.60493227,  4.13663139],\n",
       "       [ 4.91280273,  1.85631938],\n",
       "       [ 5.63060699,  2.01502301]])"
      ]
     },
     "execution_count": 156,
     "metadata": {},
     "output_type": "execute_result"
    }
   ],
   "source": [
    "init_centroids - x"
   ]
  },
  {
   "cell_type": "code",
   "execution_count": 157,
   "metadata": {},
   "outputs": [
    {
     "data": {
      "text/plain": [
       "0"
      ]
     },
     "execution_count": 157,
     "metadata": {},
     "output_type": "execute_result"
    }
   ],
   "source": [
    "_find_your_cluster(x, init_centroids)"
   ]
  },
  {
   "cell_type": "markdown",
   "metadata": {},
   "source": [
    "### 1 epoch cluster assigning"
   ]
  },
  {
   "cell_type": "code",
   "execution_count": 158,
   "metadata": {},
   "outputs": [
    {
     "data": {
      "text/plain": [
       "array([ 1.84207953,  4.6075716 ])"
      ]
     },
     "execution_count": 158,
     "metadata": {},
     "output_type": "execute_result"
    }
   ],
   "source": [
    "data2.as_matrix()[0]"
   ]
  },
  {
   "cell_type": "code",
   "execution_count": 159,
   "metadata": {},
   "outputs": [
    {
     "data": {
      "text/plain": [
       "array([0, 1, 2, 0, 0, 0, 0, 0, 0, 0, 0, 0, 0, 0, 0, 0, 0, 0, 0, 0, 0, 0, 0,\n",
       "       0, 0, 0, 0, 0, 0, 0, 0, 0, 0, 0, 0, 0, 0, 0, 0, 0, 0, 0, 0, 0, 0, 0,\n",
       "       0, 0, 0, 0, 0, 0, 0, 0, 0, 0, 0, 0, 0, 0, 0, 0, 0, 0, 0, 0, 0, 0, 0,\n",
       "       0, 0, 0, 0, 0, 0, 0, 0, 0, 0, 0, 0, 0, 0, 0, 1, 0, 0, 0, 0, 0, 0, 0,\n",
       "       0, 0, 0, 0, 0, 0, 0, 0, 1, 1, 1, 0, 1, 1, 1, 1, 0, 1, 1, 0, 0, 1, 1,\n",
       "       1, 1, 0, 1, 1, 1, 1, 1, 1, 1, 1, 1, 1, 0, 1, 1, 1, 1, 1, 1, 0, 0, 1,\n",
       "       1, 1, 1, 1, 1, 1, 1, 1, 1, 1, 1, 0, 1, 1, 1, 1, 0, 1, 1, 1, 1, 1, 1,\n",
       "       1, 1, 1, 1, 1, 1, 0, 0, 1, 1, 1, 1, 1, 1, 1, 1, 1, 0, 0, 1, 0, 1, 1,\n",
       "       1, 1, 1, 1, 1, 1, 1, 1, 1, 1, 1, 0, 1, 0, 0, 1, 1, 1, 2, 1, 1, 1, 2,\n",
       "       1, 1, 1, 2, 2, 2, 2, 1, 1, 1, 2, 2, 2, 1, 1, 2, 1, 1, 1, 1, 1, 1, 1,\n",
       "       1, 1, 2, 2, 2, 1, 2, 1, 1, 1, 2, 1, 1, 2, 2, 2, 1, 1, 1, 1, 1, 2, 1,\n",
       "       2, 2, 1, 1, 2, 2, 2, 2, 1, 2, 1, 2, 1, 2, 1, 1, 1, 1, 1, 2, 1, 1, 1,\n",
       "       1, 1, 1, 1, 2, 1, 2, 2, 1, 1, 1, 2, 1, 1, 1, 1, 1, 1, 2, 2, 2, 1, 1,\n",
       "       0])"
      ]
     },
     "execution_count": 159,
     "metadata": {},
     "output_type": "execute_result"
    }
   ],
   "source": [
    "assign_cluster(data2, init_centroids)"
   ]
  },
  {
   "cell_type": "code",
   "execution_count": 160,
   "metadata": {},
   "outputs": [
    {
     "data": {
      "text/html": [
       "<div>\n",
       "<style>\n",
       "    .dataframe thead tr:only-child th {\n",
       "        text-align: right;\n",
       "    }\n",
       "\n",
       "    .dataframe thead th {\n",
       "        text-align: left;\n",
       "    }\n",
       "\n",
       "    .dataframe tbody tr th {\n",
       "        vertical-align: top;\n",
       "    }\n",
       "</style>\n",
       "<table border=\"1\" class=\"dataframe\">\n",
       "  <thead>\n",
       "    <tr style=\"text-align: right;\">\n",
       "      <th></th>\n",
       "      <th>X1</th>\n",
       "      <th>X2</th>\n",
       "      <th>C</th>\n",
       "    </tr>\n",
       "  </thead>\n",
       "  <tbody>\n",
       "    <tr>\n",
       "      <th>0</th>\n",
       "      <td>1.842080</td>\n",
       "      <td>4.607572</td>\n",
       "      <td>0</td>\n",
       "    </tr>\n",
       "    <tr>\n",
       "      <th>1</th>\n",
       "      <td>5.658583</td>\n",
       "      <td>4.799964</td>\n",
       "      <td>1</td>\n",
       "    </tr>\n",
       "    <tr>\n",
       "      <th>2</th>\n",
       "      <td>6.352579</td>\n",
       "      <td>3.290854</td>\n",
       "      <td>2</td>\n",
       "    </tr>\n",
       "    <tr>\n",
       "      <th>3</th>\n",
       "      <td>2.904017</td>\n",
       "      <td>4.612204</td>\n",
       "      <td>0</td>\n",
       "    </tr>\n",
       "    <tr>\n",
       "      <th>4</th>\n",
       "      <td>3.231979</td>\n",
       "      <td>4.939894</td>\n",
       "      <td>0</td>\n",
       "    </tr>\n",
       "  </tbody>\n",
       "</table>\n",
       "</div>"
      ],
      "text/plain": [
       "         X1        X2  C\n",
       "0  1.842080  4.607572  0\n",
       "1  5.658583  4.799964  1\n",
       "2  6.352579  3.290854  2\n",
       "3  2.904017  4.612204  0\n",
       "4  3.231979  4.939894  0"
      ]
     },
     "execution_count": 160,
     "metadata": {},
     "output_type": "execute_result"
    }
   ],
   "source": [
    "C = assign_cluster(data2, init_centroids)\n",
    "data_with_c =combine_data_C(data2, C)\n",
    "data_with_c.head()"
   ]
  },
  {
   "cell_type": "markdown",
   "metadata": {},
   "source": [
    "See the first round clustering result"
   ]
  },
  {
   "cell_type": "code",
   "execution_count": 161,
   "metadata": {},
   "outputs": [
    {
     "data": {
      "image/png": "[encoded data removed]",
      "text/plain": [
       "<matplotlib.figure.Figure at 0x7f9d1a19b6d8>"
      ]
     },
     "metadata": {},
     "output_type": "display_data"
    }
   ],
   "source": [
    "sns.lmplot('X1', 'X2', hue='C', data=data_with_c, fit_reg=False)\n",
    "plt.show()"
   ]
  },
  {
   "cell_type": "markdown",
   "metadata": {},
   "source": [
    "# 2. calculate new centroid"
   ]
  },
  {
   "cell_type": "code",
   "execution_count": 162,
   "metadata": {},
   "outputs": [
    {
     "data": {
      "text/plain": [
       "array([[ 1.9208446 ,  4.41295148],\n",
       "       [ 4.27875579,  1.85818684],\n",
       "       [ 6.85182701,  3.00201087]])"
      ]
     },
     "execution_count": 162,
     "metadata": {},
     "output_type": "execute_result"
    }
   ],
   "source": [
    "data_with_c = combine_data_C(data2, C)\n",
    "\n",
    "data_with_c.groupby('C', as_index=False).\\\n",
    "                   mean().\\\n",
    "                   sort_values(by='C').\\\n",
    "                   drop('C', axis=1).\\\n",
    "                   as_matrix()"
   ]
  },
  {
   "cell_type": "code",
   "execution_count": 163,
   "metadata": {},
   "outputs": [
    {
     "data": {
      "text/plain": [
       "array([[ 1.9208446 ,  4.41295148],\n",
       "       [ 4.27875579,  1.85818684],\n",
       "       [ 6.85182701,  3.00201087]])"
      ]
     },
     "execution_count": 163,
     "metadata": {},
     "output_type": "execute_result"
    }
   ],
   "source": [
    "new_centroids(data2, C)"
   ]
  },
  {
   "cell_type": "code",
   "execution_count": 164,
   "metadata": {
    "collapsed": true
   },
   "outputs": [],
   "source": [
    "s = new_centroids(data2, C)\n",
    "s_expand = s[C]"
   ]
  },
  {
   "cell_type": "code",
   "execution_count": 165,
   "metadata": {},
   "outputs": [
    {
     "data": {
      "text/plain": [
       "1.3700196001647849"
      ]
     },
     "execution_count": 165,
     "metadata": {},
     "output_type": "execute_result"
    }
   ],
   "source": [
    "distances = np.apply_along_axis(func1d=np.linalg.norm,\n",
    "                                axis=1,\n",
    "                                arr=data2.as_matrix() - s_expand)\n",
    "distances.sum() / data2.shape[0]"
   ]
  },
  {
   "cell_type": "markdown",
   "metadata": {},
   "source": [
    "# putting all together, take1\n",
    "this is just 1 shot `k-means`, if the random init pick the bad starting centroids, the final clustering may be very sub-optimal"
   ]
  },
  {
   "cell_type": "code",
   "execution_count": 166,
   "metadata": {},
   "outputs": [
    {
     "name": "stdout",
     "output_type": "stream",
     "text": [
      "running epoch 0\n",
      "running epoch 1\n",
      "running epoch 2\n"
     ]
    }
   ],
   "source": [
    "final_C, final_centroid, _= _k_means_iter(data2, 3)\n",
    "data_with_c = combine_data_C(data2, final_C)"
   ]
  },
  {
   "cell_type": "code",
   "execution_count": 167,
   "metadata": {},
   "outputs": [
    {
     "data": {
      "image/png": "[encoded data removed]",
      "text/plain": [
       "<matplotlib.figure.Figure at 0x7f9d1a091dd8>"
      ]
     },
     "metadata": {},
     "output_type": "display_data"
    }
   ],
   "source": [
    "sns.lmplot('X1', 'X2', hue='C', data=data_with_c, fit_reg=False)\n",
    "plt.show()"
   ]
  },
  {
   "cell_type": "markdown",
   "metadata": {},
   "source": [
    "# calculate the cost"
   ]
  },
  {
   "cell_type": "code",
   "execution_count": 168,
   "metadata": {},
   "outputs": [
    {
     "data": {
      "text/plain": [
       "0.79417636337158704"
      ]
     },
     "execution_count": 168,
     "metadata": {},
     "output_type": "execute_result"
    }
   ],
   "source": [
    "cost(data2, final_centroid, final_C)"
   ]
  },
  {
   "cell_type": "markdown",
   "metadata": {},
   "source": [
    "# k-mean with multiple tries of randome init, pick the best one with least cost"
   ]
  },
  {
   "cell_type": "code",
   "execution_count": 169,
   "metadata": {},
   "outputs": [
    {
     "name": "stdout",
     "output_type": "stream",
     "text": [
      "running epoch 0\n",
      "running epoch 1\n",
      "running epoch 2\n",
      "running epoch 3\n",
      "running epoch 4\n",
      "running epoch 0\n",
      "running epoch 1\n",
      "running epoch 2\n",
      "running epoch 3\n",
      "running epoch 4\n",
      "running epoch 0\n",
      "running epoch 1\n",
      "running epoch 2\n",
      "running epoch 0\n",
      "running epoch 1\n",
      "running epoch 2\n",
      "running epoch 3\n",
      "running epoch 4\n",
      "running epoch 0\n",
      "running epoch 1\n",
      "running epoch 2\n",
      "running epoch 3\n",
      "running epoch 4\n",
      "running epoch 0\n",
      "running epoch 1\n",
      "running epoch 2\n",
      "running epoch 3\n",
      "running epoch 0\n",
      "running epoch 1\n",
      "running epoch 2\n",
      "running epoch 3\n",
      "running epoch 4\n",
      "running epoch 5\n",
      "running epoch 6\n",
      "running epoch 7\n",
      "running epoch 8\n",
      "running epoch 9\n",
      "running epoch 0\n",
      "running epoch 1\n",
      "running epoch 2\n",
      "running epoch 3\n",
      "running epoch 0\n",
      "running epoch 1\n",
      "running epoch 2\n",
      "running epoch 3\n",
      "running epoch 4\n",
      "running epoch 0\n",
      "running epoch 1\n",
      "running epoch 2\n",
      "running epoch 3\n"
     ]
    }
   ],
   "source": [
    "best_C, best_centroids, least_cost = k_means(data2, 3)"
   ]
  },
  {
   "cell_type": "code",
   "execution_count": 107,
   "metadata": {},
   "outputs": [
    {
     "data": {
      "text/plain": [
       "0.79417636337158704"
      ]
     },
     "execution_count": 107,
     "metadata": {},
     "output_type": "execute_result"
    }
   ],
   "source": [
    "least_cost"
   ]
  },
  {
   "cell_type": "code",
   "execution_count": 108,
   "metadata": {},
   "outputs": [
    {
     "data": {
      "image/png": "[encoded data removed]",
      "text/plain": [
       "<matplotlib.figure.Figure at 0x7f9d19ebdd30>"
      ]
     },
     "metadata": {},
     "output_type": "display_data"
    }
   ],
   "source": [
    "data_with_c = combine_data_C(data2, best_C)\n",
    "sns.lmplot('X1', 'X2', hue='C', data=data_with_c, fit_reg=False)\n",
    "plt.show()"
   ]
  },
  {
   "cell_type": "markdown",
   "metadata": {},
   "source": [
    "# try sklearn kmeans"
   ]
  },
  {
   "cell_type": "code",
   "execution_count": 109,
   "metadata": {
    "collapsed": true
   },
   "outputs": [],
   "source": [
    "from sklearn.cluster import KMeans"
   ]
  },
  {
   "cell_type": "code",
   "execution_count": 110,
   "metadata": {
    "collapsed": true
   },
   "outputs": [],
   "source": [
    "sk_kmeans = KMeans(n_clusters=3)"
   ]
  },
  {
   "cell_type": "code",
   "execution_count": 111,
   "metadata": {},
   "outputs": [
    {
     "data": {
      "text/plain": [
       "KMeans(algorithm='auto', copy_x=True, init='k-means++', max_iter=300,\n",
       "    n_clusters=3, n_init=10, n_jobs=1, precompute_distances='auto',\n",
       "    random_state=None, tol=0.0001, verbose=0)"
      ]
     },
     "execution_count": 111,
     "metadata": {},
     "output_type": "execute_result"
    }
   ],
   "source": [
    "sk_kmeans.fit(data2)"
   ]
  },
  {
   "cell_type": "code",
   "execution_count": 112,
   "metadata": {
    "collapsed": true
   },
   "outputs": [],
   "source": [
    "sk_C = sk_kmeans.predict(data2)"
   ]
  },
  {
   "cell_type": "code",
   "execution_count": 113,
   "metadata": {},
   "outputs": [
    {
     "data": {
      "image/png": "[encoded data removed]",
      "text/plain": [
       "<matplotlib.figure.Figure at 0x7f9d22c12f28>"
      ]
     },
     "metadata": {},
     "output_type": "display_data"
    }
   ],
   "source": [
    "data_with_c = combine_data_C(data2, sk_C)\n",
    "sns.lmplot('X1', 'X2', hue='C', data=data_with_c, fit_reg=False)\n",
    "plt.show()"
   ]
  },
  {
   "cell_type": "code",
   "execution_count": null,
   "metadata": {
    "collapsed": true
   },
   "outputs": [],
   "source": []
  }
 ],
 "metadata": {
  "anaconda-cloud": {},
  "kernelspec": {
   "display_name": "Python 3",
   "language": "python",
   "name": "python3"
  },
  "language_info": {
   "codemirror_mode": {
    "name": "ipython",
    "version": 3
   },
   "file_extension": ".py",
   "mimetype": "text/x-python",
   "name": "python",
   "nbconvert_exporter": "python",
   "pygments_lexer": "ipython3",
   "version": "3.6.4"
  }
 },
 "nbformat": 4,
 "nbformat_minor": 1
}
