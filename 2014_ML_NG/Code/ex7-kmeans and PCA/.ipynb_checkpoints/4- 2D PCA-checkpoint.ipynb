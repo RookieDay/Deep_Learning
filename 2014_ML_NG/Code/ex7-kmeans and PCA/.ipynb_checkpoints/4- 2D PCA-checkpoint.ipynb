{
 "cells": [
  {
   "cell_type": "markdown",
   "metadata": {},
   "source": [
    "# 4-二维的PCA"
   ]
  },
  {
   "cell_type": "code",
   "execution_count": 2,
   "metadata": {
    "collapsed": true
   },
   "outputs": [],
   "source": [
    "import matplotlib.pyplot as plt\n",
    "import seaborn as sns\n",
    "sns.set(context=\"notebook\", style=\"white\")\n",
    "\n",
    "import numpy as np\n",
    "import pandas as pd\n",
    "import scipy.io as sio"
   ]
  },
  {
   "cell_type": "markdown",
   "metadata": {},
   "source": [
    "# load data"
   ]
  },
  {
   "cell_type": "code",
   "execution_count": 3,
   "metadata": {
    "collapsed": true
   },
   "outputs": [],
   "source": [
    "def get_X(df):\n",
    "    \"\"\"\n",
    "    use concat to add intersect feature to avoid side effect\n",
    "    not efficient for big dataset though\n",
    "    \"\"\"\n",
    "    ones = pd.DataFrame({'ones': np.ones(len(df))})\n",
    "    data = pd.concat([ones, df], axis=1)  # column concat\n",
    "    return data.iloc[:, :-1].as_matrix()  # this return ndarray, not matrix\n",
    "\n",
    "\n",
    "def get_y(df):\n",
    "    '''assume the last column is the target'''\n",
    "    return np.array(df.iloc[:, -1])\n",
    "\n",
    "\n",
    "def normalize_feature(df):\n",
    "    \"\"\"Applies function along input axis(default 0) of DataFrame.\"\"\"\n",
    "    return df.apply(lambda column: (column - column.mean()) / column.std())\n"
   ]
  },
  {
   "cell_type": "code",
   "execution_count": 4,
   "metadata": {},
   "outputs": [
    {
     "name": "stdout",
     "output_type": "stream",
     "text": [
      "(50, 2)\n"
     ]
    }
   ],
   "source": [
    "mat = sio.loadmat('./data/ex7data1.mat')\n",
    "X = mat.get('X')\n",
    "\n",
    "# visualize raw data\n",
    "print(X.shape)"
   ]
  },
  {
   "cell_type": "code",
   "execution_count": 5,
   "metadata": {},
   "outputs": [
    {
     "data": {
      "text/plain": [
       "array([ 3.38156267,  3.38911268])"
      ]
     },
     "execution_count": 5,
     "metadata": {},
     "output_type": "execute_result"
    }
   ],
   "source": [
    "X[0]"
   ]
  },
  {
   "cell_type": "code",
   "execution_count": 6,
   "metadata": {},
   "outputs": [
    {
     "data": {
      "image/png": "[encoded data removed]",
      "text/plain": [
       "<matplotlib.figure.Figure at 0x7f2f60083630>"
      ]
     },
     "metadata": {},
     "output_type": "display_data"
    }
   ],
   "source": [
    "sns.lmplot('X1', 'X2', \n",
    "           data=pd.DataFrame(X, columns=['X1', 'X2']),\n",
    "           fit_reg=False)\n",
    "plt.show()"
   ]
  },
  {
   "cell_type": "markdown",
   "metadata": {},
   "source": [
    "# normalize data"
   ]
  },
  {
   "cell_type": "code",
   "execution_count": 17,
   "metadata": {
    "collapsed": true
   },
   "outputs": [],
   "source": [
    "# support functions ---------------------------------------\n",
    "def plot_n_image(X, n):\n",
    "    \"\"\" plot first n images\n",
    "    n has to be a square number\n",
    "    \"\"\"\n",
    "    pic_size = int(np.sqrt(X.shape[1]))\n",
    "    grid_size = int(np.sqrt(n))\n",
    "\n",
    "    first_n_images = X[:n, :]\n",
    "\n",
    "    fig, ax_array = plt.subplots(nrows=grid_size, ncols=grid_size,\n",
    "                                    sharey=True, sharex=True, figsize=(8, 8))\n",
    "\n",
    "    for r in range(grid_size):\n",
    "        for c in range(grid_size):\n",
    "            ax_array[r, c].imshow(first_n_images[grid_size * r + c].reshape((pic_size, pic_size)))\n",
    "            plt.xticks(np.array([]))\n",
    "            plt.yticks(np.array([]))\n",
    "\n",
    "\n",
    "# PCA functions ---------------------------------------\n",
    "def covariance_matrix(X):\n",
    "    \"\"\"\n",
    "    Args:\n",
    "        X (ndarray) (m, n)\n",
    "    Return:\n",
    "        cov_mat (ndarray) (n, n):\n",
    "            covariance matrix of X\n",
    "    \"\"\"\n",
    "#     计算协方差矩阵\n",
    "    m = X.shape[0]\n",
    "\n",
    "    return (X.T @ X) / m\n",
    "\n",
    "\n",
    "def normalize(X):\n",
    "    \"\"\"\n",
    "        for each column, X-mean / std\n",
    "    \"\"\"\n",
    "    X_copy = X.copy()\n",
    "    m, n = X_copy.shape\n",
    "    # 循环每一列数据减去均值，除以标准差 进而归一化数据\n",
    "    for col in range(n):\n",
    "        X_copy[:, col] = (X_copy[:, col] - X_copy[:, col].mean()) / X_copy[:, col].std()\n",
    "\n",
    "    return X_copy\n",
    "\n",
    "\n",
    "def pca(X):\n",
    "    \"\"\"\n",
    "    http://docs.scipy.org/doc/numpy/reference/generated/numpy.linalg.svd.html\n",
    "    Args:\n",
    "        X ndarray(m, n)\n",
    "    Returns:\n",
    "        U ndarray(n, n): principle components\n",
    "    \"\"\"\n",
    "    # 1. normalize data\n",
    "    X_norm = normalize(X)\n",
    "\n",
    "    # 2. calculate covariance matrix\n",
    "    Sigma = covariance_matrix(X_norm)  # (n, n)\n",
    "\n",
    "    # 3. do singular value decomposition\n",
    "    # remeber, we feed cov matrix in SVD, since the cov matrix is symmetry\n",
    "    # left sigular vector and right singular vector is the same, which means\n",
    "    # U is V, so we could use either one to do dim reduction\n",
    "    U, S, V = np.linalg.svd(Sigma)  # U: principle components (n, n)\n",
    "\n",
    "    return U, S, V\n",
    "\n",
    "\n",
    "def project_data(X, U, k):\n",
    "    \"\"\"\n",
    "    Args:\n",
    "        U (ndarray) (n, n)\n",
    "    Return:\n",
    "        projected X (n dim) at k dim\n",
    "    \"\"\"\n",
    "#     输出转换后的数据\n",
    "    m, n = X.shape\n",
    "\n",
    "    if k > n:\n",
    "        raise ValueError('k should be lower dimension of n')\n",
    "\n",
    "    return X @ U[:, :k]\n",
    "\n",
    "\n",
    "def recover_data(Z, U):\n",
    "    m, n = Z.shape\n",
    "\n",
    "    if n >= U.shape[0]:\n",
    "        raise ValueError('Z dimension is >= U, you should recover from lower dimension to higher')\n",
    "\n",
    "    return Z @ U[:, :n].T\n"
   ]
  },
  {
   "cell_type": "code",
   "execution_count": 18,
   "metadata": {},
   "outputs": [
    {
     "data": {
      "image/png": "[encoded data removed]",
      "text/plain": [
       "<matplotlib.figure.Figure at 0x7f2f57c67048>"
      ]
     },
     "metadata": {},
     "output_type": "display_data"
    }
   ],
   "source": [
    "X_norm = normalize(X)\n",
    "\n",
    "sns.lmplot('X1', 'X2', \n",
    "           data=pd.DataFrame(X_norm, columns=['X1', 'X2']),\n",
    "           fit_reg=False)\n",
    "plt.show()"
   ]
  },
  {
   "cell_type": "markdown",
   "metadata": {},
   "source": [
    "# covariance matrix $\\Sigma$\n",
    "<img style=\"float: left;\" src=\"./cov_mat.png\">"
   ]
  },
  {
   "cell_type": "markdown",
   "metadata": {},
   "source": [
    "this is biased sample covariance matrix, for unbiased version, you need to divide it by $m-1$"
   ]
  },
  {
   "cell_type": "code",
   "execution_count": 19,
   "metadata": {},
   "outputs": [
    {
     "data": {
      "text/plain": [
       "array([[ 1.        ,  0.73553038],\n",
       "       [ 0.73553038,  1.        ]])"
      ]
     },
     "execution_count": 19,
     "metadata": {},
     "output_type": "execute_result"
    }
   ],
   "source": [
    "Sigma =covariance_matrix(X_norm)  # capital greek Sigma\n",
    "Sigma  # (n, n)"
   ]
  },
  {
   "cell_type": "markdown",
   "metadata": {},
   "source": [
    "# PCA\n",
    "http://docs.scipy.org/doc/numpy/reference/generated/numpy.linalg.svd.html"
   ]
  },
  {
   "cell_type": "code",
   "execution_count": 20,
   "metadata": {
    "collapsed": true
   },
   "outputs": [],
   "source": [
    "U, S, V = pca(Sigma)"
   ]
  },
  {
   "cell_type": "code",
   "execution_count": 21,
   "metadata": {},
   "outputs": [
    {
     "data": {
      "text/plain": [
       "array([[-0.70710678,  0.70710678],\n",
       "       [ 0.70710678,  0.70710678]])"
      ]
     },
     "execution_count": 21,
     "metadata": {},
     "output_type": "execute_result"
    }
   ],
   "source": [
    "U"
   ]
  },
  {
   "cell_type": "code",
   "execution_count": 22,
   "metadata": {},
   "outputs": [
    {
     "data": {
      "text/plain": [
       "array([-0.70710678,  0.70710678])"
      ]
     },
     "execution_count": 22,
     "metadata": {},
     "output_type": "execute_result"
    }
   ],
   "source": [
    "u1 = U[0]\n",
    "u1"
   ]
  },
  {
   "cell_type": "markdown",
   "metadata": {},
   "source": [
    "# project data to lower dimension"
   ]
  },
  {
   "cell_type": "code",
   "execution_count": 23,
   "metadata": {},
   "outputs": [
    {
     "data": {
      "text/plain": [
       "array([[ -7.56236179e-01],\n",
       "       [  2.66246949e-01],\n",
       "       [  3.99681076e-01],\n",
       "       [ -1.53204655e-01],\n",
       "       [  1.18396192e-01],\n",
       "       [  1.09688934e+00],\n",
       "       [ -6.43506558e-01],\n",
       "       [  7.79600694e-04],\n",
       "       [  1.03513201e-01],\n",
       "       [  8.44267895e-02]])"
      ]
     },
     "execution_count": 23,
     "metadata": {},
     "output_type": "execute_result"
    }
   ],
   "source": [
    "# show top 10 projected data\n",
    "Z = project_data(X_norm, U, 1)\n",
    "Z[:10]"
   ]
  },
  {
   "cell_type": "code",
   "execution_count": 24,
   "metadata": {},
   "outputs": [
    {
     "data": {
      "text/plain": [
       "(50, 2)"
      ]
     },
     "execution_count": 24,
     "metadata": {},
     "output_type": "execute_result"
    }
   ],
   "source": [
    "X_norm.shape"
   ]
  },
  {
   "cell_type": "code",
   "execution_count": 25,
   "metadata": {},
   "outputs": [
    {
     "data": {
      "text/plain": [
       "(50, 1)"
      ]
     },
     "execution_count": 25,
     "metadata": {},
     "output_type": "execute_result"
    }
   ],
   "source": [
    "Z.shape"
   ]
  },
  {
   "cell_type": "markdown",
   "metadata": {},
   "source": [
    "http://stackoverflow.com/a/23973562/3943702"
   ]
  },
  {
   "cell_type": "code",
   "execution_count": 26,
   "metadata": {
    "scrolled": false
   },
   "outputs": [
    {
     "data": {
      "image/png": "[encoded data removed]",
      "text/plain": [
       "<matplotlib.figure.Figure at 0x7f2f6009ff28>"
      ]
     },
     "metadata": {},
     "output_type": "display_data"
    }
   ],
   "source": [
    "fig, (ax1, ax2) = plt.subplots(ncols=2, figsize=(12, 4))\n",
    "\n",
    "sns.regplot('X1', 'X2', \n",
    "           data=pd.DataFrame(X_norm, columns=['X1', 'X2']),\n",
    "           fit_reg=False,\n",
    "           ax=ax1)\n",
    "ax1.set_title('Original dimension')\n",
    "\n",
    "sns.rugplot(Z, ax=ax2)\n",
    "ax2.set_xlabel('Z')\n",
    "ax2.set_title('Z dimension')\n",
    "plt.show()"
   ]
  },
  {
   "cell_type": "markdown",
   "metadata": {},
   "source": [
    "# recover data to original dimension\n",
    "Of course, there would be inevitable information loss if you boost data from lower to higher dimension"
   ]
  },
  {
   "cell_type": "code",
   "execution_count": 28,
   "metadata": {},
   "outputs": [
    {
     "data": {
      "text/plain": [
       "(50, 1)"
      ]
     },
     "execution_count": 28,
     "metadata": {},
     "output_type": "execute_result"
    }
   ],
   "source": [
    "Z.shape"
   ]
  },
  {
   "cell_type": "code",
   "execution_count": 29,
   "metadata": {},
   "outputs": [
    {
     "data": {
      "text/plain": [
       "(50, 2)"
      ]
     },
     "execution_count": 29,
     "metadata": {},
     "output_type": "execute_result"
    }
   ],
   "source": [
    "recover_data(Z, U).shape"
   ]
  },
  {
   "cell_type": "code",
   "execution_count": 30,
   "metadata": {},
   "outputs": [
    {
     "data": {
      "text/plain": [
       "(50, 2)"
      ]
     },
     "execution_count": 30,
     "metadata": {},
     "output_type": "execute_result"
    }
   ],
   "source": [
    "X_norm.shape"
   ]
  },
  {
   "cell_type": "code",
   "execution_count": 22,
   "metadata": {},
   "outputs": [
    {
     "data": {
      "image/png": "[encoded data removed]",
      "text/plain": [
       "<matplotlib.figure.Figure at 0x651a780>"
      ]
     },
     "metadata": {},
     "output_type": "display_data"
    }
   ],
   "source": [
    "X_recover = recover_data(Z, U)\n",
    "\n",
    "fig, (ax1, ax2, ax3) = plt.subplots(ncols=3, figsize=(12, 4))\n",
    "\n",
    "sns.rugplot(Z, ax=ax1)\n",
    "ax1.set_title('Z dimension')\n",
    "ax1.set_xlabel('Z')\n",
    "\n",
    "sns.regplot('X1', 'X2', \n",
    "           data=pd.DataFrame(X_recover, columns=['X1', 'X2']),\n",
    "           fit_reg=False,\n",
    "           ax=ax2)\n",
    "ax2.set_title(\"2D projection from Z\")\n",
    "\n",
    "sns.regplot('X1', 'X2', \n",
    "           data=pd.DataFrame(X_norm, columns=['X1', 'X2']),\n",
    "           fit_reg=False,\n",
    "           ax=ax3)\n",
    "ax3.set_title('Original dimension')\n",
    "plt.show()"
   ]
  },
  {
   "cell_type": "markdown",
   "metadata": {},
   "source": [
    "### the projection from `(X1, X2)` to `Z` could be visualized like this"
   ]
  },
  {
   "cell_type": "markdown",
   "metadata": {},
   "source": [
    "<img style=\"float: central;\" src=\"./pca_projection.png\">"
   ]
  },
  {
   "cell_type": "code",
   "execution_count": null,
   "metadata": {
    "collapsed": true
   },
   "outputs": [],
   "source": []
  }
 ],
 "metadata": {
  "anaconda-cloud": {},
  "kernelspec": {
   "display_name": "Python 3",
   "language": "python",
   "name": "python3"
  },
  "language_info": {
   "codemirror_mode": {
    "name": "ipython",
    "version": 3
   },
   "file_extension": ".py",
   "mimetype": "text/x-python",
   "name": "python",
   "nbconvert_exporter": "python",
   "pygments_lexer": "ipython3",
   "version": "3.6.4"
  }
 },
 "nbformat": 4,
 "nbformat_minor": 1
}
