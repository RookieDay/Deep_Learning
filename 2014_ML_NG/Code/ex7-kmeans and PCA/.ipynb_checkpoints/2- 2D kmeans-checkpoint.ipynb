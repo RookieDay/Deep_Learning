{
 "cells": [
  {
   "cell_type": "markdown",
   "metadata": {},
   "source": [
    "# 2-2维kmeans"
   ]
  },
  {
   "cell_type": "code",
   "execution_count": 1,
   "metadata": {
    "collapsed": true
   },
   "outputs": [],
   "source": [
    "import matplotlib.pyplot as plt\n",
    "import seaborn as sns\n",
    "\n",
    "import numpy as np\n",
    "import pandas as pd\n",
    "import scipy.io as sio"
   ]
  },
  {
   "cell_type": "code",
   "execution_count": 2,
   "metadata": {},
   "outputs": [
    {
     "name": "stdout",
     "output_type": "stream",
     "text": [
      "         X1        X2\n",
      "0  1.842080  4.607572\n",
      "1  5.658583  4.799964\n",
      "2  6.352579  3.290854\n",
      "3  2.904017  4.612204\n",
      "4  3.231979  4.939894\n"
     ]
    },
    {
     "data": {
      "image/png": "[encoded data removed]",
      "text/plain": [
       "<matplotlib.figure.Figure at 0x7fa0416b5160>"
      ]
     },
     "metadata": {},
     "output_type": "display_data"
    }
   ],
   "source": [
    "mat = sio.loadmat('./data/ex7data2.mat')\n",
    "data2 = pd.DataFrame(mat.get('X'), columns=['X1', 'X2'])\n",
    "print(data2.head())\n",
    "\n",
    "sns.set(context=\"notebook\", style=\"white\")\n",
    "sns.lmplot('X1', 'X2', data=data2, fit_reg=False)\n",
    "plt.show()"
   ]
  },
  {
   "cell_type": "markdown",
   "metadata": {},
   "source": [
    "# 0. random init\n",
    "for initial centroids"
   ]
  },
  {
   "cell_type": "code",
   "execution_count": 58,
   "metadata": {
    "collapsed": true
   },
   "outputs": [],
   "source": [
    "def combine_data_C(data, C):\n",
    "#     将原数据和新增的一列 c 进行组合\n",
    "    data_with_c = data.copy()\n",
    "    data_with_c['C'] = C\n",
    "    return data_with_c\n",
    "\n",
    "\n",
    "# k-means fn --------------------------------\n",
    "def random_init(data, k):\n",
    "    \"\"\"choose k sample from data set as init centroids\n",
    "    Args:\n",
    "        data: DataFrame\n",
    "        k: int\n",
    "    Returns:\n",
    "        k samples: ndarray\n",
    "    \"\"\"\n",
    "#     data中随机选择k行数据 并且转化为矩阵\n",
    "    return data.sample(k).as_matrix()\n",
    "\n",
    "\n",
    "#x -- 传入的’X'的坐标位置\n",
    "# centroids 处理的点 计算与X的距离\n",
    "def _find_your_cluster(x, centroids):\n",
    "    \"\"\"find the right cluster for x with respect to shortest distance\n",
    "    Args:\n",
    "        x: ndarray (n, ) -> n features\n",
    "        centroids: ndarray (k, n)\n",
    "    Returns:\n",
    "        k: int\n",
    "    \"\"\"\n",
    "    # 返回的是一个根据func()函数以及维度axis运算后得到的的数组.\n",
    "    distances = np.apply_along_axis(func1d=np.linalg.norm,  # this give you l2 norm\n",
    "                                    axis=1,\n",
    "                                    arr=init_centroids - x)  # use ndarray's broadcast\n",
    "    return np.argmin(distances)  #代表使得distances取得最小值的x的自变量x的值\n",
    "\n",
    "\n",
    "def assign_cluster(data, centroids):\n",
    "    \"\"\"assign cluster for each node in data\n",
    "    return C ndarray\n",
    "    \"\"\"\n",
    "#     load进来的每一行数据传入 lambda函数 _find_your_cluster \n",
    "# 当前的这个点x与 上面定义的 三个聚类点centroids 计算距离 ，并打上标签  是和第几个的聚类点近 返回 标签\n",
    "    return np.apply_along_axis(lambda x: _find_your_cluster(x, centroids),\n",
    "                               axis=1,\n",
    "                               arr=data.as_matrix())\n",
    "\n",
    "\n",
    "def new_centroids(data, C):\n",
    "    data_with_c = combine_data_C(data, C)\n",
    "\n",
    "    return data_with_c.groupby('C', as_index=False).\\\n",
    "                       mean().\\\n",
    "                       sort_values(by='C').\\\n",
    "                       drop('C', axis=1).\\\n",
    "                       as_matrix()\n",
    "\n",
    "\n",
    "def cost(data, centroids, C):\n",
    "    m = data.shape[0]\n",
    "\n",
    "    expand_C_with_centroids = centroids[C]\n",
    "\n",
    "    distances = np.apply_along_axis(func1d=np.linalg.norm,\n",
    "                                    axis=1,\n",
    "                                    arr=data.as_matrix() - expand_C_with_centroids)\n",
    "    return distances.sum() / m\n",
    "\n",
    "\n",
    "def _k_means_iter(data, k, epoch=100, tol=0.0001):\n",
    "    \"\"\"one shot k-means\n",
    "    with early break\n",
    "    \"\"\"\n",
    "    centroids = random_init(data, k)\n",
    "    cost_progress = []\n",
    "\n",
    "    for i in range(epoch):\n",
    "        print('running epoch {}'.format(i))\n",
    "\n",
    "        C = assign_cluster(data, centroids)\n",
    "        centroids = new_centroids(data, C)\n",
    "        cost_progress.append(cost(data, centroids, C))\n",
    "\n",
    "        if len(cost_progress) > 1:  # early break\n",
    "            if (np.abs(cost_progress[-1] - cost_progress[-2])) / cost_progress[-1] < tol:\n",
    "                break\n",
    "\n",
    "    return C, centroids, cost_progress[-1]\n",
    "\n",
    "\n",
    "def k_means(data, k, epoch=100, n_init=10):\n",
    "    \"\"\"do multiple random init and pick the best one to return\n",
    "    Args:\n",
    "        data (pd.DataFrame)\n",
    "    Returns:\n",
    "        (C, centroids, least_cost)\n",
    "    \"\"\"\n",
    "\n",
    "    tries = np.array([_k_means_iter(data, k, epoch) for _ in range(n_init)])\n",
    "\n",
    "    least_cost_idx = np.argmin(tries[:, -1])\n",
    "\n",
    "    return tries[least_cost_idx]\n"
   ]
  },
  {
   "cell_type": "code",
   "execution_count": 59,
   "metadata": {},
   "outputs": [
    {
     "data": {
      "text/plain": [
       "array([[ 5.32615581,  3.03314047],\n",
       "       [ 2.66046572,  5.19623848],\n",
       "       [ 4.88804332,  5.50670795]])"
      ]
     },
     "execution_count": 59,
     "metadata": {},
     "output_type": "execute_result"
    }
   ],
   "source": [
    "random_init(data2, 3)"
   ]
  },
  {
   "cell_type": "code",
   "execution_count": 60,
   "metadata": {},
   "outputs": [
    {
     "data": {
      "text/html": [
       "<div>\n",
       "<style>\n",
       "    .dataframe thead tr:only-child th {\n",
       "        text-align: right;\n",
       "    }\n",
       "\n",
       "    .dataframe thead th {\n",
       "        text-align: left;\n",
       "    }\n",
       "\n",
       "    .dataframe tbody tr th {\n",
       "        vertical-align: top;\n",
       "    }\n",
       "</style>\n",
       "<table border=\"1\" class=\"dataframe\">\n",
       "  <thead>\n",
       "    <tr style=\"text-align: right;\">\n",
       "      <th></th>\n",
       "      <th>X1</th>\n",
       "      <th>X2</th>\n",
       "    </tr>\n",
       "  </thead>\n",
       "  <tbody>\n",
       "    <tr>\n",
       "      <th>92</th>\n",
       "      <td>0.177835</td>\n",
       "      <td>5.297650</td>\n",
       "    </tr>\n",
       "    <tr>\n",
       "      <th>238</th>\n",
       "      <td>5.887356</td>\n",
       "      <td>3.346156</td>\n",
       "    </tr>\n",
       "    <tr>\n",
       "      <th>284</th>\n",
       "      <td>6.232289</td>\n",
       "      <td>2.728509</td>\n",
       "    </tr>\n",
       "    <tr>\n",
       "      <th>267</th>\n",
       "      <td>4.956794</td>\n",
       "      <td>2.897763</td>\n",
       "    </tr>\n",
       "    <tr>\n",
       "      <th>287</th>\n",
       "      <td>6.624473</td>\n",
       "      <td>2.744537</td>\n",
       "    </tr>\n",
       "  </tbody>\n",
       "</table>\n",
       "</div>"
      ],
      "text/plain": [
       "           X1        X2\n",
       "92   0.177835  5.297650\n",
       "238  5.887356  3.346156\n",
       "284  6.232289  2.728509\n",
       "267  4.956794  2.897763\n",
       "287  6.624473  2.744537"
      ]
     },
     "execution_count": 60,
     "metadata": {},
     "output_type": "execute_result"
    }
   ],
   "source": [
    "data2.sample(5)"
   ]
  },
  {
   "cell_type": "markdown",
   "metadata": {},
   "source": [
    "# 1. cluster assignment\n",
    "http://stackoverflow.com/questions/14432557/matplotlib-scatter-plot-with-different-text-at-each-data-point"
   ]
  },
  {
   "cell_type": "markdown",
   "metadata": {},
   "source": [
    "### find closest cluster experiment"
   ]
  },
  {
   "cell_type": "code",
   "execution_count": 64,
   "metadata": {},
   "outputs": [
    {
     "data": {
      "text/plain": [
       "array([[ 6.72798098,  3.0043983 ],\n",
       "       [ 4.18450011,  0.45356203],\n",
       "       [ 2.1159935 ,  0.7930365 ]])"
      ]
     },
     "execution_count": 64,
     "metadata": {},
     "output_type": "execute_result"
    }
   ],
   "source": [
    "init_centroids = random_init(data2, 3)\n",
    "init_centroids"
   ]
  },
  {
   "cell_type": "code",
   "execution_count": 65,
   "metadata": {
    "collapsed": true
   },
   "outputs": [],
   "source": [
    "x = np.array([1, 1])"
   ]
  },
  {
   "cell_type": "code",
   "execution_count": 66,
   "metadata": {},
   "outputs": [
    {
     "data": {
      "image/png": "[encoded data removed]",
      "text/plain": [
       "<matplotlib.figure.Figure at 0x7fa0397e3f60>"
      ]
     },
     "metadata": {},
     "output_type": "display_data"
    }
   ],
   "source": [
    "fig, ax = plt.subplots(figsize=(6,4))\n",
    "ax.scatter(x=init_centroids[:, 0], y=init_centroids[:, 1])\n",
    "\n",
    "for i, node in enumerate(init_centroids):\n",
    "    ax.annotate('{}: ({},{})'.format(i, node[0], node[1]), node)\n",
    "    \n",
    "# 在(1,1) 处标记‘X'\n",
    "ax.scatter(x[0], x[1], marker='x', s=200)\n",
    "plt.show()"
   ]
  },
  {
   "cell_type": "code",
   "execution_count": 67,
   "metadata": {},
   "outputs": [
    {
     "data": {
      "text/plain": [
       "array([[ 5.72798098,  2.0043983 ],\n",
       "       [ 3.18450011, -0.54643797],\n",
       "       [ 1.1159935 , -0.2069635 ]])"
      ]
     },
     "execution_count": 67,
     "metadata": {},
     "output_type": "execute_result"
    }
   ],
   "source": [
    "init_centroids - x"
   ]
  },
  {
   "cell_type": "code",
   "execution_count": 68,
   "metadata": {},
   "outputs": [
    {
     "data": {
      "text/plain": [
       "2"
      ]
     },
     "execution_count": 68,
     "metadata": {},
     "output_type": "execute_result"
    }
   ],
   "source": [
    "_find_your_cluster(x, init_centroids)"
   ]
  },
  {
   "cell_type": "markdown",
   "metadata": {},
   "source": [
    "### 1 epoch cluster assigning"
   ]
  },
  {
   "cell_type": "code",
   "execution_count": 69,
   "metadata": {},
   "outputs": [
    {
     "data": {
      "text/plain": [
       "array([ 1.84207953,  4.6075716 ])"
      ]
     },
     "execution_count": 69,
     "metadata": {},
     "output_type": "execute_result"
    }
   ],
   "source": [
    "data2.as_matrix()[0]"
   ]
  },
  {
   "cell_type": "code",
   "execution_count": 70,
   "metadata": {},
   "outputs": [
    {
     "data": {
      "text/plain": [
       "array([2, 0, 0, 2, 0, 2, 2, 2, 2, 2, 2, 2, 2, 2, 2, 2, 0, 2, 2, 0, 2, 0, 2,\n",
       "       2, 2, 2, 0, 2, 2, 2, 2, 2, 2, 0, 2, 2, 2, 2, 2, 2, 2, 2, 0, 2, 2, 0,\n",
       "       2, 0, 2, 2, 2, 2, 0, 0, 0, 0, 2, 2, 2, 2, 2, 2, 2, 2, 2, 2, 2, 2, 2,\n",
       "       2, 2, 2, 2, 2, 2, 2, 2, 2, 2, 2, 2, 2, 2, 2, 0, 2, 2, 2, 2, 0, 0, 2,\n",
       "       2, 2, 2, 0, 2, 2, 2, 2, 1, 2, 1, 2, 1, 2, 1, 1, 2, 1, 2, 2, 2, 1, 2,\n",
       "       2, 2, 2, 1, 2, 1, 1, 1, 1, 1, 2, 2, 1, 2, 2, 1, 1, 2, 2, 2, 2, 2, 2,\n",
       "       1, 1, 1, 1, 1, 2, 2, 1, 1, 1, 2, 2, 2, 2, 2, 2, 2, 2, 2, 2, 1, 1, 1,\n",
       "       1, 2, 1, 2, 2, 2, 2, 2, 1, 2, 1, 2, 1, 1, 2, 1, 1, 2, 2, 2, 2, 2, 1,\n",
       "       1, 1, 2, 1, 2, 2, 2, 2, 2, 1, 2, 2, 1, 2, 2, 2, 0, 0, 0, 0, 0, 0, 0,\n",
       "       0, 0, 0, 0, 0, 0, 0, 0, 0, 0, 0, 0, 0, 0, 0, 0, 0, 0, 0, 0, 0, 0, 0,\n",
       "       0, 0, 0, 0, 0, 0, 0, 0, 0, 1, 0, 1, 0, 0, 0, 0, 0, 0, 0, 0, 0, 0, 0,\n",
       "       0, 0, 0, 0, 0, 0, 0, 0, 0, 0, 0, 0, 2, 0, 0, 0, 0, 0, 0, 0, 1, 0, 0,\n",
       "       0, 0, 0, 0, 0, 0, 0, 0, 0, 0, 0, 0, 0, 0, 0, 0, 0, 0, 0, 0, 0, 0, 0,\n",
       "       2])"
      ]
     },
     "execution_count": 70,
     "metadata": {},
     "output_type": "execute_result"
    }
   ],
   "source": [
    "assign_cluster(data2, init_centroids)"
   ]
  },
  {
   "cell_type": "code",
   "execution_count": 72,
   "metadata": {},
   "outputs": [
    {
     "data": {
      "text/html": [
       "<div>\n",
       "<style>\n",
       "    .dataframe thead tr:only-child th {\n",
       "        text-align: right;\n",
       "    }\n",
       "\n",
       "    .dataframe thead th {\n",
       "        text-align: left;\n",
       "    }\n",
       "\n",
       "    .dataframe tbody tr th {\n",
       "        vertical-align: top;\n",
       "    }\n",
       "</style>\n",
       "<table border=\"1\" class=\"dataframe\">\n",
       "  <thead>\n",
       "    <tr style=\"text-align: right;\">\n",
       "      <th></th>\n",
       "      <th>X1</th>\n",
       "      <th>X2</th>\n",
       "      <th>C</th>\n",
       "    </tr>\n",
       "  </thead>\n",
       "  <tbody>\n",
       "    <tr>\n",
       "      <th>0</th>\n",
       "      <td>1.842080</td>\n",
       "      <td>4.607572</td>\n",
       "      <td>2</td>\n",
       "    </tr>\n",
       "    <tr>\n",
       "      <th>1</th>\n",
       "      <td>5.658583</td>\n",
       "      <td>4.799964</td>\n",
       "      <td>0</td>\n",
       "    </tr>\n",
       "    <tr>\n",
       "      <th>2</th>\n",
       "      <td>6.352579</td>\n",
       "      <td>3.290854</td>\n",
       "      <td>0</td>\n",
       "    </tr>\n",
       "    <tr>\n",
       "      <th>3</th>\n",
       "      <td>2.904017</td>\n",
       "      <td>4.612204</td>\n",
       "      <td>2</td>\n",
       "    </tr>\n",
       "    <tr>\n",
       "      <th>4</th>\n",
       "      <td>3.231979</td>\n",
       "      <td>4.939894</td>\n",
       "      <td>0</td>\n",
       "    </tr>\n",
       "  </tbody>\n",
       "</table>\n",
       "</div>"
      ],
      "text/plain": [
       "         X1        X2  C\n",
       "0  1.842080  4.607572  2\n",
       "1  5.658583  4.799964  0\n",
       "2  6.352579  3.290854  0\n",
       "3  2.904017  4.612204  2\n",
       "4  3.231979  4.939894  0"
      ]
     },
     "execution_count": 72,
     "metadata": {},
     "output_type": "execute_result"
    }
   ],
   "source": [
    "C = assign_cluster(data2, init_centroids)\n",
    "data_with_c =combine_data_C(data2, C)\n",
    "data_with_c.head()"
   ]
  },
  {
   "cell_type": "markdown",
   "metadata": {},
   "source": [
    "See the first round clustering result"
   ]
  },
  {
   "cell_type": "code",
   "execution_count": 76,
   "metadata": {},
   "outputs": [
    {
     "data": {
      "image/png": "[encoded data removed]",
      "text/plain": [
       "<matplotlib.figure.Figure at 0x7fa03945c438>"
      ]
     },
     "metadata": {},
     "output_type": "display_data"
    }
   ],
   "source": [
    "sns.lmplot('X1', 'X2', hue='C', data=data_with_c, fit_reg=False)\n",
    "plt.show()"
   ]
  },
  {
   "cell_type": "markdown",
   "metadata": {},
   "source": [
    "# 2. calculate new centroid"
   ]
  },
  {
   "cell_type": "code",
   "execution_count": 11,
   "metadata": {},
   "outputs": [
    {
     "data": {
      "text/plain": [
       "array([[ 4.73487723,  2.0353857 ],\n",
       "       [ 4.29404584,  5.07873879],\n",
       "       [ 1.84130773,  4.50996357]])"
      ]
     },
     "execution_count": 11,
     "metadata": {},
     "output_type": "execute_result"
    }
   ],
   "source": [
    "new_centroids(data2, C)"
   ]
  },
  {
   "cell_type": "markdown",
   "metadata": {},
   "source": [
    "# putting all together, take1\n",
    "this is just 1 shot `k-means`, if the random init pick the bad starting centroids, the final clustering may be very sub-optimal"
   ]
  },
  {
   "cell_type": "code",
   "execution_count": 12,
   "metadata": {},
   "outputs": [
    {
     "name": "stdout",
     "output_type": "stream",
     "text": [
      "running epoch 0\n",
      "running epoch 1\n",
      "running epoch 2\n",
      "running epoch 3\n",
      "running epoch 4\n",
      "running epoch 5\n",
      "running epoch 6\n",
      "running epoch 7\n"
     ]
    }
   ],
   "source": [
    "final_C, final_centroid, _= _k_means_iter(data2, 3)\n",
    "data_with_c = combine_data_C(data2, final_C)"
   ]
  },
  {
   "cell_type": "code",
   "execution_count": 13,
   "metadata": {},
   "outputs": [
    {
     "data": {
      "image/png": "[encoded data removed]",
      "text/plain": [
       "<matplotlib.figure.Figure at 0xb8ab9b0>"
      ]
     },
     "metadata": {},
     "output_type": "display_data"
    }
   ],
   "source": [
    "sns.lmplot('X1', 'X2', hue='C', data=data_with_c, fit_reg=False)\n",
    "plt.show()"
   ]
  },
  {
   "cell_type": "markdown",
   "metadata": {},
   "source": [
    "# calculate the cost"
   ]
  },
  {
   "cell_type": "code",
   "execution_count": 14,
   "metadata": {},
   "outputs": [
    {
     "data": {
      "text/plain": [
       "0.79417636337158704"
      ]
     },
     "execution_count": 14,
     "metadata": {},
     "output_type": "execute_result"
    }
   ],
   "source": [
    "cost(data2, final_centroid, final_C)"
   ]
  },
  {
   "cell_type": "markdown",
   "metadata": {},
   "source": [
    "# k-mean with multiple tries of randome init, pick the best one with least cost"
   ]
  },
  {
   "cell_type": "code",
   "execution_count": 15,
   "metadata": {},
   "outputs": [
    {
     "name": "stdout",
     "output_type": "stream",
     "text": [
      "running epoch 0\n",
      "running epoch 1\n",
      "running epoch 2\n",
      "running epoch 0\n",
      "running epoch 1\n",
      "running epoch 2\n",
      "running epoch 3\n",
      "running epoch 4\n",
      "running epoch 0\n",
      "running epoch 1\n",
      "running epoch 2\n",
      "running epoch 3\n",
      "running epoch 4\n",
      "running epoch 5\n",
      "running epoch 6\n",
      "running epoch 0\n",
      "running epoch 1\n",
      "running epoch 2\n",
      "running epoch 0\n",
      "running epoch 1\n",
      "running epoch 2\n",
      "running epoch 3\n",
      "running epoch 4\n",
      "running epoch 5\n",
      "running epoch 0\n",
      "running epoch 1\n",
      "running epoch 2\n",
      "running epoch 3\n",
      "running epoch 0\n",
      "running epoch 1\n",
      "running epoch 2\n",
      "running epoch 0\n",
      "running epoch 1\n",
      "running epoch 2\n",
      "running epoch 3\n",
      "running epoch 4\n",
      "running epoch 5\n",
      "running epoch 6\n",
      "running epoch 7\n",
      "running epoch 8\n",
      "running epoch 0\n",
      "running epoch 1\n",
      "running epoch 2\n",
      "running epoch 3\n",
      "running epoch 4\n",
      "running epoch 5\n",
      "running epoch 6\n",
      "running epoch 7\n",
      "running epoch 0\n",
      "running epoch 1\n",
      "running epoch 2\n",
      "running epoch 3\n",
      "running epoch 4\n",
      "running epoch 5\n"
     ]
    }
   ],
   "source": [
    "best_C, best_centroids, least_cost = k_means(data2, 3)"
   ]
  },
  {
   "cell_type": "code",
   "execution_count": 16,
   "metadata": {},
   "outputs": [
    {
     "data": {
      "text/plain": [
       "0.79417636337158704"
      ]
     },
     "execution_count": 16,
     "metadata": {},
     "output_type": "execute_result"
    }
   ],
   "source": [
    "least_cost"
   ]
  },
  {
   "cell_type": "code",
   "execution_count": 17,
   "metadata": {},
   "outputs": [
    {
     "data": {
      "image/png": "[encoded data removed]",
      "text/plain": [
       "<matplotlib.figure.Figure at 0xb9d7d68>"
      ]
     },
     "metadata": {},
     "output_type": "display_data"
    }
   ],
   "source": [
    "data_with_c = combine_data_C(data2, best_C)\n",
    "sns.lmplot('X1', 'X2', hue='C', data=data_with_c, fit_reg=False)\n",
    "plt.show()"
   ]
  },
  {
   "cell_type": "markdown",
   "metadata": {},
   "source": [
    "# try sklearn kmeans"
   ]
  },
  {
   "cell_type": "code",
   "execution_count": 18,
   "metadata": {
    "collapsed": true
   },
   "outputs": [],
   "source": [
    "from sklearn.cluster import KMeans"
   ]
  },
  {
   "cell_type": "code",
   "execution_count": 19,
   "metadata": {
    "collapsed": true
   },
   "outputs": [],
   "source": [
    "sk_kmeans = KMeans(n_clusters=3)"
   ]
  },
  {
   "cell_type": "code",
   "execution_count": 20,
   "metadata": {},
   "outputs": [
    {
     "data": {
      "text/plain": [
       "KMeans(algorithm='auto', copy_x=True, init='k-means++', max_iter=300,\n",
       "    n_clusters=3, n_init=10, n_jobs=1, precompute_distances='auto',\n",
       "    random_state=None, tol=0.0001, verbose=0)"
      ]
     },
     "execution_count": 20,
     "metadata": {},
     "output_type": "execute_result"
    }
   ],
   "source": [
    "sk_kmeans.fit(data2)"
   ]
  },
  {
   "cell_type": "code",
   "execution_count": 21,
   "metadata": {
    "collapsed": true
   },
   "outputs": [],
   "source": [
    "sk_C = sk_kmeans.predict(data2)"
   ]
  },
  {
   "cell_type": "code",
   "execution_count": 22,
   "metadata": {},
   "outputs": [
    {
     "data": {
      "image/png": "[encoded data removed]",
      "text/plain": [
       "<matplotlib.figure.Figure at 0xbcfd438>"
      ]
     },
     "metadata": {},
     "output_type": "display_data"
    }
   ],
   "source": [
    "data_with_c = combine_data_C(data2, sk_C)\n",
    "sns.lmplot('X1', 'X2', hue='C', data=data_with_c, fit_reg=False)\n",
    "plt.show()"
   ]
  }
 ],
 "metadata": {
  "anaconda-cloud": {},
  "kernelspec": {
   "display_name": "Python 3",
   "language": "python",
   "name": "python3"
  },
  "language_info": {
   "codemirror_mode": {
    "name": "ipython",
    "version": 3
   },
   "file_extension": ".py",
   "mimetype": "text/x-python",
   "name": "python",
   "nbconvert_exporter": "python",
   "pygments_lexer": "ipython3",
   "version": "3.6.4"
  }
 },
 "nbformat": 4,
 "nbformat_minor": 1
}
