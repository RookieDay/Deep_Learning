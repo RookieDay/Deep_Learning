{
 "cells": [
  {
   "cell_type": "markdown",
   "metadata": {},
   "source": [
    "# 2-推荐系统"
   ]
  },
  {
   "cell_type": "code",
   "execution_count": 24,
   "metadata": {
    "collapsed": true
   },
   "outputs": [],
   "source": [
    "import matplotlib.pyplot as plt\n",
    "import seaborn as sns\n",
    "sns.set(context=\"notebook\", style=\"white\", palette=sns.color_palette(\"RdBu\"))\n",
    "import numpy as np\n",
    "import pandas as pd\n",
    "import scipy.io as sio"
   ]
  },
  {
   "cell_type": "markdown",
   "metadata": {},
   "source": [
    "# load data and setting up"
   ]
  },
  {
   "cell_type": "raw",
   "metadata": {},
   "source": [
    "% Notes: X - num_movies (1682)  x num_features (10) matrix of movie features  \n",
    "%        Theta - num_users (943)  x num_features (10) matrix of user features  \n",
    "%        Y - num_movies x num_users matrix of user ratings of movies  \n",
    "%        R - num_movies x num_users matrix, where R(i, j) = 1 if the  \n",
    "%            i-th movie was rated by the j-th user  "
   ]
  },
  {
   "cell_type": "code",
   "execution_count": 136,
   "metadata": {
    "collapsed": true
   },
   "outputs": [],
   "source": [
    "# Notes: X - num_movies (1682)  x num_features (10) matrix of movie features   电影数量*电影特征值\n",
    "#        Theta - num_users (943)  x num_features (10) matrix of user features  用户数量*用户特征值\n",
    "#        Y - num_movies x num_users matrix of user ratings of movies           电影数量*用户比分 用户j给电影i评分\n",
    "#        R - num_movies x num_users matrix, where R(i, j) = 1 if the           电影数量*用户数  用户j给电影i评分了R(i,j)=1 \n",
    "#            i-th movie was rated by the j-th user  "
   ]
  },
  {
   "cell_type": "code",
   "execution_count": 137,
   "metadata": {},
   "outputs": [
    {
     "data": {
      "text/plain": [
       "((1682, 943), (1682, 943))"
      ]
     },
     "execution_count": 137,
     "metadata": {},
     "output_type": "execute_result"
    }
   ],
   "source": [
    "movies_mat = sio.loadmat('./data/ex8_movies.mat')\n",
    "Y, R = movies_mat.get('Y'), movies_mat.get('R')\n",
    "\n",
    "Y.shape, R.shape"
   ]
  },
  {
   "cell_type": "code",
   "execution_count": 138,
   "metadata": {},
   "outputs": [
    {
     "data": {
      "text/plain": [
       "array([5, 4, 0, 0, 4, 4, 0, 0, 0, 4], dtype=uint8)"
      ]
     },
     "execution_count": 138,
     "metadata": {},
     "output_type": "execute_result"
    }
   ],
   "source": [
    "Y[0][:10]  #用户对电影的评分情况"
   ]
  },
  {
   "cell_type": "code",
   "execution_count": 139,
   "metadata": {},
   "outputs": [
    {
     "data": {
      "text/plain": [
       "array([1, 1, 0, 0, 1, 1, 0, 0, 0, 1], dtype=uint8)"
      ]
     },
     "execution_count": 139,
     "metadata": {},
     "output_type": "execute_result"
    }
   ],
   "source": [
    "R[0][:10] #用户对i是否评分"
   ]
  },
  {
   "cell_type": "markdown",
   "metadata": {},
   "source": [
    "<img style=\"float: left;\" src=\"./rcmd_list.png\">"
   ]
  },
  {
   "cell_type": "code",
   "execution_count": 140,
   "metadata": {
    "collapsed": true
   },
   "outputs": [],
   "source": [
    "m, u = Y.shape\n",
    "# m: how many movies\n",
    "# u: how many users\n",
    "\n",
    "n = 10  # how many features for a movie"
   ]
  },
  {
   "cell_type": "code",
   "execution_count": 141,
   "metadata": {},
   "outputs": [
    {
     "data": {
      "text/plain": [
       "1682"
      ]
     },
     "execution_count": 141,
     "metadata": {},
     "output_type": "execute_result"
    }
   ],
   "source": [
    "m"
   ]
  },
  {
   "cell_type": "code",
   "execution_count": 142,
   "metadata": {},
   "outputs": [
    {
     "data": {
      "text/plain": [
       "((943, 10), (1682, 10))"
      ]
     },
     "execution_count": 142,
     "metadata": {},
     "output_type": "execute_result"
    }
   ],
   "source": [
    "param_mat = sio.loadmat('./data/ex8_movieParams.mat')\n",
    "theta, X = param_mat.get('Theta'), param_mat.get('X')\n",
    "# theta 用户的参数向量  X 电影的特征向量\n",
    "theta.shape, X.shape"
   ]
  },
  {
   "cell_type": "code",
   "execution_count": 143,
   "metadata": {},
   "outputs": [
    {
     "data": {
      "text/plain": [
       "array([ 0.28544362, -1.68426509,  0.26293877, -0.28731731,  0.58572506,\n",
       "        0.98018795, -0.06337453,  0.76723235, -1.10460164, -0.25186708])"
      ]
     },
     "execution_count": 143,
     "metadata": {},
     "output_type": "execute_result"
    }
   ],
   "source": [
    "theta[0]"
   ]
  },
  {
   "cell_type": "code",
   "execution_count": 144,
   "metadata": {},
   "outputs": [
    {
     "data": {
      "text/plain": [
       "array([ 1.0486855 , -0.40023196,  1.19411945,  0.37112768,  0.40760718,\n",
       "        0.97440691, -0.05841025,  0.861721  , -0.69728994,  0.28874563])"
      ]
     },
     "execution_count": 144,
     "metadata": {},
     "output_type": "execute_result"
    }
   ],
   "source": [
    "X[0]"
   ]
  },
  {
   "cell_type": "markdown",
   "metadata": {},
   "source": [
    "# cost\n",
    "<img style=\"float: left;\" src=\"./rcmd_cost.png\">"
   ]
  },
  {
   "cell_type": "code",
   "execution_count": 145,
   "metadata": {
    "collapsed": true
   },
   "outputs": [],
   "source": [
    "def serialize(X, theta):\n",
    "    \"\"\"serialize 2 matrix\n",
    "    \"\"\"\n",
    "    # X (movie, feature), (1682, 10): movie features\n",
    "    # theta (user, feature), (943, 10): user preference\n",
    "    return np.concatenate((X.ravel(), theta.ravel()))\n",
    "\n",
    "\n",
    "def deserialize(param, n_movie, n_user, n_features):\n",
    "    \"\"\"into ndarray of X(1682, 10), theta(943, 10)\"\"\"\n",
    "    return param[:n_movie * n_features].reshape(n_movie, n_features), \\\n",
    "           param[n_movie * n_features:].reshape(n_user, n_features)\n",
    "\n",
    "\n",
    "# recommendation fn\n",
    "def cost(param, Y, R, n_features):\n",
    "    \"\"\"compute cost for every r(i, j)=1\n",
    "    Args:\n",
    "        param: serialized X, theta\n",
    "        Y (movie, user), (1682, 943): (movie, user) rating\n",
    "        R (movie, user), (1682, 943): (movie, user) has rating\n",
    "    \"\"\"\n",
    "    # theta (user, feature), (943, 10): user preference\n",
    "    # X (movie, feature), (1682, 10): movie features\n",
    "    n_movie, n_user = Y.shape\n",
    "    X, theta = deserialize(param, n_movie, n_user, n_features)\n",
    "\n",
    "    inner = np.multiply(X @ theta.T - Y, R)\n",
    "\n",
    "    return np.power(inner, 2).sum() / 2\n",
    "\n",
    "\n",
    "def gradient(param, Y, R, n_features):\n",
    "    # theta (user, feature), (943, 10): user preference\n",
    "    # X (movie, feature), (1682, 10): movie features\n",
    "    n_movies, n_user = Y.shape\n",
    "    X, theta = deserialize(param, n_movies, n_user, n_features)\n",
    "\n",
    "    inner = np.multiply(X @ theta.T - Y, R)  # (1682, 943)\n",
    "\n",
    "    # X_grad (1682, 10)\n",
    "    X_grad = inner @ theta\n",
    "\n",
    "    # theta_grad (943, 10)\n",
    "    theta_grad = inner.T @ X\n",
    "\n",
    "    # roll them together and return\n",
    "    return serialize(X_grad, theta_grad)\n",
    "\n",
    "\n",
    "def regularized_cost(param, Y, R, n_features, l=1):\n",
    "    reg_term = np.power(param, 2).sum() * (l / 2)\n",
    "\n",
    "    return cost(param, Y, R, n_features) + reg_term\n",
    "\n",
    "\n",
    "def regularized_gradient(param, Y, R, n_features, l=1):\n",
    "    grad = gradient(param, Y, R, n_features)\n",
    "    reg_term = l * param\n",
    "\n",
    "    return grad + reg_term\n"
   ]
  },
  {
   "cell_type": "code",
   "execution_count": 146,
   "metadata": {},
   "outputs": [
    {
     "data": {
      "text/plain": [
       "22.224603725685675"
      ]
     },
     "execution_count": 146,
     "metadata": {},
     "output_type": "execute_result"
    }
   ],
   "source": [
    "# use subset of data to calculate the cost as in pdf...\n",
    "users = 4\n",
    "movies = 5\n",
    "features = 3\n",
    "\n",
    "X_sub = X[:movies, :features]\n",
    "theta_sub = theta[:users, :features]\n",
    "Y_sub = Y[:movies, :users]\n",
    "R_sub = R[:movies, :users]\n",
    "\n",
    "param_sub = serialize(X_sub, theta_sub)\n",
    "cost(param_sub, Y_sub, R_sub, features)"
   ]
  },
  {
   "cell_type": "code",
   "execution_count": 147,
   "metadata": {},
   "outputs": [
    {
     "data": {
      "text/plain": [
       "27918.64012454421"
      ]
     },
     "execution_count": 147,
     "metadata": {},
     "output_type": "execute_result"
    }
   ],
   "source": [
    "param = serialize(X, theta)  # total real params\n",
    "\n",
    "cost(serialize(X, theta), Y, R, 10)  # this is real total cost"
   ]
  },
  {
   "cell_type": "markdown",
   "metadata": {
    "collapsed": true
   },
   "source": [
    "# gradient\n",
    "<img style=\"float: left;\" src=\"./rcmd_gradient.png\">"
   ]
  },
  {
   "cell_type": "code",
   "execution_count": 148,
   "metadata": {
    "collapsed": true
   },
   "outputs": [],
   "source": [
    "n_movie, n_user = Y.shape\n",
    "\n",
    "X_grad, theta_grad = deserialize(gradient(param, Y, R, 10),\n",
    "                                      n_movie, n_user, 10)"
   ]
  },
  {
   "cell_type": "markdown",
   "metadata": {},
   "source": [
    "<img style=\"float: left;\" src=\"./rcmd_vectorized_grad.png\">"
   ]
  },
  {
   "cell_type": "code",
   "execution_count": 149,
   "metadata": {
    "collapsed": true
   },
   "outputs": [],
   "source": [
    "assert X_grad.shape == X.shape\n",
    "assert theta_grad.shape == theta.shape"
   ]
  },
  {
   "cell_type": "markdown",
   "metadata": {},
   "source": [
    "# regularized cost"
   ]
  },
  {
   "cell_type": "code",
   "execution_count": 150,
   "metadata": {},
   "outputs": [
    {
     "data": {
      "text/plain": [
       "31.344056244274221"
      ]
     },
     "execution_count": 150,
     "metadata": {},
     "output_type": "execute_result"
    }
   ],
   "source": [
    "# in the ex8_confi.m, lambda = 1.5, and it's using sub data set\n",
    "regularized_cost(param_sub, Y_sub, R_sub, features, l=1.5)"
   ]
  },
  {
   "cell_type": "code",
   "execution_count": 151,
   "metadata": {},
   "outputs": [
    {
     "data": {
      "text/plain": [
       "32520.682450229557"
      ]
     },
     "execution_count": 151,
     "metadata": {},
     "output_type": "execute_result"
    }
   ],
   "source": [
    "regularized_cost(param, Y, R, 10, l=1)  # total regularized cost"
   ]
  },
  {
   "cell_type": "markdown",
   "metadata": {},
   "source": [
    "# regularized gradient"
   ]
  },
  {
   "cell_type": "markdown",
   "metadata": {},
   "source": [
    "<img style=\"float: left;\" src=\"./rcmd_reg_grad.png\">"
   ]
  },
  {
   "cell_type": "code",
   "execution_count": 152,
   "metadata": {
    "collapsed": true
   },
   "outputs": [],
   "source": [
    "n_movie, n_user = Y.shape\n",
    "\n",
    "X_grad, theta_grad = deserialize(regularized_gradient(param, Y, R, 10),\n",
    "                                                                n_movie, n_user, 10)\n",
    "\n",
    "assert X_grad.shape == X.shape\n",
    "assert theta_grad.shape == theta.shape"
   ]
  },
  {
   "cell_type": "markdown",
   "metadata": {},
   "source": [
    "# parse `movie_id.txt`"
   ]
  },
  {
   "cell_type": "code",
   "execution_count": 153,
   "metadata": {
    "collapsed": true
   },
   "outputs": [],
   "source": [
    "movie_list = []\n",
    "\n",
    "with open('./data/movie_ids.txt', encoding='latin-1') as f:\n",
    "    for line in f:\n",
    "        tokens = line.strip().split(' ')\n",
    "        movie_list.append(' '.join(tokens[1:]))\n",
    "\n",
    "movie_list = np.array(movie_list)"
   ]
  },
  {
   "cell_type": "code",
   "execution_count": 154,
   "metadata": {},
   "outputs": [
    {
     "data": {
      "text/plain": [
       "array(['Toy Story (1995)', 'GoldenEye (1995)', 'Four Rooms (1995)',\n",
       "       'Get Shorty (1995)', 'Copycat (1995)',\n",
       "       'Shanghai Triad (Yao a yao yao dao waipo qiao) (1995)',\n",
       "       'Twelve Monkeys (1995)', 'Babe (1995)', 'Dead Man Walking (1995)',\n",
       "       'Richard III (1995)'],\n",
       "      dtype='<U81')"
      ]
     },
     "execution_count": 154,
     "metadata": {},
     "output_type": "execute_result"
    }
   ],
   "source": [
    "movie_list[:10]"
   ]
  },
  {
   "cell_type": "code",
   "execution_count": 171,
   "metadata": {},
   "outputs": [
    {
     "data": {
      "text/plain": [
       "(1682,)"
      ]
     },
     "execution_count": 171,
     "metadata": {},
     "output_type": "execute_result"
    }
   ],
   "source": [
    "movie_list.shape"
   ]
  },
  {
   "cell_type": "markdown",
   "metadata": {},
   "source": [
    "# reproduce my ratings"
   ]
  },
  {
   "cell_type": "code",
   "execution_count": 172,
   "metadata": {
    "collapsed": true
   },
   "outputs": [],
   "source": [
    "ratings = np.zeros(1682)\n",
    "\n",
    "ratings[0] = 4\n",
    "ratings[6] = 3\n",
    "ratings[11] = 5\n",
    "ratings[53] = 4\n",
    "ratings[63] = 5\n",
    "ratings[65] = 3\n",
    "ratings[68] = 5\n",
    "ratings[97] = 2\n",
    "ratings[182] = 4\n",
    "ratings[225] = 5\n",
    "ratings[354] = 5"
   ]
  },
  {
   "cell_type": "code",
   "execution_count": 174,
   "metadata": {},
   "outputs": [
    {
     "data": {
      "text/plain": [
       "array([ 4.,  0.,  0.,  0.,  0.,  0.,  3.,  0.,  0.,  0.])"
      ]
     },
     "execution_count": 174,
     "metadata": {},
     "output_type": "execute_result"
    }
   ],
   "source": [
    "ratings[:10]"
   ]
  },
  {
   "cell_type": "markdown",
   "metadata": {},
   "source": [
    "# prepare data"
   ]
  },
  {
   "cell_type": "code",
   "execution_count": 176,
   "metadata": {},
   "outputs": [
    {
     "data": {
      "text/plain": [
       "(1682, 943)"
      ]
     },
     "execution_count": 176,
     "metadata": {},
     "output_type": "execute_result"
    }
   ],
   "source": [
    "Y, R = movies_mat.get('Y'), movies_mat.get('R')\n",
    "Y.shape"
   ]
  },
  {
   "cell_type": "code",
   "execution_count": 177,
   "metadata": {},
   "outputs": [
    {
     "data": {
      "text/plain": [
       "array([[5, 4, 0, ..., 5, 0, 0],\n",
       "       [3, 0, 0, ..., 0, 0, 5]], dtype=uint8)"
      ]
     },
     "execution_count": 177,
     "metadata": {},
     "output_type": "execute_result"
    }
   ],
   "source": [
    "Y[:2]"
   ]
  },
  {
   "cell_type": "code",
   "execution_count": 178,
   "metadata": {},
   "outputs": [
    {
     "data": {
      "text/plain": [
       "(1682, 944)"
      ]
     },
     "execution_count": 178,
     "metadata": {},
     "output_type": "execute_result"
    }
   ],
   "source": [
    "Y = np.insert(Y, 0, ratings, axis=1)  # now I become user 0\n",
    "Y.shape"
   ]
  },
  {
   "cell_type": "code",
   "execution_count": 179,
   "metadata": {},
   "outputs": [
    {
     "data": {
      "text/plain": [
       "array([[4, 5, 4, ..., 5, 0, 0],\n",
       "       [0, 3, 0, ..., 0, 0, 5]], dtype=uint8)"
      ]
     },
     "execution_count": 179,
     "metadata": {},
     "output_type": "execute_result"
    }
   ],
   "source": [
    "Y[:2]"
   ]
  },
  {
   "cell_type": "code",
   "execution_count": 180,
   "metadata": {},
   "outputs": [
    {
     "data": {
      "text/plain": [
       "(1682, 944)"
      ]
     },
     "execution_count": 180,
     "metadata": {},
     "output_type": "execute_result"
    }
   ],
   "source": [
    "R = np.insert(R, 0, ratings != 0, axis=1)\n",
    "R.shape"
   ]
  },
  {
   "cell_type": "code",
   "execution_count": 183,
   "metadata": {},
   "outputs": [
    {
     "data": {
      "text/plain": [
       "array([[1, 1, 1, ..., 1, 0, 0],\n",
       "       [0, 1, 0, ..., 0, 0, 1],\n",
       "       [0, 1, 0, ..., 0, 0, 0],\n",
       "       [0, 1, 0, ..., 0, 0, 0],\n",
       "       [0, 1, 0, ..., 0, 0, 0]], dtype=uint8)"
      ]
     },
     "execution_count": 183,
     "metadata": {},
     "output_type": "execute_result"
    }
   ],
   "source": [
    "R[:5]"
   ]
  },
  {
   "cell_type": "code",
   "execution_count": 184,
   "metadata": {
    "collapsed": true
   },
   "outputs": [],
   "source": [
    "n_features = 50\n",
    "n_movie, n_user = Y.shape\n",
    "l = 10"
   ]
  },
  {
   "cell_type": "code",
   "execution_count": 185,
   "metadata": {},
   "outputs": [
    {
     "data": {
      "text/plain": [
       "((1682, 50), (944, 50))"
      ]
     },
     "execution_count": 185,
     "metadata": {},
     "output_type": "execute_result"
    }
   ],
   "source": [
    "X = np.random.standard_normal((n_movie, n_features)) #生产一个浮点数或N维浮点数组，取数范围：标准正态分布随机样本\n",
    "theta = np.random.standard_normal((n_user, n_features))\n",
    "\n",
    "X.shape, theta.shape"
   ]
  },
  {
   "cell_type": "code",
   "execution_count": 186,
   "metadata": {
    "collapsed": true
   },
   "outputs": [],
   "source": [
    "param = serialize(X, theta)"
   ]
  },
  {
   "cell_type": "code",
   "execution_count": 193,
   "metadata": {},
   "outputs": [
    {
     "data": {
      "text/plain": [
       "array([-0.88887109, -0.7187982 , -1.38935419, -0.3831814 , -0.2629748 ,\n",
       "       -1.20252632,  0.0031104 ,  1.07303651,  0.04317998,  0.54656995])"
      ]
     },
     "execution_count": 193,
     "metadata": {},
     "output_type": "execute_result"
    }
   ],
   "source": [
    "param[:10]"
   ]
  },
  {
   "cell_type": "markdown",
   "metadata": {},
   "source": [
    "normalized ratings"
   ]
  },
  {
   "cell_type": "code",
   "execution_count": 195,
   "metadata": {},
   "outputs": [
    {
     "data": {
      "text/plain": [
       "4.6862111343939375e-17"
      ]
     },
     "execution_count": 195,
     "metadata": {},
     "output_type": "execute_result"
    }
   ],
   "source": [
    "Y_norm = Y - Y.mean()\n",
    "Y_norm.mean()"
   ]
  },
  {
   "cell_type": "markdown",
   "metadata": {},
   "source": [
    "# training"
   ]
  },
  {
   "cell_type": "code",
   "execution_count": 196,
   "metadata": {
    "collapsed": true
   },
   "outputs": [],
   "source": [
    "import scipy.optimize as opt"
   ]
  },
  {
   "cell_type": "code",
   "execution_count": 197,
   "metadata": {},
   "outputs": [],
   "source": [
    "res = opt.minimize(fun=regularized_cost,\n",
    "                   x0=param,\n",
    "                   args=(Y_norm, R, n_features, l),\n",
    "                   method='TNC',\n",
    "                   jac=regularized_gradient)\n",
    "#这里很慢"
   ]
  },
  {
   "cell_type": "code",
   "execution_count": 164,
   "metadata": {},
   "outputs": [
    {
     "data": {
      "text/plain": [
       "     fun: 64721.497815080882\n",
       "     jac: array([  3.10249440e-06,  -1.46878235e-05,   8.28621694e-06, ...,\n",
       "        -6.71537860e-07,   2.65140941e-07,  -5.77320089e-07])\n",
       " message: 'Converged (|f_n-f_(n-1)| ~= 0)'\n",
       "    nfev: 2184\n",
       "     nit: 70\n",
       "  status: 1\n",
       " success: True\n",
       "       x: array([-0.31150862,  1.00211585, -0.02805102, ...,  0.32190953,\n",
       "        0.14935878,  0.36895573])"
      ]
     },
     "execution_count": 164,
     "metadata": {},
     "output_type": "execute_result"
    }
   ],
   "source": [
    "res"
   ]
  },
  {
   "cell_type": "code",
   "execution_count": 202,
   "metadata": {},
   "outputs": [
    {
     "data": {
      "text/plain": [
       "(131300,)"
      ]
     },
     "execution_count": 202,
     "metadata": {},
     "output_type": "execute_result"
    }
   ],
   "source": [
    "res.x.shape"
   ]
  },
  {
   "cell_type": "code",
   "execution_count": 199,
   "metadata": {},
   "outputs": [
    {
     "data": {
      "text/plain": [
       "((1682, 50), (944, 50))"
      ]
     },
     "execution_count": 199,
     "metadata": {},
     "output_type": "execute_result"
    }
   ],
   "source": [
    "X_trained, theta_trained = deserialize(res.x, n_movie, n_user, n_features)\n",
    "X_trained.shape, theta_trained.shape"
   ]
  },
  {
   "cell_type": "code",
   "execution_count": 200,
   "metadata": {
    "collapsed": true
   },
   "outputs": [],
   "source": [
    "prediction = X_trained @ theta_trained.T"
   ]
  },
  {
   "cell_type": "code",
   "execution_count": 167,
   "metadata": {
    "collapsed": true
   },
   "outputs": [],
   "source": [
    "my_preds = prediction[:, 0] + Y.mean()"
   ]
  },
  {
   "cell_type": "code",
   "execution_count": 168,
   "metadata": {},
   "outputs": [
    {
     "data": {
      "text/plain": [
       "(1682,)"
      ]
     },
     "execution_count": 168,
     "metadata": {},
     "output_type": "execute_result"
    }
   ],
   "source": [
    "idx = np.argsort(my_preds)[::-1]  # Descending order\n",
    "idx.shape"
   ]
  },
  {
   "cell_type": "code",
   "execution_count": 204,
   "metadata": {},
   "outputs": [
    {
     "data": {
      "text/plain": [
       "array([ 312,   49,   63, ..., 1556, 1561, 1567])"
      ]
     },
     "execution_count": 204,
     "metadata": {},
     "output_type": "execute_result"
    }
   ],
   "source": [
    "idx"
   ]
  },
  {
   "cell_type": "code",
   "execution_count": 205,
   "metadata": {},
   "outputs": [
    {
     "data": {
      "text/plain": [
       "array([ 4.12535569,  4.04411502,  3.99323774,  3.91902569,  3.8168927 ,\n",
       "        3.81555823,  3.76602095,  3.76321709,  3.7590337 ,  3.75079166])"
      ]
     },
     "execution_count": 205,
     "metadata": {},
     "output_type": "execute_result"
    }
   ],
   "source": [
    "# top ten idx\n",
    "my_preds[idx][:10]"
   ]
  },
  {
   "cell_type": "code",
   "execution_count": 206,
   "metadata": {},
   "outputs": [
    {
     "name": "stdout",
     "output_type": "stream",
     "text": [
      "Titanic (1997)\n",
      "Star Wars (1977)\n",
      "Shawshank Redemption, The (1994)\n",
      "Forrest Gump (1994)\n",
      "Raiders of the Lost Ark (1981)\n",
      "Braveheart (1995)\n",
      "Return of the Jedi (1983)\n",
      "Usual Suspects, The (1995)\n",
      "Godfather, The (1972)\n",
      "Schindler's List (1993)\n"
     ]
    }
   ],
   "source": [
    "for m in movie_list[idx][:10]:\n",
    "    print(m)"
   ]
  },
  {
   "cell_type": "code",
   "execution_count": null,
   "metadata": {
    "collapsed": true
   },
   "outputs": [],
   "source": []
  },
  {
   "cell_type": "code",
   "execution_count": null,
   "metadata": {
    "collapsed": true
   },
   "outputs": [],
   "source": []
  }
 ],
 "metadata": {
  "anaconda-cloud": {},
  "kernelspec": {
   "display_name": "Python 3",
   "language": "python",
   "name": "python3"
  },
  "language_info": {
   "codemirror_mode": {
    "name": "ipython",
    "version": 3
   },
   "file_extension": ".py",
   "mimetype": "text/x-python",
   "name": "python",
   "nbconvert_exporter": "python",
   "pygments_lexer": "ipython3",
   "version": "3.6.4"
  }
 },
 "nbformat": 4,
 "nbformat_minor": 1
}
