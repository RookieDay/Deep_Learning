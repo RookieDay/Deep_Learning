{
 "cells": [
  {
   "cell_type": "code",
   "execution_count": 54,
   "metadata": {
    "collapsed": true
   },
   "outputs": [],
   "source": [
    "import tensorflow as tf\n",
    "import numpy as np\n",
    "from tensorflow.examples.tutorials.mnist import input_data"
   ]
  },
  {
   "cell_type": "code",
   "execution_count": 2,
   "metadata": {},
   "outputs": [
    {
     "name": "stdout",
     "output_type": "stream",
     "text": [
      "Extracting MNIST_data/train-images-idx3-ubyte.gz\n",
      "Extracting MNIST_data/train-labels-idx1-ubyte.gz\n",
      "Extracting MNIST_data/t10k-images-idx3-ubyte.gz\n",
      "Extracting MNIST_data/t10k-labels-idx1-ubyte.gz\n"
     ]
    }
   ],
   "source": [
    "# train-images-idx3-ubyte.gz\t训练集图片 - 55000 张 训练图片, 5000 张 验证图片\n",
    "# train-labels-idx1-ubyte.gz\t训练集图片对应的数字标签\n",
    "# t10k-images-idx3-ubyte.gz\t测试集图片 - 10000 张 图片\n",
    "# t10k-labels-idx1-ubyte.gz\t测试集图片对应的数字标签\n",
    "# 下载下来的数据集被分成两部分：60000行的训练数据集（mnist.train）和10000行的测试数据集（mnist.test）。这样的切分很重要，在机器学习模型设计时必须有一个单独的测试数据集不用于训练而是用来评估这个模型的性能，从而更加容易把设计的模型推广到其他数据集上（泛化）。\n",
    "\n",
    "# 正如前面提到的一样，每一个MNIST数据单元有两部分组成：一张包含手写数字的图片和一个对应的标签。我们把这些图片设为“xs”，把这些标签设为“ys”。训练数据集和测试数据集都包含xs和ys，比如训练数据集的图片是 mnist.train.images ，训练数据集的标签是 mnist.train.labels。\n",
    "mnist = input_data.read_data_sets('MNIST_data',one_hot=True)"
   ]
  },
  {
   "cell_type": "code",
   "execution_count": 60,
   "metadata": {
    "collapsed": true
   },
   "outputs": [],
   "source": [
    "def initialize_parameters_deep(layers):\n",
    "    np.random.seed(1)\n",
    "    parameters,L = {},len(layers)   \n",
    "    for l in range(1,L):\n",
    "#         truncated_normal\n",
    "        parameters['W' + str(l)] = tf.Variable(tf.random_normal([layers[l-1], layers[l]],stddev=0.1))\n",
    "        parameters['b' + str(l)] = tf.Variable(tf.constant(0.1,shape=[1,layers[l]]))\n",
    "    return parameters"
   ]
  },
  {
   "cell_type": "code",
   "execution_count": 61,
   "metadata": {},
   "outputs": [
    {
     "name": "stdout",
     "output_type": "stream",
     "text": [
      "step: 0 ,  0.1138\n",
      "step: 1000 ,  0.86\n",
      "step: 2000 ,  0.9077\n",
      "step: 3000 ,  0.9312\n",
      "step: 4000 ,  0.9428\n",
      "step: 5000 ,  0.9492\n",
      "step: 6000 ,  0.9521\n",
      "step: 7000 ,  0.9577\n",
      "step: 8000 ,  0.96\n",
      "step: 9000 ,  0.9627\n",
      "step: 10000 ,  0.9607\n",
      "step: 11000 ,  0.9635\n",
      "step: 12000 ,  0.9625\n",
      "step: 13000 ,  0.9633\n",
      "step: 14000 ,  0.9654\n",
      "step: 15000 ,  0.9658\n",
      "step: 16000 ,  0.9652\n",
      "step: 17000 ,  0.9661\n",
      "step: 18000 ,  0.9659\n",
      "step: 19000 ,  0.9655\n",
      "step: 20000 ,  0.9677\n",
      "step: 21000 ,  0.9667\n",
      "step: 22000 ,  0.9668\n",
      "step: 23000 ,  0.9671\n",
      "step: 24000 ,  0.9687\n",
      "step: 25000 ,  0.9692\n",
      "step: 26000 ,  0.9681\n",
      "step: 27000 ,  0.9681\n",
      "step: 28000 ,  0.9664\n",
      "step: 29000 ,  0.9672\n",
      "step: 30000 ,  0.9669\n",
      "step: 31000 ,  0.9678\n",
      "step: 32000 ,  0.9677\n",
      "step: 33000 ,  0.9671\n",
      "step: 34000 ,  0.9664\n",
      "step: 35000 ,  0.9665\n",
      "step: 36000 ,  0.967\n",
      "step: 37000 ,  0.967\n",
      "step: 38000 ,  0.9666\n",
      "step: 39000 ,  0.9669\n",
      "step: 40000 ,  0.9669\n",
      "step: 41000 ,  0.967\n",
      "step: 42000 ,  0.9664\n",
      "step: 43000 ,  0.9676\n",
      "step: 44000 ,  0.9675\n",
      "step: 45000 ,  0.9677\n",
      "step: 46000 ,  0.967\n",
      "step: 47000 ,  0.9672\n",
      "step: 48000 ,  0.9675\n",
      "step: 49000 ,  0.9665\n"
     ]
    }
   ],
   "source": [
    "np.random.seed(1)\n",
    "\n",
    "xs = tf.placeholder(tf.float32, [None, 28*28])\n",
    "ys = tf.placeholder(tf.float32, [None, 10])\n",
    "def compute_accuracy(v_xs, v_ys):\n",
    "  global prediction\n",
    "  y_pre = sess.run(prediction, feed_dict={xs: v_xs})\n",
    "  correct_prediction = tf.equal(tf.argmax(y_pre,1), tf.argmax(v_ys,1))\n",
    "  accuracy = tf.reduce_mean(tf.cast(correct_prediction, tf.float32))\n",
    "  result = sess.run(accuracy, feed_dict={xs:v_xs, ys:v_ys})\n",
    "  return result\n",
    "\n",
    "\n",
    "parameters = initialize_parameters_deep([784,50,50,50,50,10])\n",
    "layer1 = tf.nn.relu(tf.matmul(xs, parameters['W1']) + parameters['b1'])\n",
    "layer2 = tf.nn.sigmoid(tf.matmul(layer1, parameters['W2']) + parameters['b2'])\n",
    "layer3 = tf.nn.relu(tf.matmul(layer2, parameters['W3']) + parameters['b3'])\n",
    "layer4 = tf.nn.tanh(tf.matmul(layer3, parameters['W4']) + parameters['b4'])\n",
    "prediction = tf.nn.softmax(tf.matmul(layer4, parameters['W5']) + parameters['b5'])\n",
    "\n",
    "cross_entropy = tf.reduce_mean(-tf.reduce_sum(ys * tf.log(prediction), \n",
    "                          reduction_indices=[1]))\n",
    "\n",
    "train_step = tf.train.GradientDescentOptimizer(0.05).minimize(cross_entropy)\n",
    "\n",
    "\n",
    "with tf.Session() as sess:\n",
    "    sess.run(tf.global_variables_initializer())\n",
    "    for i in range(50000):        \n",
    "        batch_xs, batch_ys = mnist.train.next_batch(200)\n",
    "        sess.run(layer1,  feed_dict = {xs: batch_xs, ys: batch_ys})\n",
    "        sess.run(train_step, feed_dict = {xs: batch_xs, ys:batch_ys})\n",
    "        if i % 1000 ==0:\n",
    "            print (\"step:\",i,\", \",compute_accuracy(mnist.test.images, mnist.test.labels))"
   ]
  },
  {
   "cell_type": "code",
   "execution_count": 46,
   "metadata": {},
   "outputs": [
    {
     "data": {
      "text/plain": [
       "{'W1': <tf.Variable 'Variable_58:0' shape=(50, 784) dtype=float32_ref>,\n",
       " 'W2': <tf.Variable 'Variable_60:0' shape=(50, 50) dtype=float32_ref>,\n",
       " 'W3': <tf.Variable 'Variable_62:0' shape=(50, 50) dtype=float32_ref>,\n",
       " 'W4': <tf.Variable 'Variable_64:0' shape=(50, 50) dtype=float32_ref>,\n",
       " 'W5': <tf.Variable 'Variable_66:0' shape=(10, 50) dtype=float32_ref>,\n",
       " 'b1': <tf.Variable 'Variable_59:0' shape=(784, 1) dtype=float32_ref>,\n",
       " 'b2': <tf.Variable 'Variable_61:0' shape=(50, 1) dtype=float32_ref>,\n",
       " 'b3': <tf.Variable 'Variable_63:0' shape=(50, 1) dtype=float32_ref>,\n",
       " 'b4': <tf.Variable 'Variable_65:0' shape=(50, 1) dtype=float32_ref>,\n",
       " 'b5': <tf.Variable 'Variable_67:0' shape=(50, 1) dtype=float32_ref>}"
      ]
     },
     "execution_count": 46,
     "metadata": {},
     "output_type": "execute_result"
    }
   ],
   "source": [
    "parameters"
   ]
  },
  {
   "cell_type": "code",
   "execution_count": null,
   "metadata": {
    "collapsed": true
   },
   "outputs": [],
   "source": []
  },
  {
   "cell_type": "code",
   "execution_count": null,
   "metadata": {
    "collapsed": true
   },
   "outputs": [],
   "source": []
  }
 ],
 "metadata": {
  "kernelspec": {
   "display_name": "Python 3",
   "language": "python",
   "name": "python3"
  },
  "language_info": {
   "codemirror_mode": {
    "name": "ipython",
    "version": 3
   },
   "file_extension": ".py",
   "mimetype": "text/x-python",
   "name": "python",
   "nbconvert_exporter": "python",
   "pygments_lexer": "ipython3",
   "version": "3.6.4"
  }
 },
 "nbformat": 4,
 "nbformat_minor": 2
}
