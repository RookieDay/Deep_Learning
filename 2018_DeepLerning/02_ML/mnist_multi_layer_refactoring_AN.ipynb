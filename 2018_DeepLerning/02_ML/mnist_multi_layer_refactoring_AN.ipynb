{
 "cells": [
  {
   "cell_type": "code",
   "execution_count": 1,
   "metadata": {
    "collapsed": true
   },
   "outputs": [],
   "source": [
    "import tensorflow as tf\n",
    "from tensorflow.examples.tutorials.mnist import input_data"
   ]
  },
  {
   "cell_type": "code",
   "execution_count": 2,
   "metadata": {},
   "outputs": [
    {
     "name": "stdout",
     "output_type": "stream",
     "text": [
      "Extracting MNIST_data/train-images-idx3-ubyte.gz\n",
      "Extracting MNIST_data/train-labels-idx1-ubyte.gz\n",
      "Extracting MNIST_data/t10k-images-idx3-ubyte.gz\n",
      "Extracting MNIST_data/t10k-labels-idx1-ubyte.gz\n"
     ]
    }
   ],
   "source": [
    "# train-images-idx3-ubyte.gz\t训练集图片 - 55000 张 训练图片, 5000 张 验证图片\n",
    "# train-labels-idx1-ubyte.gz\t训练集图片对应的数字标签\n",
    "# t10k-images-idx3-ubyte.gz\t测试集图片 - 10000 张 图片\n",
    "# t10k-labels-idx1-ubyte.gz\t测试集图片对应的数字标签\n",
    "# 下载下来的数据集被分成两部分：60000行的训练数据集（mnist.train）和10000行的测试数据集（mnist.test）。\n",
    "# 这样的切分很重要，在机器学习模型设计时必须有一个单独的测试数据集不用于训练而是用来评估这个模型的性能，\n",
    "# 从而更加容易把设计的模型推广到其他数据集上（泛化）。\n",
    "\n",
    "# 正如前面提到的一样，每一个MNIST数据单元有两部分组成：一张包含手写数字的图片和一个对应的标签。\n",
    "# 我们把这些图片设为“xs”，把这些标签设为“ys”。训练数据集和测试数据集都包含xs和ys，\n",
    "# 比如训练数据集的图片是 mnist.train.images ，训练数据集的标签是 mnist.train.labels。\n",
    "mnist = input_data.read_data_sets('MNIST_data',one_hot=True)"
   ]
  },
  {
   "cell_type": "code",
   "execution_count": null,
   "metadata": {
    "collapsed": true
   },
   "outputs": [],
   "source": [
    "# 计算每一次层网络\n",
    "def add_layer(inputs, in_size, out_size, activation_function=None):\n",
    "    weights = tf.Variable(tf.random_normal([in_size, out_size]))\n",
    "    biases = tf.Variable(tf.zeros([1, out_size]) + 0.1)\n",
    "    wx_b = tf.matmul(inputs, weights) + biases\n",
    "    return wx_b if activation_function is None else activation_function(wx_b,)\n",
    "# xs ys为一个占位符 用于得到传递进来的真实的训练样本 \n",
    "# 可在运行时，通过 Session.run 的函数的 feed_dict 参数指定\n",
    "xs = tf.placeholder(tf.float32, [None, 28*28])\n",
    "ys = tf.placeholder(tf.float32, [None, 10])\n",
    "\n",
    "# 它能给出某个tensor对象在某一维上的其数据最大值所在的索引值。由于标签向量是由0,1组成，\n",
    "# 因此最大值1所在的索引位置就是类别标签，比如tf.argmax(y,1)返回的是模型对于任一输入x预测到的标签值，\n",
    "# 而 tf.argmax(y_,1) 代表正确的标签，我们可以用 tf.equal 来检测我们的预测是否真实标签匹配\n",
    "# (索引位置一样表示匹配)\n",
    "def compute_accuracy(v_xs, v_ys):\n",
    "    global prediction\n",
    "#     feed入测试集数据\n",
    "    y_pre = sess.run(prediction, feed_dict={xs: v_xs})\n",
    "    correct_prediction = tf.equal(tf.argmax(y_pre,1), tf.argmax(v_ys,1))\n",
    "    accuracy = tf.reduce_mean(tf.cast(correct_prediction, tf.float32))\n",
    "    return sess.run(accuracy, feed_dict={xs:v_xs, ys:v_ys})\n",
    "\n",
    "# 五层的神经网络 前四层每层有50个神经元 最后一层输出层 有10个 代表所属0-9数字的概率大小\n",
    "layer1 = add_layer(xs, 784, 50, activation_function = tf.nn.relu)\n",
    "layer2 = add_layer(layer1, 50, 50, activation_function = tf.nn.sigmoid)\n",
    "layer3 = add_layer(layer2, 50, 50, activation_function = tf.nn.relu)\n",
    "layer4 = add_layer(layer3, 50, 50, activation_function = tf.nn.tanh)\n",
    "# 最后一层使用softmax多元分类器 判定所属数字的概率大小\n",
    "prediction = add_layer(layer4, 50, 10, activation_function = tf.nn.softmax)\n",
    "\n",
    "# prediction 是我们预测的概率分布, ys 是实际的分布（我们输入的one-hot vector)\n",
    "cross_entropy = tf.reduce_mean(-tf.reduce_sum(ys * tf.log(prediction), \n",
    "                              reduction_indices=[1]))\n",
    "\n",
    "# 最速下降法让交叉熵下降，学习率0.05\n",
    "train_step = tf.train.GradientDescentOptimizer(0.05).minimize(cross_entropy)"
   ]
  },
  {
   "cell_type": "code",
   "execution_count": null,
   "metadata": {
    "collapsed": true
   },
   "outputs": [],
   "source": [
    "with tf.Session() as sess:\n",
    "#     初始化我们创建的变量\n",
    "    sess.run(tf.global_variables_initializer())\n",
    "    steps = []\n",
    "    accuracy_s = []\n",
    "    for i in range(50000):\n",
    "        batch_xs, batch_ys = mnist.train.next_batch(10)\n",
    "#         训练模型 \n",
    "        sess.run(layer1,  feed_dict = {xs: batch_xs, ys: batch_ys})\n",
    "    \n",
    "        sess.run(train_step, feed_dict = {xs: batch_xs, ys:batch_ys})\n",
    "        if i % 1000 ==0:\n",
    "            accuracy = compute_accuracy(mnist.test.images, mnist.test.labels)\n",
    "            accuracy_s.append(accuracy)\n",
    "            steps.append(i)\n",
    "            print (\"step:\",i,\", \",accuracy)\n",
    "       \n",
    "    plt.plot(steps,accuracy_s)\n",
    "    plt.ylabel('accuracy')\n",
    "    plt.xlabel('per 1000 steps)')\n",
    "    plt.title(\"accuracy =\" + str(accuracy_s[-1]))\n",
    "    plt.show()"
   ]
  },
  {
   "cell_type": "code",
   "execution_count": 103,
   "metadata": {},
   "outputs": [
    {
     "name": "stdout",
     "output_type": "stream",
     "text": [
      "The autoreload extension is already loaded. To reload it, use:\n",
      "  %reload_ext autoreload\n"
     ]
    }
   ],
   "source": [
    "import matplotlib.pyplot as plt\n",
    "import numpy as np\n",
    "import scipy\n",
    "from PIL import Image\n",
    "from scipy import ndimage\n",
    "%matplotlib inline\n",
    "plt.rcParams['figure.figsize'] = (5.0, 4.0) # set default size of plots\n",
    "plt.rcParams['image.interpolation'] = 'nearest'\n",
    "plt.rcParams['image.cmap'] = 'gray'\n",
    "\n",
    "%load_ext autoreload\n",
    "%autoreload 2"
   ]
  },
  {
   "cell_type": "code",
   "execution_count": 35,
   "metadata": {},
   "outputs": [
    {
     "data": {
      "text/plain": [
       "((200, 784), (200, 10))"
      ]
     },
     "execution_count": 35,
     "metadata": {},
     "output_type": "execute_result"
    }
   ],
   "source": [
    "# 一次batch的数据 200条\n",
    "batch_xs.shape, batch_ys.shape"
   ]
  },
  {
   "cell_type": "code",
   "execution_count": 54,
   "metadata": {},
   "outputs": [
    {
     "data": {
      "text/plain": [
       "array([ 0.,  0.,  0.,  0.,  0.,  0.,  1.,  0.,  0.,  0.])"
      ]
     },
     "execution_count": 54,
     "metadata": {},
     "output_type": "execute_result"
    }
   ],
   "source": [
    "batch_ys[0]"
   ]
  },
  {
   "cell_type": "code",
   "execution_count": 101,
   "metadata": {},
   "outputs": [
    {
     "data": {
      "text/plain": [
       "<matplotlib.image.AxesImage at 0x7f1f43920240>"
      ]
     },
     "execution_count": 101,
     "metadata": {},
     "output_type": "execute_result"
    },
    {
     "data": {
      "image/png": "[encoded data removed]",
      "text/plain": [
       "<matplotlib.figure.Figure at 0x7f1f439a5588>"
      ]
     },
     "metadata": {},
     "output_type": "display_data"
    }
   ],
   "source": [
    "index = 9\n",
    "plt.imshow(batch_xs[index].reshape(28,28))"
   ]
  },
  {
   "cell_type": "code",
   "execution_count": 79,
   "metadata": {},
   "outputs": [
    {
     "data": {
      "text/plain": [
       "(249, 354)"
      ]
     },
     "execution_count": 79,
     "metadata": {},
     "output_type": "execute_result"
    }
   ],
   "source": [
    "image.shape"
   ]
  },
  {
   "cell_type": "code",
   "execution_count": null,
   "metadata": {
    "collapsed": true
   },
   "outputs": [],
   "source": []
  }
 ],
 "metadata": {
  "kernelspec": {
   "display_name": "Python 3",
   "language": "python",
   "name": "python3"
  },
  "language_info": {
   "codemirror_mode": {
    "name": "ipython",
    "version": 3
   },
   "file_extension": ".py",
   "mimetype": "text/x-python",
   "name": "python",
   "nbconvert_exporter": "python",
   "pygments_lexer": "ipython3",
   "version": "3.6.4"
  }
 },
 "nbformat": 4,
 "nbformat_minor": 2
}
