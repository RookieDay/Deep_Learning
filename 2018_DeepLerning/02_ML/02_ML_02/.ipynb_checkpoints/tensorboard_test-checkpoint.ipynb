{
 "cells": [
  {
   "cell_type": "code",
   "execution_count": 1,
   "metadata": {
    "collapsed": true
   },
   "outputs": [],
   "source": [
    "import tensorflow as tf      \n",
    "import numpy as np "
   ]
  },
  {
   "cell_type": "code",
   "execution_count": 2,
   "metadata": {
    "collapsed": true
   },
   "outputs": [],
   "source": [
    "k = tf.placeholder(tf.float32) "
   ]
  },
  {
   "cell_type": "code",
   "execution_count": 3,
   "metadata": {
    "collapsed": true
   },
   "outputs": [],
   "source": [
    "# Make a normal distribution, with a shifting mean  \n",
    "mean_random_normal = tf.random_normal(shape=[1000],mean=(5*k),stddev=1)  \n",
    "mean_moving_normal = tf.truncated_normal(shape=[1000], mean=(5*k), stddev=1)  \n",
    "# Record that distribution into a histogram summary  \n",
    "tf.summary.histogram(\"normal/random_output\", mean_random_normal)  \n",
    "tf.summary.histogram(\"normal/truncated_output\", mean_moving_normal)  \n",
    "  \n",
    "# Setup a session and summary writer  \n",
    "sess = tf.Session()  \n",
    "writer = tf.summary.FileWriter(\"/tmp/histogram_example2\")  \n",
    "  \n",
    "summaries = tf.summary.merge_all()  "
   ]
  },
  {
   "cell_type": "code",
   "execution_count": 4,
   "metadata": {
    "collapsed": true
   },
   "outputs": [],
   "source": [
    "# Setup a loop and write the summaries to disk  \n",
    "N = 400  \n",
    "for step in range(N):  \n",
    "  k_val = step/float(N)  \n",
    "  summ = sess.run(summaries, feed_dict={k: k_val})  \n",
    "  writer.add_summary(summ, global_step=step)  "
   ]
  },
  {
   "cell_type": "code",
   "execution_count": null,
   "metadata": {
    "collapsed": true
   },
   "outputs": [],
   "source": []
  }
 ],
 "metadata": {
  "kernelspec": {
   "display_name": "Python 3",
   "language": "python",
   "name": "python3"
  },
  "language_info": {
   "codemirror_mode": {
    "name": "ipython",
    "version": 3
   },
   "file_extension": ".py",
   "mimetype": "text/x-python",
   "name": "python",
   "nbconvert_exporter": "python",
   "pygments_lexer": "ipython3",
   "version": "3.6.4"
  }
 },
 "nbformat": 4,
 "nbformat_minor": 2
}
