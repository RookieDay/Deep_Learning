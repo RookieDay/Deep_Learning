{
 "cells": [
  {
   "cell_type": "code",
   "execution_count": 1,
   "metadata": {
    "collapsed": true
   },
   "outputs": [],
   "source": [
    "import tensorflow as tf\n",
    "import numpy as np"
   ]
  },
  {
   "cell_type": "code",
   "execution_count": 2,
   "metadata": {
    "collapsed": true
   },
   "outputs": [],
   "source": [
    "# create training data\n",
    "x_data = np.random.rand(100).astype(np.float32)\n",
    "y_data = x_data * 2 + 5"
   ]
  },
  {
   "cell_type": "code",
   "execution_count": 9,
   "metadata": {},
   "outputs": [
    {
     "data": {
      "text/plain": [
       "<tf.Tensor 'strided_slice_1:0' shape=() dtype=float32>"
      ]
     },
     "execution_count": 9,
     "metadata": {},
     "output_type": "execute_result"
    }
   ],
   "source": [
    "# create weights and bias\n",
    "weights = tf.Variable(tf.random_uniform([1],-1.0,1.0))\n",
    "bias = tf.Variable(tf.zeros([1]))\n",
    "y = weights * x_data + bias\n",
    "y[3]"
   ]
  },
  {
   "cell_type": "code",
   "execution_count": 10,
   "metadata": {},
   "outputs": [
    {
     "name": "stdout",
     "output_type": "stream",
     "text": [
      "WARNING:tensorflow:From /home/gl/anaconda3/lib/python3.6/site-packages/tensorflow/python/util/tf_should_use.py:175: initialize_all_variables (from tensorflow.python.ops.variables) is deprecated and will be removed after 2017-03-02.\n",
      "Instructions for updating:\n",
      "Use `tf.global_variables_initializer` instead.\n",
      "0 [ 1.34238136] [ 1.11841524]\n",
      "10 [ 2.83099604] [ 4.32920885]\n",
      "20 [ 2.79249907] [ 4.57190704]\n",
      "30 [ 2.6858511] [ 4.64015913]\n",
      "40 [ 2.59003806] [ 4.69101858]\n",
      "50 [ 2.50741482] [ 4.73431826]\n",
      "60 [ 2.43635082] [ 4.7715292]\n",
      "70 [ 2.3752389] [ 4.80352736]\n",
      "80 [ 2.32268548] [ 4.8310442]\n",
      "90 [ 2.27749252] [ 4.85470629]\n",
      "100 [ 2.2386291] [ 4.87505531]\n",
      "110 [ 2.20520878] [ 4.89255428]\n",
      "120 [ 2.17646861] [ 4.90760231]\n",
      "130 [ 2.15175343] [ 4.92054272]\n",
      "140 [ 2.13050008] [ 4.93167114]\n",
      "150 [ 2.11222315] [ 4.94124079]\n",
      "160 [ 2.09650588] [ 4.94947004]\n",
      "170 [ 2.08298993] [ 4.95654678]\n",
      "180 [ 2.07136679] [ 4.96263266]\n",
      "190 [ 2.0613718] [ 4.96786594]\n",
      "200 [ 2.05277658] [ 4.97236633]\n",
      "210 [ 2.04538512] [ 4.97623682]\n",
      "220 [ 2.03902864] [ 4.97956467]\n",
      "230 [ 2.03356266] [ 4.98242664]\n",
      "240 [ 2.028862] [ 4.98488808]\n",
      "250 [ 2.02481937] [ 4.98700476]\n",
      "260 [ 2.02134299] [ 4.98882484]\n",
      "270 [ 2.01835418] [ 4.99038982]\n",
      "280 [ 2.01578379] [ 4.99173594]\n",
      "290 [ 2.01357317] [ 4.99289322]\n",
      "300 [ 2.01167178] [ 4.99388885]\n",
      "310 [ 2.01003695] [ 4.99474478]\n",
      "320 [ 2.00863099] [ 4.99548054]\n",
      "330 [ 2.00742221] [ 4.99611425]\n",
      "340 [ 2.0063827] [ 4.99665833]\n",
      "350 [ 2.00548887] [ 4.9971261]\n",
      "360 [ 2.00471997] [ 4.99752855]\n",
      "370 [ 2.00405884] [ 4.99787474]\n",
      "380 [ 2.00348997] [ 4.99817276]\n",
      "390 [ 2.00300121] [ 4.99842882]\n",
      "400 [ 2.00258064] [ 4.99864864]\n",
      "410 [ 2.0022192] [ 4.99883795]\n",
      "420 [ 2.00190878] [ 4.99900055]\n",
      "430 [ 2.00164151] [ 4.99914026]\n",
      "440 [ 2.00141168] [ 4.9992609]\n",
      "450 [ 2.00121379] [ 4.99936438]\n",
      "460 [ 2.00104332] [ 4.99945354]\n",
      "470 [ 2.00089717] [ 4.99952984]\n",
      "480 [ 2.00077176] [ 4.99959564]\n",
      "490 [ 2.00066376] [ 4.99965239]\n"
     ]
    }
   ],
   "source": [
    "loss = tf.reduce_mean(tf.square(y - y_data))\n",
    "optimizer = tf.train.GradientDescentOptimizer(0.1)\n",
    "train = optimizer.minimize(loss)\n",
    "init = tf.initialize_all_variables()\n",
    "\n",
    "sess = tf.Session()\n",
    "sess.run(init)\n",
    "\n",
    "for step in range(500):\n",
    "    sess.run(train)\n",
    "    if step % 10 == 0:\n",
    "        print(step, sess.run(weights), sess.run(bias))"
   ]
  },
  {
   "cell_type": "code",
   "execution_count": null,
   "metadata": {
    "collapsed": true
   },
   "outputs": [],
   "source": []
  },
  {
   "cell_type": "code",
   "execution_count": null,
   "metadata": {
    "collapsed": true
   },
   "outputs": [],
   "source": []
  },
  {
   "cell_type": "code",
   "execution_count": null,
   "metadata": {
    "collapsed": true
   },
   "outputs": [],
   "source": []
  },
  {
   "cell_type": "code",
   "execution_count": null,
   "metadata": {
    "collapsed": true
   },
   "outputs": [],
   "source": []
  },
  {
   "cell_type": "code",
   "execution_count": null,
   "metadata": {
    "collapsed": true
   },
   "outputs": [],
   "source": []
  },
  {
   "cell_type": "code",
   "execution_count": null,
   "metadata": {
    "collapsed": true
   },
   "outputs": [],
   "source": []
  },
  {
   "cell_type": "code",
   "execution_count": null,
   "metadata": {
    "collapsed": true
   },
   "outputs": [],
   "source": []
  },
  {
   "cell_type": "code",
   "execution_count": null,
   "metadata": {
    "collapsed": true
   },
   "outputs": [],
   "source": []
  }
 ],
 "metadata": {
  "kernelspec": {
   "display_name": "Python 3",
   "language": "python",
   "name": "python3"
  },
  "language_info": {
   "codemirror_mode": {
    "name": "ipython",
    "version": 3
   },
   "file_extension": ".py",
   "mimetype": "text/x-python",
   "name": "python",
   "nbconvert_exporter": "python",
   "pygments_lexer": "ipython3",
   "version": "3.6.4"
  }
 },
 "nbformat": 4,
 "nbformat_minor": 2
}
