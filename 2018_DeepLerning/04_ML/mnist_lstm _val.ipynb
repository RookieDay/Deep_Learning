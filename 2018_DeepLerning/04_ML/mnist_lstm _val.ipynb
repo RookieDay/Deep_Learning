{
 "cells": [
  {
   "cell_type": "code",
   "execution_count": 8,
   "metadata": {
    "collapsed": true
   },
   "outputs": [],
   "source": [
    "import tensorflow as tf\n",
    "import matplotlib.pyplot as plt\n",
    "from tensorflow.examples.tutorials.mnist import input_data"
   ]
  },
  {
   "cell_type": "code",
   "execution_count": 9,
   "metadata": {},
   "outputs": [
    {
     "name": "stdout",
     "output_type": "stream",
     "text": [
      "Extracting MNIST_data/train-images-idx3-ubyte.gz\n",
      "Extracting MNIST_data/train-labels-idx1-ubyte.gz\n",
      "Extracting MNIST_data/t10k-images-idx3-ubyte.gz\n",
      "Extracting MNIST_data/t10k-labels-idx1-ubyte.gz\n"
     ]
    }
   ],
   "source": [
    "#data input\n",
    "mnist = input_data.read_data_sets('MNIST_data', one_hot=True)"
   ]
  },
  {
   "cell_type": "code",
   "execution_count": 10,
   "metadata": {
    "collapsed": true
   },
   "outputs": [],
   "source": [
    "lr = 1e-3\n",
    "training_iters = 1001\n",
    "display_step = 10\n",
    "\n",
    "n_inputs = 28\n",
    "n_steps = 28\n",
    "n_classes = 10"
   ]
  },
  {
   "cell_type": "code",
   "execution_count": 11,
   "metadata": {
    "collapsed": true
   },
   "outputs": [],
   "source": [
    "def RNN_INIT(n_inputs, n_classes, hidden_units=128):\n",
    "    weights = {\n",
    "      'in': tf.Variable(tf.random_normal([n_inputs, hidden_units])),\n",
    "      'out': tf.Variable(tf.random_normal([hidden_units, n_classes]))\n",
    "    }\n",
    "\n",
    "    biases = {\n",
    "      'in': tf.Variable(tf.constant(0.1, shape=[hidden_units,])),\n",
    "      'out': tf.Variable(tf.constant(0.1, shape=[n_classes,]))\n",
    "    }\n",
    "    return weights,biases\n",
    "\n",
    "def RNN(x, weights, biases,hidden_units=128,f_bias=1.0,b_size = 128):\n",
    "    #hidden layer for input to cell\n",
    "    # x is 128 batch, 28 steps, 28 inputs\n",
    "    # reshape to 128*28, 28 inputs\n",
    "    x = tf.reshape(x, [-1, n_inputs])\n",
    "    #x_in is 128batch*28 steps, 128 hidden\n",
    "    x_in = tf.matmul(x, weights['in']) + biases['in']\n",
    "    #x_in is 128batch, 28steps, 128 hidden\n",
    "    x_in = tf.reshape(x_in, [-1, n_steps, hidden_units])\n",
    "\n",
    "    #cell\n",
    "    lstm_cell = tf.nn.rnn_cell.BasicLSTMCell(hidden_units, forget_bias=f_bias, state_is_tuple=True)\n",
    "    #lstm cell is divided into two parts(c_state, m_state)\n",
    "    _init_state = lstm_cell.zero_state(b_size, dtype=tf.float32)\n",
    "    with tf.variable_scope(\"rcnn\", reuse=None):  \n",
    "        outputs, states = tf.nn.dynamic_rnn(lstm_cell, x_in, initial_state=_init_state, time_major=False)\n",
    "\n",
    "    #hidden layer for output as the final results\n",
    "    # results = tf.matmul(state[1], weights['out'] + biases['out']\n",
    "    outputs = tf.unstack(tf.transpose(outputs, [1,0,2]))\n",
    "    #outputs trasposed to [n_steps, batch_size, output_size] n_step is the major dimension\n",
    "  \n",
    "    results = tf.matmul(outputs[-1], weights['out']) + biases['out']\n",
    "    #outputs[-1] is the output of last step\n",
    "    return results"
   ]
  },
  {
   "cell_type": "code",
   "execution_count": 12,
   "metadata": {
    "collapsed": true
   },
   "outputs": [],
   "source": [
    "param_test = {\n",
    "    'hidden_units':[8,64,128,256],\n",
    "    'forget_bias':[0.2,0.4,0.8,1],\n",
    "    'batch_size':[64,128,256,512]\n",
    "}"
   ]
  },
  {
   "cell_type": "code",
   "execution_count": 6,
   "metadata": {
    "collapsed": true
   },
   "outputs": [],
   "source": [
    "def models_process(param_test):\n",
    "    models = {\n",
    "     'hidden_units':{},\n",
    "     'forget_bias':{},\n",
    "     'batch_size':{}\n",
    "    }\n",
    "\n",
    "    for key_param,value_param in enumerate(param_test):\n",
    "\n",
    "        for parm_varm in param_test[value_param]:\n",
    "            tf.reset_default_graph()\n",
    "            x = tf.placeholder(tf.float32, [None, n_steps, n_inputs])\n",
    "            y = tf.placeholder(tf.float32, [None, n_classes])\n",
    "            batch_size = 128\n",
    "            print(parm_varm)\n",
    "            if value_param == 'hidden_units':\n",
    "                weights, biases = RNN_INIT(n_inputs, n_classes, parm_varm)\n",
    "                pred = RNN(x, weights, biases, hidden_units=parm_varm)\n",
    "            else:\n",
    "                weights, biases = RNN_INIT(n_inputs, n_classes)\n",
    "\n",
    "            if value_param == 'forget_bias':\n",
    "                pred = RNN(x, weights, biases,128,parm_varm)\n",
    "\n",
    "            if value_param == 'batch_size':\n",
    "                pred = RNN(x, weights, biases,128,1.0,parm_varm)\n",
    "                batch_size = parm_varm\n",
    "            \n",
    "            cost = tf.reduce_sum(tf.nn.softmax_cross_entropy_with_logits(logits=pred, labels=y))\n",
    "            train_op = tf.train.AdamOptimizer(lr).minimize(cost)\n",
    "\n",
    "            correct_pred = tf.equal(tf.argmax(pred, 1), tf.argmax(y, 1))\n",
    "            accuracy = tf.reduce_mean(tf.cast(correct_pred, tf.float32))\n",
    "\n",
    "            init = tf.global_variables_initializer()\n",
    "\n",
    "            with tf.Session() as sess:\n",
    "                sess.run(init)\n",
    "                step = 0\n",
    "                steps = []\n",
    "                accuracy_s = []\n",
    "                while step < training_iters:\n",
    "                    batch_xs, batch_ys = mnist.train.next_batch(batch_size)\n",
    "                    batch_xs = batch_xs.reshape([batch_size, n_steps, n_inputs])\n",
    "                    sess.run([train_op], feed_dict={\n",
    "                      x: batch_xs,\n",
    "                      y: batch_ys,\n",
    "                    })\n",
    "                    if step % 100 ==0:\n",
    "                        val_x = mnist.test.images.reshape([batch_size, n_steps, n_inputs])\n",
    "                        val_y = mnist.test.images.labels\n",
    "                        acy = sess.run(accuracy, feed_dict={x: val_x, y: val_y})\n",
    "#                         acy = sess.run(accuracy, feed_dict={x: batch_xs, y: batch_ys})\n",
    "                        accuracy_s.append(acy)\n",
    "                        steps.append(step)\n",
    "                        print (\"step:\",step,\",\",\"accuracy:\",acy)\n",
    "                    step = step + 1\n",
    "                print(value_param, parm_varm)\n",
    "                models[value_param][str(parm_varm)] = {'steps':steps,'accuracy_s':accuracy_s}\n",
    "    return models"
   ]
  },
  {
   "cell_type": "code",
   "execution_count": 7,
   "metadata": {},
   "outputs": [
    {
     "name": "stdout",
     "output_type": "stream",
     "text": [
      "8\n"
     ]
    },
    {
     "ename": "ValueError",
     "evalue": "cannot reshape array of size 7840000 into shape (128,28,28)",
     "output_type": "error",
     "traceback": [
      "\u001b[0;31m---------------------------------------------------------------------------\u001b[0m",
      "\u001b[0;31mValueError\u001b[0m                                Traceback (most recent call last)",
      "\u001b[0;32m<ipython-input-7-16674907e885>\u001b[0m in \u001b[0;36m<module>\u001b[0;34m()\u001b[0m\n\u001b[0;32m----> 1\u001b[0;31m \u001b[0mmodels\u001b[0m \u001b[0;34m=\u001b[0m \u001b[0mmodels_process\u001b[0m\u001b[0;34m(\u001b[0m\u001b[0mparam_test\u001b[0m\u001b[0;34m)\u001b[0m\u001b[0;34m\u001b[0m\u001b[0m\n\u001b[0m",
      "\u001b[0;32m<ipython-input-6-c7f9bfa0c1df>\u001b[0m in \u001b[0;36mmodels_process\u001b[0;34m(param_test)\u001b[0m\n\u001b[1;32m     48\u001b[0m                     })\n\u001b[1;32m     49\u001b[0m                     \u001b[0;32mif\u001b[0m \u001b[0mstep\u001b[0m \u001b[0;34m%\u001b[0m \u001b[0;36m100\u001b[0m \u001b[0;34m==\u001b[0m\u001b[0;36m0\u001b[0m\u001b[0;34m:\u001b[0m\u001b[0;34m\u001b[0m\u001b[0m\n\u001b[0;32m---> 50\u001b[0;31m                         \u001b[0mval_x\u001b[0m \u001b[0;34m=\u001b[0m \u001b[0mmnist\u001b[0m\u001b[0;34m.\u001b[0m\u001b[0mtest\u001b[0m\u001b[0;34m.\u001b[0m\u001b[0mimages\u001b[0m\u001b[0;34m.\u001b[0m\u001b[0mreshape\u001b[0m\u001b[0;34m(\u001b[0m\u001b[0;34m[\u001b[0m\u001b[0mbatch_size\u001b[0m\u001b[0;34m,\u001b[0m \u001b[0mn_steps\u001b[0m\u001b[0;34m,\u001b[0m \u001b[0mn_inputs\u001b[0m\u001b[0;34m]\u001b[0m\u001b[0;34m)\u001b[0m\u001b[0;34m\u001b[0m\u001b[0m\n\u001b[0m\u001b[1;32m     51\u001b[0m                         \u001b[0mval_y\u001b[0m \u001b[0;34m=\u001b[0m \u001b[0mmnist\u001b[0m\u001b[0;34m.\u001b[0m\u001b[0mtest\u001b[0m\u001b[0;34m.\u001b[0m\u001b[0mimages\u001b[0m\u001b[0;34m.\u001b[0m\u001b[0mlabels\u001b[0m\u001b[0;34m\u001b[0m\u001b[0m\n\u001b[1;32m     52\u001b[0m                         \u001b[0macy\u001b[0m \u001b[0;34m=\u001b[0m \u001b[0msess\u001b[0m\u001b[0;34m.\u001b[0m\u001b[0mrun\u001b[0m\u001b[0;34m(\u001b[0m\u001b[0maccuracy\u001b[0m\u001b[0;34m,\u001b[0m \u001b[0mfeed_dict\u001b[0m\u001b[0;34m=\u001b[0m\u001b[0;34m{\u001b[0m\u001b[0mx\u001b[0m\u001b[0;34m:\u001b[0m \u001b[0mval_x\u001b[0m\u001b[0;34m,\u001b[0m \u001b[0my\u001b[0m\u001b[0;34m:\u001b[0m \u001b[0mval_y\u001b[0m\u001b[0;34m}\u001b[0m\u001b[0;34m)\u001b[0m\u001b[0;34m\u001b[0m\u001b[0m\n",
      "\u001b[0;31mValueError\u001b[0m: cannot reshape array of size 7840000 into shape (128,28,28)"
     ]
    }
   ],
   "source": [
    "models = models_process(param_test)"
   ]
  },
  {
   "cell_type": "code",
   "execution_count": 108,
   "metadata": {},
   "outputs": [
    {
     "data": {
      "text/plain": [
       "{'batch_size': {'128': {'accuracy_s': [0.1640625,\n",
       "    0.8828125,\n",
       "    0.890625,\n",
       "    0.9140625,\n",
       "    0.9765625,\n",
       "    0.9375,\n",
       "    0.9609375,\n",
       "    0.9765625,\n",
       "    0.9765625,\n",
       "    0.9921875,\n",
       "    0.9765625],\n",
       "   'steps': [0, 100, 200, 300, 400, 500, 600, 700, 800, 900, 1000]},\n",
       "  '256': {'accuracy_s': [0.17578125,\n",
       "    0.89453125,\n",
       "    0.9453125,\n",
       "    0.94921875,\n",
       "    0.9453125,\n",
       "    0.984375,\n",
       "    0.97265625,\n",
       "    0.98046875,\n",
       "    0.97265625,\n",
       "    0.99609375,\n",
       "    0.984375],\n",
       "   'steps': [0, 100, 200, 300, 400, 500, 600, 700, 800, 900, 1000]},\n",
       "  '512': {'accuracy_s': [0.1328125,\n",
       "    0.89453125,\n",
       "    0.95507812,\n",
       "    0.94726562,\n",
       "    0.96289062,\n",
       "    0.98828125,\n",
       "    0.98828125,\n",
       "    0.98632812,\n",
       "    0.984375,\n",
       "    0.99023438,\n",
       "    0.9921875],\n",
       "   'steps': [0, 100, 200, 300, 400, 500, 600, 700, 800, 900, 1000]},\n",
       "  '64': {'accuracy_s': [0.203125,\n",
       "    0.796875,\n",
       "    0.90625,\n",
       "    0.984375,\n",
       "    0.9375,\n",
       "    0.9375,\n",
       "    0.96875,\n",
       "    0.921875,\n",
       "    0.96875,\n",
       "    0.96875,\n",
       "    0.984375],\n",
       "   'steps': [0, 100, 200, 300, 400, 500, 600, 700, 800, 900, 1000]}},\n",
       " 'forget_bias': {'0.2': {'accuracy_s': [0.21875,\n",
       "    0.8515625,\n",
       "    0.8984375,\n",
       "    0.96875,\n",
       "    0.9375,\n",
       "    0.96875,\n",
       "    0.984375,\n",
       "    0.953125,\n",
       "    0.96875,\n",
       "    0.984375,\n",
       "    0.9921875],\n",
       "   'steps': [0, 100, 200, 300, 400, 500, 600, 700, 800, 900, 1000]},\n",
       "  '0.4': {'accuracy_s': [0.28125,\n",
       "    0.8046875,\n",
       "    0.921875,\n",
       "    0.9296875,\n",
       "    0.96875,\n",
       "    0.9609375,\n",
       "    0.9609375,\n",
       "    0.9375,\n",
       "    0.9609375,\n",
       "    0.984375,\n",
       "    0.9765625],\n",
       "   'steps': [0, 100, 200, 300, 400, 500, 600, 700, 800, 900, 1000]},\n",
       "  '0.8': {'accuracy_s': [0.1640625,\n",
       "    0.8671875,\n",
       "    0.8984375,\n",
       "    0.8828125,\n",
       "    0.9453125,\n",
       "    0.9453125,\n",
       "    0.96875,\n",
       "    0.9765625,\n",
       "    0.9453125,\n",
       "    0.9765625,\n",
       "    0.984375],\n",
       "   'steps': [0, 100, 200, 300, 400, 500, 600, 700, 800, 900, 1000]},\n",
       "  '1': {'accuracy_s': [0.1875,\n",
       "    0.9375,\n",
       "    0.90625,\n",
       "    0.953125,\n",
       "    0.9375,\n",
       "    1.0,\n",
       "    0.96875,\n",
       "    0.953125,\n",
       "    0.984375,\n",
       "    0.96875,\n",
       "    0.984375],\n",
       "   'steps': [0, 100, 200, 300, 400, 500, 600, 700, 800, 900, 1000]}},\n",
       " 'hidden_units': {'128': {'accuracy_s': [0.1953125,\n",
       "    0.8671875,\n",
       "    0.90625,\n",
       "    0.9375,\n",
       "    0.96875,\n",
       "    0.953125,\n",
       "    0.9765625,\n",
       "    0.984375,\n",
       "    0.984375,\n",
       "    0.96875,\n",
       "    0.9609375],\n",
       "   'steps': [0, 100, 200, 300, 400, 500, 600, 700, 800, 900, 1000]},\n",
       "  '256': {'accuracy_s': [0.2265625,\n",
       "    0.859375,\n",
       "    0.9296875,\n",
       "    0.9453125,\n",
       "    0.90625,\n",
       "    0.9453125,\n",
       "    0.9375,\n",
       "    0.984375,\n",
       "    0.9609375,\n",
       "    0.953125,\n",
       "    0.9921875],\n",
       "   'steps': [0, 100, 200, 300, 400, 500, 600, 700, 800, 900, 1000]},\n",
       "  '64': {'accuracy_s': [0.1328125,\n",
       "    0.8515625,\n",
       "    0.921875,\n",
       "    0.9375,\n",
       "    0.90625,\n",
       "    0.9609375,\n",
       "    0.96875,\n",
       "    0.9453125,\n",
       "    0.9609375,\n",
       "    0.9921875,\n",
       "    0.9453125],\n",
       "   'steps': [0, 100, 200, 300, 400, 500, 600, 700, 800, 900, 1000]},\n",
       "  '8': {'accuracy_s': [0.1015625,\n",
       "    0.3046875,\n",
       "    0.3203125,\n",
       "    0.4609375,\n",
       "    0.609375,\n",
       "    0.625,\n",
       "    0.640625,\n",
       "    0.609375,\n",
       "    0.671875,\n",
       "    0.7265625,\n",
       "    0.7109375],\n",
       "   'steps': [0, 100, 200, 300, 400, 500, 600, 700, 800, 900, 1000]}}}"
      ]
     },
     "execution_count": 108,
     "metadata": {},
     "output_type": "execute_result"
    }
   ],
   "source": [
    "models"
   ]
  },
  {
   "cell_type": "code",
   "execution_count": 109,
   "metadata": {},
   "outputs": [
    {
     "data": {
      "image/png": "[encoded data removed]",
      "text/plain": [
       "<matplotlib.figure.Figure at 0x7fe4854f2a58>"
      ]
     },
     "metadata": {},
     "output_type": "display_data"
    }
   ],
   "source": [
    "# 绘制不同学习函数 accuracy的曲线\n",
    "plt.figure(figsize=(14,8))\n",
    "for param,param_val in enumerate(models):\n",
    "    plt.subplot(221+param)\n",
    "    for inner_key in models[param_val]:\n",
    "        plt.plot(models[param_val][inner_key]['steps'],models[param_val][inner_key]['accuracy_s'],label=str(inner_key))\n",
    "        plt.ylabel('accuracy')\n",
    "        plt.xlabel('per 1000 steps)')\n",
    "        plt.title(param_val)\n",
    "        legend = plt.legend(loc='best',shadow=True)\n",
    "        frame = legend.get_frame()\n",
    "        frame.set_facecolor('0.90')\n",
    "plt.show()"
   ]
  },
  {
   "cell_type": "code",
   "execution_count": null,
   "metadata": {
    "collapsed": true
   },
   "outputs": [],
   "source": []
  }
 ],
 "metadata": {
  "kernelspec": {
   "display_name": "Python 3",
   "language": "python",
   "name": "python3"
  },
  "language_info": {
   "codemirror_mode": {
    "name": "ipython",
    "version": 3
   },
   "file_extension": ".py",
   "mimetype": "text/x-python",
   "name": "python",
   "nbconvert_exporter": "python",
   "pygments_lexer": "ipython3",
   "version": "3.6.4"
  }
 },
 "nbformat": 4,
 "nbformat_minor": 2
}
