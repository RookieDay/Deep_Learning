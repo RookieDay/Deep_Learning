{
 "cells": [
  {
   "cell_type": "code",
   "execution_count": 1,
   "metadata": {
    "collapsed": true
   },
   "outputs": [],
   "source": [
    "import tensorflow as tf\n",
    "from tensorflow.examples.tutorials.mnist import input_data"
   ]
  },
  {
   "cell_type": "code",
   "execution_count": 2,
   "metadata": {},
   "outputs": [
    {
     "name": "stdout",
     "output_type": "stream",
     "text": [
      "Extracting MNIST_data/train-images-idx3-ubyte.gz\n",
      "Extracting MNIST_data/train-labels-idx1-ubyte.gz\n",
      "Extracting MNIST_data/t10k-images-idx3-ubyte.gz\n",
      "Extracting MNIST_data/t10k-labels-idx1-ubyte.gz\n"
     ]
    }
   ],
   "source": [
    "#data input\n",
    "mnist = input_data.read_data_sets('MNIST_data', one_hot=True)\n",
    "\n",
    "lr = 1e-3\n",
    "training_iters = 1001\n",
    "batch_size = 128\n",
    "display_step = 10\n",
    "\n",
    "n_inputs = 28\n",
    "n_steps = 28\n",
    "n_hidden_units = 128\n",
    "n_classes = 10"
   ]
  },
  {
   "cell_type": "code",
   "execution_count": 3,
   "metadata": {
    "collapsed": true
   },
   "outputs": [],
   "source": [
    "x = tf.placeholder(tf.float32, [None, n_steps, n_inputs])\n",
    "y = tf.placeholder(tf.float32, [None, n_classes])\n",
    "\n",
    "weights = {\n",
    "  'in': tf.Variable(tf.random_normal([n_inputs, n_hidden_units])),\n",
    "  'out': tf.Variable(tf.random_normal([n_hidden_units, n_classes]))\n",
    "}\n",
    "\n",
    "biases = {\n",
    "  'in': tf.Variable(tf.constant(0.1, shape=[n_hidden_units,])),\n",
    "  'out': tf.Variable(tf.constant(0.1, shape=[n_classes,]))\n",
    "}\n",
    "\n",
    "def RNN(x, weights, biases):\n",
    "  #hidden layer for input to cell\n",
    "  # x is 128 batch, 28 steps, 28 inputs\n",
    "  # reshape to 128*28, 28 inputs\n",
    "  x = tf.reshape(x, [-1, n_inputs])\n",
    "  #x_in is 128batch*28 steps, 128 hidden\n",
    "  x_in = tf.matmul(x, weights['in']) + biases['in']\n",
    "  #x_in is 128batch, 28steps, 128 hidden\n",
    "  x_in = tf.reshape(x_in, [-1, n_steps, n_hidden_units])\n",
    "\n",
    "  #cell\n",
    "  lstm_cell = tf.nn.rnn_cell.BasicLSTMCell(n_hidden_units, forget_bias=1.0, state_is_tuple=True)\n",
    "  #lstm cell is divided into two parts(c_state, m_state)\n",
    "  _init_state = lstm_cell.zero_state(batch_size, dtype=tf.float32)\n",
    "  outputs, states = tf.nn.dynamic_rnn(lstm_cell, x_in, initial_state=_init_state, time_major=False)\n",
    "\n",
    "  #hidden layer for output as the final results\n",
    "  # results = tf.matmul(state[1], weights['out'] + biases['out']\n",
    "  outputs = tf.unstack(tf.transpose(outputs, [1,0,2]))\n",
    "  #outputs trasposed to [n_steps, batch_size, output_size] n_step is the major dimension\n",
    "  \n",
    "  results = tf.matmul(outputs[-1], weights['out']) + biases['out']\n",
    "  #outputs[-1] is the output of last step\n",
    "  return results"
   ]
  },
  {
   "cell_type": "code",
   "execution_count": 4,
   "metadata": {},
   "outputs": [
    {
     "name": "stdout",
     "output_type": "stream",
     "text": [
      "step: 0 , accuracy: 0.234375\n",
      "step: 100 , accuracy: 0.859375\n",
      "step: 200 , accuracy: 0.890625\n",
      "step: 300 , accuracy: 0.914062\n",
      "step: 400 , accuracy: 0.96875\n",
      "step: 500 , accuracy: 0.96875\n",
      "step: 600 , accuracy: 0.96875\n",
      "step: 700 , accuracy: 0.96875\n",
      "step: 800 , accuracy: 0.976562\n",
      "step: 900 , accuracy: 0.96875\n",
      "step: 1000 , accuracy: 0.960938\n"
     ]
    }
   ],
   "source": [
    "pred = RNN(x, weights, biases)\n",
    "cost = tf.reduce_sum(tf.nn.softmax_cross_entropy_with_logits(logits=pred, labels=y))\n",
    "train_op = tf.train.AdamOptimizer(lr).minimize(cost)\n",
    "\n",
    "correct_pred = tf.equal(tf.argmax(pred, 1), tf.argmax(y, 1))\n",
    "accuracy = tf.reduce_mean(tf.cast(correct_pred, tf.float32))\n",
    "\n",
    "init = tf.global_variables_initializer()\n",
    "\n",
    "with tf.Session() as sess:\n",
    "  sess.run(init)\n",
    "  step = 0\n",
    "\n",
    "  while step < training_iters:\n",
    "    batch_xs, batch_ys = mnist.train.next_batch(batch_size)\n",
    "    batch_xs = batch_xs.reshape([batch_size, n_steps, n_inputs])\n",
    "    sess.run([train_op], feed_dict={\n",
    "      x: batch_xs,\n",
    "      y: batch_ys,\n",
    "    })\n",
    "    if step % 100 ==0:\n",
    "      print (\"step:\",step,\",\",\"accuracy:\",sess.run(accuracy, feed_dict={x: batch_xs, y: batch_ys}))\n",
    "    step = step + 1"
   ]
  },
  {
   "cell_type": "code",
   "execution_count": null,
   "metadata": {
    "collapsed": true
   },
   "outputs": [],
   "source": []
  }
 ],
 "metadata": {
  "kernelspec": {
   "display_name": "Python 3",
   "language": "python",
   "name": "python3"
  },
  "language_info": {
   "codemirror_mode": {
    "name": "ipython",
    "version": 3
   },
   "file_extension": ".py",
   "mimetype": "text/x-python",
   "name": "python",
   "nbconvert_exporter": "python",
   "pygments_lexer": "ipython3",
   "version": "3.6.4"
  }
 },
 "nbformat": 4,
 "nbformat_minor": 2
}
