{
 "cells": [
  {
   "cell_type": "code",
   "execution_count": 21,
   "metadata": {},
   "outputs": [],
   "source": [
    "import tensorflow as tf\n",
    "from tensorflow.examples.tutorials.mnist import input_data"
   ]
  },
  {
   "cell_type": "code",
   "execution_count": 23,
   "metadata": {},
   "outputs": [
    {
     "name": "stdout",
     "output_type": "stream",
     "text": [
      "Extracting MNIST_data/train-images-idx3-ubyte.gz\n",
      "Extracting MNIST_data/train-labels-idx1-ubyte.gz\n",
      "Extracting MNIST_data/t10k-images-idx3-ubyte.gz\n",
      "Extracting MNIST_data/t10k-labels-idx1-ubyte.gz\n"
     ]
    }
   ],
   "source": [
    "mnist = input_data.read_data_sets('MNIST_data',one_hot=True)"
   ]
  },
  {
   "cell_type": "code",
   "execution_count": 74,
   "metadata": {
    "collapsed": true
   },
   "outputs": [],
   "source": [
    "lr = 0.001\n",
    "training_iters = 100000\n",
    "batch_size =128"
   ]
  },
  {
   "cell_type": "code",
   "execution_count": 75,
   "metadata": {
    "collapsed": true
   },
   "outputs": [],
   "source": [
    "n_inputs = 28 #MNIST data input (image shape:28*28)\n",
    "n_steps = 28 #time steps\n",
    "n_hidden_units = 128 # neurons in hidden layer\n",
    "n_classes = 10 #MNIST classes(0-9 digits)"
   ]
  },
  {
   "cell_type": "code",
   "execution_count": 76,
   "metadata": {},
   "outputs": [],
   "source": [
    "tf.reset_default_graph()\n",
    "x = tf.placeholder(tf.float32,[None,n_steps,n_inputs])\n",
    "y = tf.placeholder(tf.float32,[None,c_classes])\n",
    "weights = {\n",
    "#     (28,128)\n",
    "    'in':tf.Variable(tf.random_normal([n_inputs,n_hidden_units])),\n",
    "#     (128,10)\n",
    "    'out':tf.Variable(tf.random_normal([n_hidden_units,n_classes]))\n",
    "}\n",
    "biases = {\n",
    "#     (128,1)\n",
    "    'in':tf.Variable(tf.constant(0.1,shape=[n_hidden_units,])),\n",
    "#     (10,)\n",
    "    'out':tf.Variable(tf.constant(0.1,shape=[n_classes,]))\n",
    "}"
   ]
  },
  {
   "cell_type": "code",
   "execution_count": 77,
   "metadata": {
    "collapsed": true
   },
   "outputs": [],
   "source": [
    "def RNN(X,weights,biases):\n",
    "#     hidden layer for input cel\n",
    "#     X(128 batch,28 steps,28 inputs)\n",
    "# (128*28,28 inputs)\n",
    "    X = tf.reshape(X,[-1,n_inputs])\n",
    "#    X_in (128batch*28steps,128 hidden)\n",
    "    X_in = tf.matmul(X,weights['in']) + biases['in']\n",
    "    #X_in(128batch,28steps,128 hidden)\n",
    "    X_in = tf.reshape(X_in,[-1,n_steps,n_hidden_units])\n",
    "    \n",
    "    \n",
    "#     cell\n",
    "    lstm_cell = tf.nn.rnn_cell.BasicLSTMCell(n_hidden_units,forget_bias=1.0,state_is_tuple=True)\n",
    "#     c_state 主线  m_state 次线\n",
    "    #     lstm_cell is divided into two parts(c_state,m_state)\n",
    "    _init_state = lstm_cell.zero_state(batch_size,dtype=tf.float32)\n",
    "#     states是最后一步的states ouputs是个list 存储每一步的\n",
    "    outputs, states = tf.nn.dynamic_rnn(lstm_cell,X_in,initial_state=_init_state,time_major=False)\n",
    "#     hidden layer for output as the final results\n",
    "# states[1] -- 代表分线剧情  m_state\n",
    "#     results = tf.matmul(states[1],wegits['out']) + biases['out']\n",
    "#     states[1] ===> outputs[-1]\n",
    "\n",
    "\n",
    "#     or第二种方法 unstack to list [(batch,outputs)...] * steps\n",
    "    outputs = tf.unstack(tf.transpose(outputs,[1,0,2])) #state is the last outputs\n",
    "    results = tf.matmul(outputs[-1],weights['out']) + biases['out']\n",
    "\n",
    "    return results"
   ]
  },
  {
   "cell_type": "code",
   "execution_count": 78,
   "metadata": {},
   "outputs": [],
   "source": [
    "pred = RNN(x,weights,biases)\n",
    "cost = tf.reduce_mean(tf.nn.softmax_cross_entropy_with_logits(labels = y,logits = pred))\n",
    "train_op = tf.train.AdamOptimizer(lr).minimize(cost)"
   ]
  },
  {
   "cell_type": "code",
   "execution_count": 79,
   "metadata": {},
   "outputs": [],
   "source": [
    "correct_pred = tf.equal(tf.argmax(pred,1),tf.argmax(y,1))\n",
    "accuracy = tf.reduce_mean(tf.cast(correct_pred,tf.float32))\n",
    "init = tf.global_variables_initializer()"
   ]
  },
  {
   "cell_type": "code",
   "execution_count": 81,
   "metadata": {
    "scrolled": true
   },
   "outputs": [
    {
     "name": "stdout",
     "output_type": "stream",
     "text": [
      "0.296875\n",
      "0.671875\n",
      "0.71875\n",
      "0.789062\n",
      "0.84375\n",
      "0.890625\n",
      "0.90625\n",
      "0.90625\n",
      "0.90625\n",
      "0.859375\n",
      "0.898438\n",
      "0.867188\n",
      "0.875\n",
      "0.867188\n",
      "0.960938\n",
      "0.929688\n",
      "0.953125\n",
      "0.90625\n",
      "0.898438\n",
      "0.953125\n",
      "0.90625\n",
      "0.976562\n",
      "0.976562\n",
      "0.9375\n",
      "0.953125\n",
      "0.960938\n",
      "0.960938\n",
      "0.976562\n",
      "0.96875\n",
      "0.976562\n",
      "0.960938\n",
      "0.96875\n",
      "0.960938\n",
      "0.992188\n",
      "0.992188\n",
      "0.960938\n",
      "0.960938\n",
      "0.984375\n",
      "0.976562\n",
      "0.945312\n"
     ]
    }
   ],
   "source": [
    "with tf.Session() as sess:\n",
    "    sess.run(init)\n",
    "    step = 0\n",
    "    while step*batch_size < training_iters:\n",
    "        batch_xs, batch_ys = mnist.train.next_batch(batch_size)\n",
    "        batch_xs = batch_xs.reshape([batch_size,n_steps,n_inputs])\n",
    "        sess.run([train_op],feed_dict={\n",
    "            x:batch_xs,\n",
    "            y:batch_ys\n",
    "        })\n",
    "        if step %20 == 0:\n",
    "            print(sess.run(accuracy,feed_dict={\n",
    "                x:batch_xs,\n",
    "                y:batch_ys\n",
    "            }))\n",
    "        step += 1"
   ]
  },
  {
   "cell_type": "code",
   "execution_count": null,
   "metadata": {
    "collapsed": true
   },
   "outputs": [],
   "source": []
  },
  {
   "cell_type": "code",
   "execution_count": null,
   "metadata": {
    "collapsed": true
   },
   "outputs": [],
   "source": []
  }
 ],
 "metadata": {
  "kernelspec": {
   "display_name": "Python 3",
   "language": "python",
   "name": "python3"
  },
  "language_info": {
   "codemirror_mode": {
    "name": "ipython",
    "version": 3
   },
   "file_extension": ".py",
   "mimetype": "text/x-python",
   "name": "python",
   "nbconvert_exporter": "python",
   "pygments_lexer": "ipython3",
   "version": "3.6.4"
  }
 },
 "nbformat": 4,
 "nbformat_minor": 2
}
