{
 "cells": [
  {
   "cell_type": "code",
   "execution_count": 2,
   "metadata": {
    "collapsed": true
   },
   "outputs": [],
   "source": [
    "import torch\n",
    "from torch.autograd import Variable"
   ]
  },
  {
   "cell_type": "code",
   "execution_count": 3,
   "metadata": {
    "collapsed": true
   },
   "outputs": [],
   "source": [
    "tensor = torch.FloatTensor([[1,2],[3,4]])\n",
    "# Variable 是计算图的一部分, 可以用来传递误差就好\n",
    "variable = Variable(tensor, requires_grad=True)"
   ]
  },
  {
   "cell_type": "code",
   "execution_count": 4,
   "metadata": {},
   "outputs": [
    {
     "name": "stdout",
     "output_type": "stream",
     "text": [
      "tensor([[ 1.,  2.],\n",
      "        [ 3.,  4.]])\n"
     ]
    }
   ],
   "source": [
    "print(tensor)"
   ]
  },
  {
   "cell_type": "code",
   "execution_count": 5,
   "metadata": {},
   "outputs": [
    {
     "name": "stdout",
     "output_type": "stream",
     "text": [
      "tensor([[ 1.,  2.],\n",
      "        [ 3.,  4.]])\n"
     ]
    }
   ],
   "source": [
    "print(variable)"
   ]
  },
  {
   "cell_type": "code",
   "execution_count": 6,
   "metadata": {
    "collapsed": true
   },
   "outputs": [],
   "source": [
    "t_out = torch.mean(tensor*tensor)\n",
    "v_out = torch.mean(variable*variable)"
   ]
  },
  {
   "cell_type": "code",
   "execution_count": 7,
   "metadata": {},
   "outputs": [
    {
     "data": {
      "text/plain": [
       "tensor(7.5000)"
      ]
     },
     "execution_count": 7,
     "metadata": {},
     "output_type": "execute_result"
    }
   ],
   "source": [
    "t_out"
   ]
  },
  {
   "cell_type": "code",
   "execution_count": 8,
   "metadata": {},
   "outputs": [
    {
     "data": {
      "text/plain": [
       "tensor(7.5000)"
      ]
     },
     "execution_count": 8,
     "metadata": {},
     "output_type": "execute_result"
    }
   ],
   "source": [
    "v_out"
   ]
  },
  {
   "cell_type": "code",
   "execution_count": 9,
   "metadata": {
    "collapsed": true
   },
   "outputs": [],
   "source": [
    "v_out.backward()"
   ]
  },
  {
   "cell_type": "code",
   "execution_count": 14,
   "metadata": {},
   "outputs": [
    {
     "name": "stdout",
     "output_type": "stream",
     "text": [
      "<built-in method numpy of Tensor object at 0x7f15500f47e0>\n"
     ]
    }
   ],
   "source": [
    "print(variable.data.numpy)"
   ]
  },
  {
   "cell_type": "code",
   "execution_count": 15,
   "metadata": {},
   "outputs": [
    {
     "name": "stdout",
     "output_type": "stream",
     "text": [
      "tensor([[ 1.,  2.],\n",
      "        [ 3.,  4.]])\n"
     ]
    }
   ],
   "source": [
    "print(variable.data)"
   ]
  },
  {
   "cell_type": "code",
   "execution_count": 18,
   "metadata": {},
   "outputs": [],
   "source": [
    "import torch.nn.functional as F"
   ]
  },
  {
   "cell_type": "code",
   "execution_count": 19,
   "metadata": {
    "collapsed": true
   },
   "outputs": [],
   "source": [
    "x = torch.linspace(-5,5,200)"
   ]
  },
  {
   "cell_type": "code",
   "execution_count": 25,
   "metadata": {},
   "outputs": [],
   "source": [
    "x = Variable(x)\n",
    "x_np = x.data.numpy()   # 换成 numpy array, 出图时用"
   ]
  },
  {
   "cell_type": "code",
   "execution_count": 26,
   "metadata": {
    "collapsed": true
   },
   "outputs": [],
   "source": [
    "# 几种常用的 激励函数\n",
    "y_relu = F.relu(x).data.numpy()\n",
    "y_sigmoid = F.sigmoid(x).data.numpy()\n",
    "y_tanh = F.tanh(x).data.numpy()\n",
    "y_softplus = F.softplus(x).data.numpy()\n",
    "# y_softmax = F.softmax(x)  softmax 比较特殊, 不能直接显示, 不过他是关于概率的, 用于分类"
   ]
  },
  {
   "cell_type": "code",
   "execution_count": 27,
   "metadata": {
    "collapsed": true
   },
   "outputs": [
    {
     "data": {
      "text/plain": [
       "array([ 0.        ,  0.        ,  0.        ,  0.        ,  0.        ,\n",
       "        0.        ,  0.        ,  0.        ,  0.        ,  0.        ,\n",
       "        0.        ,  0.        ,  0.        ,  0.        ,  0.        ,\n",
       "        0.        ,  0.        ,  0.        ,  0.        ,  0.        ,\n",
       "        0.        ,  0.        ,  0.        ,  0.        ,  0.        ,\n",
       "        0.        ,  0.        ,  0.        ,  0.        ,  0.        ,\n",
       "        0.        ,  0.        ,  0.        ,  0.        ,  0.        ,\n",
       "        0.        ,  0.        ,  0.        ,  0.        ,  0.        ,\n",
       "        0.        ,  0.        ,  0.        ,  0.        ,  0.        ,\n",
       "        0.        ,  0.        ,  0.        ,  0.        ,  0.        ,\n",
       "        0.        ,  0.        ,  0.        ,  0.        ,  0.        ,\n",
       "        0.        ,  0.        ,  0.        ,  0.        ,  0.        ,\n",
       "        0.        ,  0.        ,  0.        ,  0.        ,  0.        ,\n",
       "        0.        ,  0.        ,  0.        ,  0.        ,  0.        ,\n",
       "        0.        ,  0.        ,  0.        ,  0.        ,  0.        ,\n",
       "        0.        ,  0.        ,  0.        ,  0.        ,  0.        ,\n",
       "        0.        ,  0.        ,  0.        ,  0.        ,  0.        ,\n",
       "        0.        ,  0.        ,  0.        ,  0.        ,  0.        ,\n",
       "        0.        ,  0.        ,  0.        ,  0.        ,  0.        ,\n",
       "        0.        ,  0.        ,  0.        ,  0.        ,  0.        ,\n",
       "        0.0251255 ,  0.07537699,  0.12562799,  0.17587948,  0.22613049,\n",
       "        0.27638197,  0.32663298,  0.37688446,  0.42713594,  0.47738695,\n",
       "        0.52763844,  0.57788944,  0.62814093,  0.67839193,  0.72864342,\n",
       "        0.77889442,  0.82914591,  0.87939692,  0.9296484 ,  0.97989941,\n",
       "        1.03015089,  1.0804019 ,  1.13065338,  1.18090439,  1.23115587,\n",
       "        1.28140688,  1.33165836,  1.38190937,  1.43216085,  1.48241234,\n",
       "        1.53266335,  1.58291483,  1.63316584,  1.68341732,  1.73366833,\n",
       "        1.78391981,  1.83417082,  1.8844223 ,  1.93467331,  1.98492479,\n",
       "        2.0351758 ,  2.08542728,  2.13567829,  2.18592978,  2.23618078,\n",
       "        2.28643227,  2.33668327,  2.38693476,  2.43718576,  2.48743725,\n",
       "        2.53768873,  2.58793974,  2.63819122,  2.68844223,  2.73869371,\n",
       "        2.78894472,  2.83919621,  2.88944721,  2.9396987 ,  2.9899497 ,\n",
       "        3.04020119,  3.09045219,  3.1407032 ,  3.19095516,  3.24120617,\n",
       "        3.29145718,  3.34170818,  3.39196014,  3.44221115,  3.49246216,\n",
       "        3.54271317,  3.59296513,  3.64321613,  3.69346714,  3.7437191 ,\n",
       "        3.79397011,  3.84422112,  3.89447212,  3.94472408,  3.99497509,\n",
       "        4.0452261 ,  4.0954771 ,  4.14572906,  4.19598007,  4.24623108,\n",
       "        4.29648209,  4.34673405,  4.39698505,  4.44723606,  4.49748707,\n",
       "        4.54773903,  4.59799004,  4.64824104,  4.698493  ,  4.74874401,\n",
       "        4.79899502,  4.84924603,  4.89949799,  4.94974899,  5.        ], dtype=float32)"
      ]
     },
     "execution_count": 27,
     "metadata": {},
     "output_type": "execute_result"
    }
   ],
   "source": [
    "y_relu "
   ]
  },
  {
   "cell_type": "code",
   "execution_count": 28,
   "metadata": {
    "collapsed": true
   },
   "outputs": [],
   "source": [
    "import matplotlib.pyplot as plt"
   ]
  },
  {
   "cell_type": "code",
   "execution_count": 29,
   "metadata": {},
   "outputs": [
    {
     "name": "stderr",
     "output_type": "stream",
     "text": [
      "/home/gl/anaconda3/lib/python3.6/site-packages/matplotlib/cbook/deprecation.py:106: MatplotlibDeprecationWarning: Adding an axes using the same arguments as a previous axes currently reuses the earlier instance.  In a future version, a new instance will always be created and returned.  Meanwhile, this warning can be suppressed, and the future behavior ensured, by passing a unique label to each axes instance.\n",
      "  warnings.warn(message, mplDeprecation, stacklevel=1)\n"
     ]
    },
    {
     "data": {
      "image/png": "[encoded data removed]",
      "text/plain": [
       "<matplotlib.figure.Figure at 0x7f154d55f438>"
      ]
     },
     "metadata": {},
     "output_type": "display_data"
    }
   ],
   "source": [
    "plt.figure(1, figsize=(8, 6))\n",
    "plt.subplot(221)\n",
    "plt.plot(x_np, y_relu, c='red', label='relu')\n",
    "plt.ylim((-1, 5))\n",
    "plt.legend(loc='best')\n",
    "\n",
    "plt.subplot(222)\n",
    "plt.plot(x_np, y_sigmoid, c='red', label='sigmoid')\n",
    "plt.ylim((-0.2, 1.2))\n",
    "plt.legend(loc='best')\n",
    "\n",
    "plt.subplot(223)\n",
    "plt.plot(x_np, y_tanh, c='red', label='tanh')\n",
    "plt.ylim((-1.2, 1.2))\n",
    "plt.legend(loc='best')\n",
    "\n",
    "plt.subplot(224)\n",
    "plt.plot(x_np, y_softplus, c='red', label='softplus')\n",
    "plt.ylim((-0.2, 6))\n",
    "plt.legend(loc='best')\n",
    "\n",
    "plt.show()"
   ]
  },
  {
   "cell_type": "code",
   "execution_count": 43,
   "metadata": {},
   "outputs": [],
   "source": [
    "x  = torch.unsqueeze(torch.linspace(-1,1,100),dim=1)"
   ]
  },
  {
   "cell_type": "code",
   "execution_count": 46,
   "metadata": {},
   "outputs": [
    {
     "data": {
      "text/plain": [
       "torch.Size([100])"
      ]
     },
     "execution_count": 46,
     "metadata": {},
     "output_type": "execute_result"
    }
   ],
   "source": [
    "torch.linspace(-1,1,100).shape"
   ]
  },
  {
   "cell_type": "code",
   "execution_count": 44,
   "metadata": {},
   "outputs": [
    {
     "data": {
      "text/plain": [
       "torch.Size([100, 1])"
      ]
     },
     "execution_count": 44,
     "metadata": {},
     "output_type": "execute_result"
    }
   ],
   "source": [
    "# 2. torch.squeeze() 对于tensor变量进行维度压缩，去除维数为1的的维度。例如一矩阵维度为A*1*B*C*1*D，通过squeeze()返回向量的维度为A*B*C*D。squeeze(a)，表示将a的维数位1的维度删掉，squeeze(a,N)表示，如果第N维维数为1，则压缩去掉，否则a矩阵不变\n",
    "\n",
    "# 3. torch.unsqueeze() 是squeeze()的反向操作，增加一个维度，该维度维数为1，可以指定添加的维度。例如unsqueeze(a,1)表示在1这个维度进行添加\n",
    "x.shape"
   ]
  },
  {
   "cell_type": "code",
   "execution_count": 51,
   "metadata": {},
   "outputs": [
    {
     "data": {
      "text/plain": [
       "tensor([-1.])"
      ]
     },
     "execution_count": 51,
     "metadata": {},
     "output_type": "execute_result"
    }
   ],
   "source": [
    "x[0]"
   ]
  },
  {
   "cell_type": "code",
   "execution_count": 52,
   "metadata": {
    "collapsed": true
   },
   "outputs": [],
   "source": [
    "y = x.pow(2) + 0.2*torch.rand(x.size())"
   ]
  },
  {
   "cell_type": "code",
   "execution_count": 53,
   "metadata": {},
   "outputs": [
    {
     "data": {
      "text/plain": [
       "tensor([[ 1.0876],\n",
       "        [ 0.9716],\n",
       "        [ 1.1017],\n",
       "        [ 0.9593],\n",
       "        [ 1.0234],\n",
       "        [ 0.8641],\n",
       "        [ 0.8088],\n",
       "        [ 0.8183],\n",
       "        [ 0.8733],\n",
       "        [ 0.7819],\n",
       "        [ 0.6987],\n",
       "        [ 0.6496],\n",
       "        [ 0.6896],\n",
       "        [ 0.5612],\n",
       "        [ 0.6709],\n",
       "        [ 0.5165],\n",
       "        [ 0.5611],\n",
       "        [ 0.5571],\n",
       "        [ 0.5843],\n",
       "        [ 0.4206],\n",
       "        [ 0.5075],\n",
       "        [ 0.3516],\n",
       "        [ 0.3307],\n",
       "        [ 0.3732],\n",
       "        [ 0.3996],\n",
       "        [ 0.3794],\n",
       "        [ 0.3085],\n",
       "        [ 0.3958],\n",
       "        [ 0.3478],\n",
       "        [ 0.3608],\n",
       "        [ 0.1904],\n",
       "        [ 0.1518],\n",
       "        [ 0.2704],\n",
       "        [ 0.2374],\n",
       "        [ 0.2030],\n",
       "        [ 0.1006],\n",
       "        [ 0.1318],\n",
       "        [ 0.2253],\n",
       "        [ 0.2477],\n",
       "        [ 0.2016],\n",
       "        [ 0.1242],\n",
       "        [ 0.0492],\n",
       "        [ 0.0934],\n",
       "        [ 0.1115],\n",
       "        [ 0.0666],\n",
       "        [ 0.0627],\n",
       "        [ 0.1031],\n",
       "        [ 0.0629],\n",
       "        [ 0.0928],\n",
       "        [ 0.1383],\n",
       "        [ 0.1125],\n",
       "        [ 0.0810],\n",
       "        [ 0.0833],\n",
       "        [ 0.1556],\n",
       "        [ 0.0627],\n",
       "        [ 0.0679],\n",
       "        [ 0.0641],\n",
       "        [ 0.0646],\n",
       "        [ 0.0668],\n",
       "        [ 0.0796],\n",
       "        [ 0.1507],\n",
       "        [ 0.2021],\n",
       "        [ 0.1991],\n",
       "        [ 0.2330],\n",
       "        [ 0.1877],\n",
       "        [ 0.2228],\n",
       "        [ 0.2037],\n",
       "        [ 0.2870],\n",
       "        [ 0.2482],\n",
       "        [ 0.2839],\n",
       "        [ 0.3675],\n",
       "        [ 0.3041],\n",
       "        [ 0.2726],\n",
       "        [ 0.3583],\n",
       "        [ 0.3384],\n",
       "        [ 0.4356],\n",
       "        [ 0.4259],\n",
       "        [ 0.3575],\n",
       "        [ 0.4898],\n",
       "        [ 0.5132],\n",
       "        [ 0.4007],\n",
       "        [ 0.4377],\n",
       "        [ 0.5489],\n",
       "        [ 0.4845],\n",
       "        [ 0.5933],\n",
       "        [ 0.6749],\n",
       "        [ 0.6351],\n",
       "        [ 0.5777],\n",
       "        [ 0.7851],\n",
       "        [ 0.7641],\n",
       "        [ 0.7661],\n",
       "        [ 0.8028],\n",
       "        [ 0.8579],\n",
       "        [ 0.8857],\n",
       "        [ 0.8557],\n",
       "        [ 1.0159],\n",
       "        [ 0.9518],\n",
       "        [ 1.0926],\n",
       "        [ 1.1512],\n",
       "        [ 1.0269]])"
      ]
     },
     "execution_count": 53,
     "metadata": {},
     "output_type": "execute_result"
    }
   ],
   "source": [
    "y"
   ]
  },
  {
   "cell_type": "code",
   "execution_count": 54,
   "metadata": {},
   "outputs": [
    {
     "data": {
      "text/plain": [
       "torch.Size([100, 1])"
      ]
     },
     "execution_count": 54,
     "metadata": {},
     "output_type": "execute_result"
    }
   ],
   "source": [
    "y.shape"
   ]
  },
  {
   "cell_type": "code",
   "execution_count": 56,
   "metadata": {},
   "outputs": [],
   "source": [
    "x, y = torch.autograd.Variable(x), Variable(y)"
   ]
  },
  {
   "cell_type": "code",
   "execution_count": 57,
   "metadata": {},
   "outputs": [
    {
     "data": {
      "image/png": "[encoded data removed]",
      "text/plain": [
       "<matplotlib.figure.Figure at 0x7f154c47aa20>"
      ]
     },
     "metadata": {},
     "output_type": "display_data"
    }
   ],
   "source": [
    "# 画图\n",
    "plt.scatter(x.data.numpy(), y.data.numpy())\n",
    "plt.show()"
   ]
  },
  {
   "cell_type": "code",
   "execution_count": 58,
   "metadata": {
    "collapsed": true
   },
   "outputs": [],
   "source": [
    "n_data = torch.ones(100, 2)   "
   ]
  },
  {
   "cell_type": "code",
   "execution_count": 59,
   "metadata": {
    "collapsed": true
   },
   "outputs": [
    {
     "data": {
      "text/plain": [
       "tensor([[ 1.,  1.],\n",
       "        [ 1.,  1.],\n",
       "        [ 1.,  1.],\n",
       "        [ 1.,  1.],\n",
       "        [ 1.,  1.],\n",
       "        [ 1.,  1.],\n",
       "        [ 1.,  1.],\n",
       "        [ 1.,  1.],\n",
       "        [ 1.,  1.],\n",
       "        [ 1.,  1.],\n",
       "        [ 1.,  1.],\n",
       "        [ 1.,  1.],\n",
       "        [ 1.,  1.],\n",
       "        [ 1.,  1.],\n",
       "        [ 1.,  1.],\n",
       "        [ 1.,  1.],\n",
       "        [ 1.,  1.],\n",
       "        [ 1.,  1.],\n",
       "        [ 1.,  1.],\n",
       "        [ 1.,  1.],\n",
       "        [ 1.,  1.],\n",
       "        [ 1.,  1.],\n",
       "        [ 1.,  1.],\n",
       "        [ 1.,  1.],\n",
       "        [ 1.,  1.],\n",
       "        [ 1.,  1.],\n",
       "        [ 1.,  1.],\n",
       "        [ 1.,  1.],\n",
       "        [ 1.,  1.],\n",
       "        [ 1.,  1.],\n",
       "        [ 1.,  1.],\n",
       "        [ 1.,  1.],\n",
       "        [ 1.,  1.],\n",
       "        [ 1.,  1.],\n",
       "        [ 1.,  1.],\n",
       "        [ 1.,  1.],\n",
       "        [ 1.,  1.],\n",
       "        [ 1.,  1.],\n",
       "        [ 1.,  1.],\n",
       "        [ 1.,  1.],\n",
       "        [ 1.,  1.],\n",
       "        [ 1.,  1.],\n",
       "        [ 1.,  1.],\n",
       "        [ 1.,  1.],\n",
       "        [ 1.,  1.],\n",
       "        [ 1.,  1.],\n",
       "        [ 1.,  1.],\n",
       "        [ 1.,  1.],\n",
       "        [ 1.,  1.],\n",
       "        [ 1.,  1.],\n",
       "        [ 1.,  1.],\n",
       "        [ 1.,  1.],\n",
       "        [ 1.,  1.],\n",
       "        [ 1.,  1.],\n",
       "        [ 1.,  1.],\n",
       "        [ 1.,  1.],\n",
       "        [ 1.,  1.],\n",
       "        [ 1.,  1.],\n",
       "        [ 1.,  1.],\n",
       "        [ 1.,  1.],\n",
       "        [ 1.,  1.],\n",
       "        [ 1.,  1.],\n",
       "        [ 1.,  1.],\n",
       "        [ 1.,  1.],\n",
       "        [ 1.,  1.],\n",
       "        [ 1.,  1.],\n",
       "        [ 1.,  1.],\n",
       "        [ 1.,  1.],\n",
       "        [ 1.,  1.],\n",
       "        [ 1.,  1.],\n",
       "        [ 1.,  1.],\n",
       "        [ 1.,  1.],\n",
       "        [ 1.,  1.],\n",
       "        [ 1.,  1.],\n",
       "        [ 1.,  1.],\n",
       "        [ 1.,  1.],\n",
       "        [ 1.,  1.],\n",
       "        [ 1.,  1.],\n",
       "        [ 1.,  1.],\n",
       "        [ 1.,  1.],\n",
       "        [ 1.,  1.],\n",
       "        [ 1.,  1.],\n",
       "        [ 1.,  1.],\n",
       "        [ 1.,  1.],\n",
       "        [ 1.,  1.],\n",
       "        [ 1.,  1.],\n",
       "        [ 1.,  1.],\n",
       "        [ 1.,  1.],\n",
       "        [ 1.,  1.],\n",
       "        [ 1.,  1.],\n",
       "        [ 1.,  1.],\n",
       "        [ 1.,  1.],\n",
       "        [ 1.,  1.],\n",
       "        [ 1.,  1.],\n",
       "        [ 1.,  1.],\n",
       "        [ 1.,  1.],\n",
       "        [ 1.,  1.],\n",
       "        [ 1.,  1.],\n",
       "        [ 1.,  1.],\n",
       "        [ 1.,  1.]])"
      ]
     },
     "execution_count": 59,
     "metadata": {},
     "output_type": "execute_result"
    }
   ],
   "source": [
    "n_data"
   ]
  },
  {
   "cell_type": "code",
   "execution_count": 60,
   "metadata": {
    "collapsed": true
   },
   "outputs": [],
   "source": [
    "x0 = torch.normal(2*n_data, 1)      # 类型0 x data (tensor), shape=(100, 2)"
   ]
  },
  {
   "cell_type": "code",
   "execution_count": 61,
   "metadata": {
    "collapsed": true
   },
   "outputs": [
    {
     "data": {
      "text/plain": [
       "tensor([[ 2.4708,  0.6665],\n",
       "        [ 0.8491,  0.5707],\n",
       "        [ 1.8649,  0.8684],\n",
       "        [ 4.5226,  1.1133],\n",
       "        [ 2.7865,  0.5475],\n",
       "        [ 1.8283,  2.9788],\n",
       "        [ 2.1023,  2.3734],\n",
       "        [ 2.0437,  1.7933],\n",
       "        [ 0.7300,  2.0672],\n",
       "        [ 2.9802,  2.3169],\n",
       "        [ 1.3336,  2.5892],\n",
       "        [ 2.0624,  2.8242],\n",
       "        [-0.3112,  1.9389],\n",
       "        [ 2.0372,  2.1254],\n",
       "        [ 2.0634,  5.5983],\n",
       "        [ 3.7799,  1.3051],\n",
       "        [ 1.2001,  0.7485],\n",
       "        [-0.1064,  0.5512],\n",
       "        [ 1.0279,  1.8521],\n",
       "        [ 2.6767,  0.5535],\n",
       "        [ 2.7034,  1.9915],\n",
       "        [ 3.9630,  2.2391],\n",
       "        [ 2.7756,  1.8431],\n",
       "        [ 1.9383,  2.4932],\n",
       "        [ 2.8316,  4.8722],\n",
       "        [ 1.6959,  2.7857],\n",
       "        [ 1.8164,  1.9805],\n",
       "        [ 1.7821,  1.9611],\n",
       "        [ 1.4451,  1.9929],\n",
       "        [ 1.5685,  3.0483],\n",
       "        [ 2.4667,  1.9684],\n",
       "        [ 3.4914,  1.4101],\n",
       "        [ 1.5675,  3.9673],\n",
       "        [ 0.8699,  2.9049],\n",
       "        [ 0.8245,  2.1951],\n",
       "        [ 3.3399,  3.1999],\n",
       "        [ 2.8558,  4.6468],\n",
       "        [ 1.7091,  1.2853],\n",
       "        [ 0.6923,  3.0310],\n",
       "        [ 1.8804,  0.8288],\n",
       "        [ 1.8339,  0.8487],\n",
       "        [ 0.6645,  2.3338],\n",
       "        [ 3.3683,  2.7156],\n",
       "        [ 2.9265,  2.5938],\n",
       "        [ 1.3278,  2.4515],\n",
       "        [ 1.8108,  2.0217],\n",
       "        [ 1.7057,  0.5393],\n",
       "        [ 0.5206,  1.6327],\n",
       "        [ 0.8888,  3.2287],\n",
       "        [ 1.2288,  1.8233],\n",
       "        [ 3.3605,  2.6043],\n",
       "        [ 0.9692,  3.2514],\n",
       "        [ 2.3274,  1.7472],\n",
       "        [ 1.8302,  2.1442],\n",
       "        [ 1.6698,  2.6338],\n",
       "        [ 1.0326,  1.8437],\n",
       "        [ 0.6397,  4.0225],\n",
       "        [ 2.8169,  0.1692],\n",
       "        [ 1.9791,  0.5203],\n",
       "        [ 1.3071,  3.0904],\n",
       "        [ 1.1286,  2.3255],\n",
       "        [ 1.4910,  3.1964],\n",
       "        [ 3.9349,  1.9772],\n",
       "        [ 0.9254,  1.2542],\n",
       "        [ 2.7624,  2.1491],\n",
       "        [ 1.0366,  4.4786],\n",
       "        [ 2.3864,  3.1522],\n",
       "        [ 1.6149,  3.0812],\n",
       "        [ 2.3436,  0.6878],\n",
       "        [ 2.0033,  1.1624],\n",
       "        [ 2.9979,  1.5078],\n",
       "        [ 0.5598,  2.9740],\n",
       "        [ 2.3575,  2.9088],\n",
       "        [ 3.5587,  2.8220],\n",
       "        [-0.0240,  2.3581],\n",
       "        [ 0.6786,  2.6959],\n",
       "        [ 2.7678,  2.9377],\n",
       "        [ 1.4456,  1.0382],\n",
       "        [ 1.9203,  1.1551],\n",
       "        [ 1.9250,  1.6220],\n",
       "        [ 2.2396,  4.0594],\n",
       "        [ 1.8209,  2.7598],\n",
       "        [ 1.5158,  3.2726],\n",
       "        [ 1.1149,  2.1414],\n",
       "        [ 2.5452,  2.8768],\n",
       "        [ 1.9557,  2.0327],\n",
       "        [ 1.2481,  1.9248],\n",
       "        [ 2.4755,  2.7711],\n",
       "        [ 2.5576,  3.2166],\n",
       "        [ 1.0643,  2.6204],\n",
       "        [ 1.4438,  2.1906],\n",
       "        [ 1.0073,  2.8074],\n",
       "        [ 2.0272,  2.4202],\n",
       "        [ 2.1198,  3.2408],\n",
       "        [ 2.0380,  1.6880],\n",
       "        [ 3.3951,  1.8583],\n",
       "        [ 3.0641,  1.7700],\n",
       "        [ 3.3049,  1.6511],\n",
       "        [ 2.7096,  2.5107],\n",
       "        [ 1.9976,  0.7744]])"
      ]
     },
     "execution_count": 61,
     "metadata": {},
     "output_type": "execute_result"
    }
   ],
   "source": [
    "x0"
   ]
  },
  {
   "cell_type": "code",
   "execution_count": 62,
   "metadata": {},
   "outputs": [
    {
     "data": {
      "text/plain": [
       "torch.Size([100, 2])"
      ]
     },
     "execution_count": 62,
     "metadata": {},
     "output_type": "execute_result"
    }
   ],
   "source": [
    "x0.shape"
   ]
  },
  {
   "cell_type": "code",
   "execution_count": 65,
   "metadata": {},
   "outputs": [],
   "source": [
    "# 假数据\n",
    "n_data = torch.ones(100, 2)         # 数据的基本形态\n",
    "x0 = torch.normal(2*n_data, 1)      # 类型0 x data (tensor), shape=(100, 2)\n",
    "y0 = torch.zeros(100)               # 类型0 y data (tensor), shape=(100, 1)\n",
    "x1 = torch.normal(-2*n_data, 1)     # 类型1 x data (tensor), shape=(100, 1)\n",
    "y1 = torch.ones(100)                # 类型1 y data (tensor), shape=(100, 1)"
   ]
  },
  {
   "cell_type": "code",
   "execution_count": 66,
   "metadata": {
    "collapsed": true
   },
   "outputs": [],
   "source": [
    "# 注意 x, y 数据的数据形式是一定要像下面一样 (torch.cat 是在合并数据)\n",
    "x = torch.cat((x0, x1), 0).type(torch.FloatTensor)  # FloatTensor = 32-bit floating\n",
    "y = torch.cat((y0, y1), ).type(torch.LongTensor)    # LongTensor = 64-bit integer"
   ]
  },
  {
   "cell_type": "code",
   "execution_count": 72,
   "metadata": {
    "collapsed": true
   },
   "outputs": [],
   "source": [
    "# torch 只能在 Variable 上训练, 所以把它们变成 Variable\n",
    "x, y = Variable(x), Variable(y)"
   ]
  },
  {
   "cell_type": "code",
   "execution_count": 74,
   "metadata": {},
   "outputs": [
    {
     "data": {
      "text/plain": [
       "torch.Size([200, 2])"
      ]
     },
     "execution_count": 74,
     "metadata": {},
     "output_type": "execute_result"
    }
   ],
   "source": [
    "x.shape"
   ]
  },
  {
   "cell_type": "code",
   "execution_count": 75,
   "metadata": {},
   "outputs": [
    {
     "data": {
      "text/plain": [
       "torch.Size([200])"
      ]
     },
     "execution_count": 75,
     "metadata": {},
     "output_type": "execute_result"
    }
   ],
   "source": [
    "y.shape"
   ]
  },
  {
   "cell_type": "code",
   "execution_count": 76,
   "metadata": {
    "scrolled": true
   },
   "outputs": [
    {
     "data": {
      "image/png": "[encoded data removed]",
      "text/plain": [
       "<matplotlib.figure.Figure at 0x7f154c489860>"
      ]
     },
     "metadata": {},
     "output_type": "display_data"
    }
   ],
   "source": [
    "plt.scatter(x.data.numpy()[:, 0], x.data.numpy()[:, 1], c=y.data.numpy(), s=100, lw=0, cmap='RdYlGn')\n",
    "plt.show()"
   ]
  },
  {
   "cell_type": "code",
   "execution_count": null,
   "metadata": {
    "collapsed": true
   },
   "outputs": [],
   "source": []
  }
 ],
 "metadata": {
  "kernelspec": {
   "display_name": "Python 3",
   "language": "python",
   "name": "python3"
  },
  "language_info": {
   "codemirror_mode": {
    "name": "ipython",
    "version": 3
   },
   "file_extension": ".py",
   "mimetype": "text/x-python",
   "name": "python",
   "nbconvert_exporter": "python",
   "pygments_lexer": "ipython3",
   "version": "3.6.4"
  }
 },
 "nbformat": 4,
 "nbformat_minor": 2
}
