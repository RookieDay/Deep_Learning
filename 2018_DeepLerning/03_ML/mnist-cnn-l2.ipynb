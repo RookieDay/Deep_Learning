{
 "cells": [
  {
   "cell_type": "code",
   "execution_count": 1,
   "metadata": {
    "collapsed": true
   },
   "outputs": [],
   "source": [
    "import tensorflow as tf\n",
    "from tensorflow.examples.tutorials.mnist import input_data"
   ]
  },
  {
   "cell_type": "code",
   "execution_count": 2,
   "metadata": {},
   "outputs": [
    {
     "name": "stdout",
     "output_type": "stream",
     "text": [
      "Extracting MNIST_data/train-images-idx3-ubyte.gz\n",
      "Extracting MNIST_data/train-labels-idx1-ubyte.gz\n",
      "Extracting MNIST_data/t10k-images-idx3-ubyte.gz\n",
      "Extracting MNIST_data/t10k-labels-idx1-ubyte.gz\n"
     ]
    }
   ],
   "source": [
    "mnist = input_data.read_data_sets('MNIST_data',one_hot=True)"
   ]
  },
  {
   "cell_type": "code",
   "execution_count": 3,
   "metadata": {
    "collapsed": true
   },
   "outputs": [],
   "source": [
    "# from https://morvanzhou.github.io/tutorials/machine-learning/tensorflow/5-05-CNN3/\n",
    "def compute_accuracy(v_xs, v_ys):\n",
    "    global prediction\n",
    "    y_pre = sess.run(prediction, feed_dict={xs: v_xs, keep_prob: 1})\n",
    "    correct_prediction = tf.equal(tf.argmax(y_pre,1), tf.argmax(v_ys,1))\n",
    "    accuracy = tf.reduce_mean(tf.cast(correct_prediction, tf.float32))\n",
    "    result = sess.run(accuracy, feed_dict={xs: v_xs, ys: v_ys})\n",
    "    return result \n",
    "  \n",
    "def weight_variable(shape):\n",
    "    initial = tf.truncated_normal(shape, stddev = 0.1)\n",
    "    return tf.Variable(initial)\n",
    "\n",
    "def bias_variable(shape):\n",
    "    initial = tf.constant(0.1, shape=shape)\n",
    "    return tf.Variable(initial)\n",
    "\n",
    "def conv2d(x, w):\n",
    "    #stides: 1, stride x, stride y, 1\n",
    "    #padding: SAME, VALID\n",
    "    return tf.nn.conv2d(x, w, strides=[1,1,1,1], padding='SAME')\n",
    "\n",
    "def max_pool_2x2(x):\n",
    "    #ksize: 1, kernel width x, kernel width y, 1\n",
    "    #strides=1, stride x, stride y, 1\n",
    "    return tf.nn.max_pool(x, ksize=[1,2,2,1], strides=[1,2,2,1], padding='SAME')"
   ]
  },
  {
   "cell_type": "code",
   "execution_count": 7,
   "metadata": {
    "collapsed": true
   },
   "outputs": [],
   "source": [
    "xs = tf.placeholder(tf.float32, [None, 28*28])\n",
    "ys = tf.placeholder(tf.float32, [None, 10])\n",
    "keep_prob = tf.placeholder(tf.float32)\n",
    "x_image = tf.reshape(xs, [-1, 28, 28, 1])\n",
    "#print x_image.shape #[n_samples, 28, 28,1]\n",
    "\n",
    "# 第一层卷积操作 ##  \n",
    "# 第一二参数值得卷积核尺寸大小，即patch，第三个参数是图像通道数，第四个参数是卷积核的数目，代表会出现多少个卷积特征图像;  \n",
    "#build the net\n",
    "#kernel=5x5, input_size=1, output_size=32\n",
    "w_conv1 = weight_variable([5,5,1,32])\n",
    "# 对于每一个卷积核都有一个对应的偏置量。 \n",
    "b_conv1 = bias_variable([32])\n",
    "# 图片乘以卷积核，并加上偏执量，卷积结果28x28x32  \n",
    "conv1 = tf.nn.relu(conv2d(x_image, w_conv1) + b_conv1) #output size 28*28*32\n",
    "#     池化结果14x14x32 卷积结果乘以池化卷积核  \n",
    "pool1 = max_pool_2x2(conv1)  #output size 14*14*32\n",
    "\n",
    "# 第二层卷积操作 \n",
    "# 32通道卷积，卷积出64个特征  \n",
    "#kernel=5x5, input_size=32, output_size=64\n",
    "w_conv2 = weight_variable([5,5,32,64])\n",
    "# 64个偏执数据  \n",
    "b_conv2 = bias_variable([64])\n",
    "  # 注意h_pool1是上一层的池化结果，#卷积结果14x14x64  \n",
    "conv2 = tf.nn.relu(conv2d(pool1, w_conv2) + b_conv2) #output size 14*14*64\n",
    "pool2 = max_pool_2x2(conv2)  #output size 7*7*64\n",
    "# 原图像尺寸28*28，第一轮图像缩小为14*14，共有32张，第二轮后图像缩小为7*7，共有64张 \n",
    "\n",
    "## 第三层全连接操作 ##  \n",
    "# 二维张量，第一个参数7*7*64的patch，也可以认为是只有一行7*7*64个数据的卷积，第二个参数代表卷积个数共1024个\n",
    "#function1 layer\n",
    "# 将第二层卷积池化结果reshape成只有一行7*7*64个数据 每一列都是一个图片特征  \n",
    "pool3 = tf.reshape(pool2, [-1, 7*7*64]) #[n_samples, 7, 7, 64] >> [n_sample, 7*7*64]\n",
    "w_fc1 = weight_variable([7*7*64, 1024])\n",
    "b_fc1 = bias_variable([1024])\n",
    "# 卷积操作，结果是1*1*1024，单行乘以单列等于1*1矩阵，\n",
    "# matmul实现最基本的矩阵相乘，不同于tf.nn.conv2d的遍历相乘，自动认为是前行向量后列向量  \n",
    "out3 = tf.nn.relu(tf.matmul(pool3, w_fc1) + b_fc1)\n",
    "\n",
    "#function2 layer\n",
    "    ## 第四层输出操作 ##  \n",
    "    # 二维张量，1*1024矩阵卷积，共10个卷积，对应我们开始的ys长度为10  \n",
    "    \n",
    "w_fc2 = weight_variable([1024, 10])\n",
    "b_fc2 = bias_variable([10])\n",
    "# 最后的分类，结果为1*1*10 softmax和sigmoid都是基于logistic分类算法，一个是多分类一个是二分类  \n",
    "prediction = tf.nn.softmax(tf.matmul(out3, w_fc2) + b_fc2)\n",
    "\n",
    "#定义loss(最小误差概率)，选定优化优化loss\n",
    "cross_entropy = tf.reduce_mean(-tf.reduce_sum(ys * tf.log(prediction), reduction_indices=[1]))\n",
    "\n",
    "loss_l2 = cross_entropy + 0.3*(tf.nn.l2_loss(w_fc2) + tf.nn.l2_loss(w_fc1))\n",
    " # 调用优化器优化，其实就是通过喂数据争取cross_entropy最小化    \n",
    "train_step = tf.train.AdamOptimizer(1e-4).minimize(loss_l2)\n",
    "\n",
    "sess = tf.Session()\n",
    "\n",
    "sess.run(tf.global_variables_initializer())"
   ]
  },
  {
   "cell_type": "code",
   "execution_count": 9,
   "metadata": {},
   "outputs": [
    {
     "name": "stdout",
     "output_type": "stream",
     "text": [
      "step: 0 , accuracy: 0.7135\n",
      "step: 100 , accuracy: 0.8197\n",
      "step: 200 , accuracy: 0.8778\n",
      "step: 300 , accuracy: 0.8947\n",
      "step: 400 , accuracy: 0.909\n",
      "step: 500 , accuracy: 0.9133\n",
      "step: 600 , accuracy: 0.9226\n",
      "step: 700 , accuracy: 0.9248\n",
      "step: 800 , accuracy: 0.9345\n",
      "step: 900 , accuracy: 0.937\n"
     ]
    }
   ],
   "source": [
    "for i in range(1000):\n",
    "    batch_xs, batch_ys = mnist.train.next_batch(100)\n",
    "    sess.run(train_step, feed_dict={xs: batch_xs, ys: batch_ys})\n",
    "    if i%100 ==0:\n",
    "        print ('step:',i,',','accuracy:',compute_accuracy(mnist.test.images, mnist.test.labels))"
   ]
  },
  {
   "cell_type": "code",
   "execution_count": null,
   "metadata": {
    "collapsed": true
   },
   "outputs": [],
   "source": []
  }
 ],
 "metadata": {
  "kernelspec": {
   "display_name": "Python 3",
   "language": "python",
   "name": "python3"
  },
  "language_info": {
   "codemirror_mode": {
    "name": "ipython",
    "version": 3
   },
   "file_extension": ".py",
   "mimetype": "text/x-python",
   "name": "python",
   "nbconvert_exporter": "python",
   "pygments_lexer": "ipython3",
   "version": "3.6.4"
  }
 },
 "nbformat": 4,
 "nbformat_minor": 2
}
