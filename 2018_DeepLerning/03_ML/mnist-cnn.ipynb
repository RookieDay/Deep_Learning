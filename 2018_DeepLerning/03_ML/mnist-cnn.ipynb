{
 "cells": [
  {
   "cell_type": "code",
   "execution_count": 1,
   "metadata": {
    "collapsed": true
   },
   "outputs": [],
   "source": [
    "import tensorflow as tf\n",
    "from tensorflow.examples.tutorials.mnist import input_data"
   ]
  },
  {
   "cell_type": "code",
   "execution_count": 3,
   "metadata": {},
   "outputs": [
    {
     "name": "stdout",
     "output_type": "stream",
     "text": [
      "Extracting MNIST_data/train-images-idx3-ubyte.gz\n",
      "Extracting MNIST_data/train-labels-idx1-ubyte.gz\n",
      "Extracting MNIST_data/t10k-images-idx3-ubyte.gz\n",
      "Extracting MNIST_data/t10k-labels-idx1-ubyte.gz\n"
     ]
    }
   ],
   "source": [
    "mnist = input_data.read_data_sets('MNIST_data',one_hot=True)"
   ]
  },
  {
   "cell_type": "code",
   "execution_count": 4,
   "metadata": {
    "collapsed": true
   },
   "outputs": [],
   "source": [
    "def compute_accuracy(v_xs, v_ys):\n",
    "    global prediction\n",
    "    y_pre = sess.run(prediction, feed_dict={xs: v_xs, keep_prob: 1})\n",
    "    correct_prediction = tf.equal(tf.argmax(y_pre,1), tf.argmax(v_ys,1))\n",
    "    accuracy = tf.reduce_mean(tf.cast(correct_prediction, tf.float32))\n",
    "    result = sess.run(accuracy, feed_dict={xs: v_xs, ys: v_ys})\n",
    "    return result\n",
    "\n",
    "def weight_variable(shape):\n",
    "    initial = tf.truncated_normal(shape, stddev = 0.1) # 变量的初始值为截断正态分布\n",
    "    return tf.Variable(initial)\n",
    "\n",
    "def bias_variable(shape):\n",
    "    initial = tf.constant(0.1, shape=shape)\n",
    "    return tf.Variable(initial)\n",
    "\n",
    "def conv2d(x, w):\n",
    "    \"\"\"\n",
    "    tf.nn.conv2d功能：给定4维的input和filter，计算出一个2维的卷积结果\n",
    "    前几个参数分别是input, filter, strides, padding, use_cudnn_on_gpu, ...\n",
    "    input   的格式要求为一个张量，[batch, in_height, in_width, in_channels],批次数，图像高度，图像宽度，通道数\n",
    "    filter  的格式为[filter_height, filter_width, in_channels, out_channels]，滤波器高度，宽度，输入通道数，输出通道数\n",
    "    strides 一个长为4的list. 表示每次卷积以后在input中滑动的距离\n",
    "    padding 有SAME和VALID两种选项，表示是否要保留不完全卷积的部分。如果是SAME，则保留\n",
    "    use_cudnn_on_gpu 是否使用cudnn加速。默认是True\n",
    "    \"\"\"\n",
    "    #stides: 1, stride x, stride y, 1\n",
    "    #padding: SAME, VALID\n",
    "    return tf.nn.conv2d(x, w, strides=[1,1,1,1], padding='SAME')\n",
    "\n",
    "def max_pool_2x2(x):\n",
    "    \"\"\"\n",
    "    tf.nn.max_pool 进行最大值池化操作,而avg_pool 则进行平均值池化操作\n",
    "    几个参数分别是：value, ksize, strides, padding,\n",
    "    value:  一个4D张量，格式为[batch, height, width, channels]，与conv2d中input格式一样\n",
    "    ksize:  长为4的list,表示池化窗口的尺寸\n",
    "    strides: 窗口的滑动值，与conv2d中的一样\n",
    "    padding: 与conv2d中用法一样。\n",
    "    \"\"\"\n",
    "    #ksize: 1, kernel width x, kernel width y, 1\n",
    "    #strides=1, stride x, stride y, 1\n",
    "    return tf.nn.max_pool(x, ksize=[1,2,2,1], strides=[1,2,2,1], padding='SAME')"
   ]
  },
  {
   "cell_type": "code",
   "execution_count": 9,
   "metadata": {},
   "outputs": [
    {
     "name": "stdout",
     "output_type": "stream",
     "text": [
      "step: 0 , accuracy: 0.1312\n",
      "step: 100 , accuracy: 0.8956\n",
      "step: 200 , accuracy: 0.9274\n",
      "step: 300 , accuracy: 0.9483\n",
      "step: 400 , accuracy: 0.9524\n",
      "step: 500 , accuracy: 0.9619\n",
      "step: 600 , accuracy: 0.9568\n",
      "step: 700 , accuracy: 0.97\n",
      "step: 800 , accuracy: 0.9719\n",
      "step: 900 , accuracy: 0.9743\n"
     ]
    }
   ],
   "source": [
    "# 声明一个占位符，None表示输入图片的数量不定，28*28图片分辨率 \n",
    "xs = tf.placeholder(tf.float32, [None, 28*28])\n",
    "# 类别是0-9总共10个类别，对应输出分类结果  \n",
    "ys = tf.placeholder(tf.float32, [None, 10])\n",
    "keep_prob = tf.placeholder(tf.float32)\n",
    "# x_image又把xs reshape成了28*28*1的形状，因为是灰色图片，所以通道是1.作为训练时的input，-1代表图片数量不定  \n",
    "x_image = tf.reshape(xs, [-1, 28, 28, 1])\n",
    "\n",
    "\n",
    "#kernel=5x5, input_size=32, output_size=64\n",
    "w_conv2 = weight_variable([5,5,32,64])\n",
    "b_conv2 = bias_variable([64])\n",
    "conv2 = tf.nn.relu(conv2d(pool1, w_conv2) + b_conv2) #output size 14*14*64\n",
    "pool2 = max_pool_2x2(conv2)  #output size 7*7*64\n",
    "\n",
    "#function1 layer\n",
    "pool3 = tf.reshape(pool2, [-1, 7*7*64]) #[n_samples, 7, 7, 64] >> [n_sample, 7*7*64]\n",
    "w_fc1 = weight_variable([7*7*64, 1024])\n",
    "b_fc1 = bias_variable([1024])\n",
    "out3 = tf.nn.relu(tf.matmul(pool3, w_fc1) + b_fc1)\n",
    "\n",
    "#function2 layer\n",
    "w_fc2 = weight_variable([1024, 10])\n",
    "b_fc2 = bias_variable([10])\n",
    "prediction = tf.nn.softmax(tf.matmul(out3, w_fc2) + b_fc2)\n",
    "\n",
    "\n",
    "cross_entropy = tf.reduce_mean(-tf.reduce_sum(ys * tf.log(prediction), reduction_indices=[1]))\n",
    "\n",
    "train_step = tf.train.AdamOptimizer(1e-4).minimize(cross_entropy)\n",
    "\n",
    "sess = tf.Session()\n",
    "\n",
    "sess.run(tf.global_variables_initializer())\n",
    "\n",
    "for i in range(1000):\n",
    "  batch_xs, batch_ys = mnist.train.next_batch(100)\n",
    "  sess.run(train_step, feed_dict={xs: batch_xs, ys: batch_ys})\n",
    "  if i%100 ==0:\n",
    "    print ('step:',i,',','accuracy:',compute_accuracy(mnist.test.images, mnist.test.labels))"
   ]
  },
  {
   "cell_type": "code",
   "execution_count": 10,
   "metadata": {},
   "outputs": [
    {
     "data": {
      "text/plain": [
       "(100, 784)"
      ]
     },
     "execution_count": 10,
     "metadata": {},
     "output_type": "execute_result"
    }
   ],
   "source": [
    "batch_xs.shape"
   ]
  },
  {
   "cell_type": "code",
   "execution_count": 11,
   "metadata": {},
   "outputs": [
    {
     "data": {
      "text/plain": [
       "(100, 10)"
      ]
     },
     "execution_count": 11,
     "metadata": {},
     "output_type": "execute_result"
    }
   ],
   "source": [
    "batch_ys.shape"
   ]
  },
  {
   "cell_type": "code",
   "execution_count": null,
   "metadata": {
    "collapsed": true
   },
   "outputs": [],
   "source": []
  }
 ],
 "metadata": {
  "kernelspec": {
   "display_name": "Python 3",
   "language": "python",
   "name": "python3"
  },
  "language_info": {
   "codemirror_mode": {
    "name": "ipython",
    "version": 3
   },
   "file_extension": ".py",
   "mimetype": "text/x-python",
   "name": "python",
   "nbconvert_exporter": "python",
   "pygments_lexer": "ipython3",
   "version": "3.6.4"
  }
 },
 "nbformat": 4,
 "nbformat_minor": 2
}
