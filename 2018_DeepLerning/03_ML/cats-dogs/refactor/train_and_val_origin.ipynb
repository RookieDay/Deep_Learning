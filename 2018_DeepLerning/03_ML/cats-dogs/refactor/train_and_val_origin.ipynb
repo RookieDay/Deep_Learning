{
 "cells": [
  {
   "cell_type": "code",
   "execution_count": 13,
   "metadata": {
    "collapsed": true
   },
   "outputs": [],
   "source": [
    "import os\n",
    "import sys\n",
    "import numpy as np\n",
    "import tensorflow as tf\n",
    "import input_data\n",
    "import model_origin as model\n",
    "import time \n",
    "import matplotlib.pyplot as plt"
   ]
  },
  {
   "cell_type": "code",
   "execution_count": 14,
   "metadata": {
    "collapsed": true
   },
   "outputs": [],
   "source": [
    "# you need to change the directories to yours.\n",
    "train_dir = '../PetImages/train_convert/'\n",
    "test_dir = '../PetImages/test/'\n",
    "train_logs_dir = '../logs/train/'\n",
    "val_logs_dir = '../logs/val'\n",
    "\n",
    "N_CLASSES = 2\n",
    "IMG_W = 208     # resize the image, if the input image is too large, training will be very slow.\n",
    "IMG_H = 208\n",
    "RATIO = 0.2     # take 20% of dataset as validation data\n",
    "BATCH_SIZE = 64\n",
    "CAPACITY = 2000\n",
    "MAX_STEP = 4000 # with current parameters, it is suggested to use MAX_STEP>10k\n",
    "learning_rate = 0.0001 # with current parameters, it is suggested to use learning rate<0.0001\n",
    "models = {'origin':{}}"
   ]
  },
  {
   "cell_type": "code",
   "execution_count": 15,
   "metadata": {
    "collapsed": true
   },
   "outputs": [],
   "source": [
    "tf.reset_default_graph()"
   ]
  },
  {
   "cell_type": "code",
   "execution_count": 16,
   "metadata": {
    "collapsed": true
   },
   "outputs": [],
   "source": [
    "def training():\n",
    "    \n",
    "    train, train_label, val, val_label = input_data.get_files(train_dir, RATIO)\n",
    "    train_batch, train_label_batch = input_data.get_batch(train,\n",
    "                                                  train_label,\n",
    "                                                  IMG_W,\n",
    "                                                  IMG_H,\n",
    "                                                  BATCH_SIZE,\n",
    "                                                  CAPACITY)\n",
    "    val_batch, val_label_batch = input_data.get_batch(val,\n",
    "                                                  val_label,\n",
    "                                                  IMG_W,\n",
    "                                                  IMG_H,\n",
    "                                                  BATCH_SIZE,\n",
    "                                                  CAPACITY)\n",
    "    \n",
    "    #scale the float to -2.5 to 2.5\n",
    "    train_batch = (1/(2*2.25)) * train_batch + 0.5\n",
    "    \n",
    "    x = tf.placeholder(tf.float32, shape=[BATCH_SIZE, IMG_W, IMG_H, 3])\n",
    "    y_ = tf.placeholder(tf.int32, shape=[BATCH_SIZE])\n",
    "#     CNN卷积操作\n",
    "    logits = model.inference(x, BATCH_SIZE, N_CLASSES)\n",
    "#    损失函数\n",
    "    loss = model.losses(logits, y_)\n",
    "#     梯度下降\n",
    "    train_op = model.trainning(loss, learning_rate)\n",
    "#     准确率\n",
    "    acc = model.evaluation(logits, y_)\n",
    "\n",
    "\n",
    "    \n",
    "    with tf.Session() as sess:\n",
    "        saver = tf.train.Saver()\n",
    "        sess.run(tf.global_variables_initializer())\n",
    "        coord = tf.train.Coordinator()\n",
    "        threads = tf.train.start_queue_runners(sess= sess, coord=coord)\n",
    "#         tensorboard查看\n",
    "        summary_op = tf.summary.merge_all()\n",
    "        train_writer = tf.summary.FileWriter(train_logs_dir, sess.graph)\n",
    "        val_writer = tf.summary.FileWriter(val_logs_dir, sess.graph)\n",
    "\n",
    "        steps_val = []\n",
    "        accuracy_val = []\n",
    "        loss_tr = []\n",
    "        steps_tr = []\n",
    "        accuracy_tr = []\n",
    "        loss_val = []\n",
    "        \n",
    "        \n",
    "        try:\n",
    "            for step in np.arange(MAX_STEP):\n",
    "                start = time.time()\n",
    "                if coord.should_stop():\n",
    "                        break\n",
    "                tra_images,tra_labels = sess.run([train_batch, train_label_batch])\n",
    "                _, tra_loss, tra_acc = sess.run([train_op, loss, acc],\n",
    "                                                feed_dict={x:tra_images, y_:tra_labels})\n",
    "                if step % 50 == 0:\n",
    "                    print('Step %d, train loss = %.2f, train accuracy = %.2f%%' %(step, tra_loss, tra_acc*100.0))\n",
    "                    summary_str = sess.run(summary_op,feed_dict={x:tra_images, y_:tra_labels})\n",
    "                    steps_tr.append(step)\n",
    "                    accuracy_tr.append(tra_acc)\n",
    "                    loss_tr.append(tra_loss)\n",
    "                    train_writer.add_summary(summary_str, step)\n",
    "\n",
    "                if step % 50 == 0 or (step + 1) == MAX_STEP:\n",
    "                    val_images, val_labels = sess.run([val_batch, val_label_batch])\n",
    "                    val_loss, val_acc = sess.run([loss, acc],\n",
    "                                                 feed_dict={x:val_images, y_:val_labels})\n",
    "                    print('**  Step %d, val loss = %.2f, val accuracy = %.2f%%  **' %(step, val_loss, val_acc*100.0))\n",
    "                    steps_val.append(step)\n",
    "                    accuracy_val.append(val_acc)\n",
    "                    loss_val.append(val_loss)\n",
    "                    summary_str = sess.run(summary_op,feed_dict={x:val_images, y_:val_labels})\n",
    "                    val_writer.add_summary(summary_str, step)\n",
    "\n",
    "                if step % 2000 == 0 or (step + 1) == MAX_STEP:\n",
    "                    checkpoint_path = os.path.join(train_logs_dir, 'model.ckpt')\n",
    "                    saver.save(sess, checkpoint_path, global_step=step)\n",
    "            time_used = time.time() - start\n",
    "            models['origin'] = {'tr':{'steps_tr':steps_tr,'accuracy_tr':accuracy_tr,'tr_loss':loss_tr},\n",
    "                                                  'val':{'steps_val':steps_val,'accuracy_val':accuracy_val,'val_loss':loss_val},\n",
    "                                                  'times(s)':time_used}\n",
    "\n",
    "        except tf.errors.OutOfRangeError:\n",
    "            print('Done training -- epoch limit reached')\n",
    "        finally:\n",
    "            coord.request_stop()\n",
    "        try:\n",
    "            coord.join(threads)\n",
    "        except:\n",
    "            error_type, error_value, trace_back = sys.exc_info()\n",
    "            print(error_value)\n"
   ]
  },
  {
   "cell_type": "code",
   "execution_count": 17,
   "metadata": {
    "collapsed": true
   },
   "outputs": [],
   "source": [
    "# 命令行输入: tensorboard  --logdir=/tmp/mnist 查看结果\n",
    "# 浏览器输入:127.0.0.1:6006"
   ]
  },
  {
   "cell_type": "code",
   "execution_count": 18,
   "metadata": {},
   "outputs": [
    {
     "name": "stdout",
     "output_type": "stream",
     "text": [
      "There are 11309 cats\n",
      "There are 11238 dogs\n",
      "conv1:  (64, 208, 208, 16)\n",
      "norm1:  (64, 104, 104, 16)\n",
      "conv2:  (64, 104, 104, 16)\n",
      "pool2:  (64, 104, 104, 16)\n",
      "local3:  (64, 128)\n",
      "local4:  (64, 128)\n",
      "Step 0, train loss = 0.69, train accuracy = 45.31%\n",
      "**  Step 0, val loss = 0.70, val accuracy = 45.31%  **\n",
      "Step 1, train loss = 0.69, train accuracy = 46.88%\n",
      "**  Step 1, val loss = 0.70, val accuracy = 40.62%  **\n",
      "Step 2, train loss = 0.69, train accuracy = 46.88%\n",
      "**  Step 2, val loss = 0.69, val accuracy = 51.56%  **\n",
      "Step 3, train loss = 0.69, train accuracy = 46.88%\n",
      "**  Step 3, val loss = 0.70, val accuracy = 39.06%  **\n",
      "Step 4, train loss = 0.69, train accuracy = 46.88%\n",
      "**  Step 4, val loss = 0.69, val accuracy = 46.88%  **\n"
     ]
    }
   ],
   "source": [
    "# if __name__ == '__main__':\n",
    "training()\n",
    "# test_one_image()"
   ]
  },
  {
   "cell_type": "code",
   "execution_count": 19,
   "metadata": {},
   "outputs": [
    {
     "data": {
      "text/plain": [
       "{'origin': {'times(s)': 31.071722745895386,\n",
       "  'tr': {'accuracy_tr': [0.45312, 0.46875, 0.46875, 0.46875, 0.46875],\n",
       "   'steps_tr': [0, 1, 2, 3, 4],\n",
       "   'tr_loss': [0.69323778, 0.69444805, 0.69398701, 0.69323599, 0.69365609]},\n",
       "  'val': {'accuracy_val': [0.45312, 0.40625, 0.51562, 0.39062, 0.46875],\n",
       "   'steps_val': [0, 1, 2, 3, 4],\n",
       "   'val_loss': [0.69632101, 0.69591451, 0.69306785, 0.69515502, 0.69406486]}}}"
      ]
     },
     "execution_count": 19,
     "metadata": {},
     "output_type": "execute_result"
    }
   ],
   "source": [
    "models"
   ]
  },
  {
   "cell_type": "code",
   "execution_count": 30,
   "metadata": {},
   "outputs": [
    {
     "name": "stdout",
     "output_type": "stream",
     "text": [
      "origin used: 31.071722745895386s\n"
     ]
    },
    {
     "data": {
      "image/png": "[encoded data removed]",
      "text/plain": [
       "<matplotlib.figure.Figure at 0x7f43c4bab978>"
      ]
     },
     "metadata": {},
     "output_type": "display_data"
    }
   ],
   "source": [
    "# 绘制loss的曲线\n",
    "plt.figure(figsize=(14,8))\n",
    "print('origin used: '+ str(models['origin']['times(s)']) + 's')\n",
    "plt.subplot(221)\n",
    "plt.plot(models['origin']['tr']['steps_tr'],models['origin']['tr']['tr_loss'],\"x-\",label='train')\n",
    "plt.plot(models['origin']['val']['steps_val'],models['origin']['val']['val_loss'],\"+-\",label='val')\n",
    "plt.ylabel('loss')\n",
    "plt.xlabel('per steps')\n",
    "plt.title('--loss-- by origin')\n",
    "\n",
    "\n",
    "plt.subplot(222)\n",
    "plt.plot(models['origin']['tr']['steps_tr'],models['origin']['tr']['accuracy_tr'],\"x-\",label='acc train')\n",
    "plt.plot(models['origin']['val']['steps_val'],models['origin']['val']['accuracy_val'],\"+-\",label='acc val')\n",
    "plt.ylabel('accuracy')\n",
    "plt.xlabel('per steps')\n",
    "plt.title('--acc-- by origin')\n",
    "\n",
    "\n",
    "legend = plt.legend(loc='best',shadow=True)\n",
    "frame = legend.get_frame()\n",
    "frame.set_facecolor('0.90')\n",
    "plt.show()"
   ]
  },
  {
   "cell_type": "code",
   "execution_count": null,
   "metadata": {
    "collapsed": true
   },
   "outputs": [],
   "source": []
  }
 ],
 "metadata": {
  "kernelspec": {
   "display_name": "Python 3",
   "language": "python",
   "name": "python3"
  },
  "language_info": {
   "codemirror_mode": {
    "name": "ipython",
    "version": 3
   },
   "file_extension": ".py",
   "mimetype": "text/x-python",
   "name": "python",
   "nbconvert_exporter": "python",
   "pygments_lexer": "ipython3",
   "version": "3.6.4"
  }
 },
 "nbformat": 4,
 "nbformat_minor": 2
}
