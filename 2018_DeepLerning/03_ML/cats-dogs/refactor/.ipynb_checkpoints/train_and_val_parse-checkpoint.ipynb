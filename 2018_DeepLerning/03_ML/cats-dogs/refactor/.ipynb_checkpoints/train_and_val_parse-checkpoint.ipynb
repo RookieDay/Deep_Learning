{
 "cells": [
  {
   "cell_type": "code",
   "execution_count": 70,
   "metadata": {},
   "outputs": [],
   "source": [
    "import os\n",
    "import sys\n",
    "import numpy as np\n",
    "import tensorflow as tf\n",
    "import input_data\n",
    "import matplotlib.pyplot as plt\n",
    "import model_parse as model"
   ]
  },
  {
   "cell_type": "code",
   "execution_count": 71,
   "metadata": {},
   "outputs": [],
   "source": [
    "# 本例的代码已经不将dropout 优化在内\n",
    "\n",
    "\n",
    "# you need to change the directories to yours.\n",
    "train_dir = '../PetImages/train_convert/'\n",
    "test_dir = '../PetImages/test/'\n",
    "train_logs_dir = '../logs/train/'\n",
    "val_logs_dir = '../logs/val'\n",
    "\n",
    "N_CLASSES = 2\n",
    "IMG_W = 208     # resize the image, if the input image is too large, training will be very slow.\n",
    "IMG_H = 208\n",
    "RATIO = 0.2     # take 20% of dataset as validation data\n",
    "BATCH_SIZE = 64\n",
    "CAPACITY = 2000\n",
    "MAX_STEP = 100 # with current parameters, it is suggested to use MAX_STEP>10k\n",
    "learning_rate = 0.0001 # with current parameters, it is suggested to use learning rate<0.0001"
   ]
  },
  {
   "cell_type": "code",
   "execution_count": 75,
   "metadata": {},
   "outputs": [
    {
     "name": "stdout",
     "output_type": "stream",
     "text": [
      "There are 11309 cats\n",
      "There are 11238 dogs\n"
     ]
    }
   ],
   "source": [
    "tf.reset_default_graph()\n",
    "# param_test = {\n",
    "#     'lr':[0.01,0.001,0.0001],\n",
    "#     'batch_size':[64,128,256]\n",
    "# }\n",
    "param_test = {\n",
    "#     'lr':[0.01],\n",
    "    'batch_size':[128,256]\n",
    "}\n",
    "train, train_label, val, val_label = input_data.get_files(train_dir, RATIO)"
   ]
  },
  {
   "cell_type": "code",
   "execution_count": 76,
   "metadata": {},
   "outputs": [],
   "source": [
    "def models_process(param_test):\n",
    "    models = {\n",
    "     'lr':{},\n",
    "     'batch_size':{}\n",
    "    }\n",
    "\n",
    "    for key_param,value_param in enumerate(param_test):\n",
    "\n",
    "        for parm_varm in param_test[value_param]:\n",
    "            tf.reset_default_graph()\n",
    "            print('anananan',parm_varm)\n",
    "            if value_param == 'bacth_size':\n",
    "             \n",
    "                train_batch, train_label_batch = input_data.get_batch(train,\n",
    "                                                              train_label,\n",
    "                                                              IMG_W,\n",
    "                                                              IMG_H,\n",
    "                                                              value_param,\n",
    "                                                              CAPACITY)\n",
    "                val_batch, val_label_batch = input_data.get_batch(val,\n",
    "                                                              val_label,\n",
    "                                                              IMG_W,\n",
    "                                                              IMG_H,\n",
    "                                                              value_param,\n",
    "                                                              CAPACITY)\n",
    "\n",
    "                \n",
    "            #     CNN卷积操作\n",
    "                logits = model.inference(train_batch, value_param, N_CLASSES)\n",
    "                \n",
    "                x = tf.placeholder(tf.float32, shape=[value_param, IMG_W, IMG_H, 3])\n",
    "                y_ = tf.placeholder(tf.int16, shape=[value_param])\n",
    "            else:\n",
    "                             \n",
    "                train_batch, train_label_batch = input_data.get_batch(train,\n",
    "                                                              train_label,\n",
    "                                                              IMG_W,\n",
    "                                                              IMG_H,\n",
    "                                                              BATCH_SIZE,\n",
    "                                                              CAPACITY)\n",
    "                val_batch, val_label_batch = input_data.get_batch(val,\n",
    "                                                              val_label,\n",
    "                                                              IMG_W,\n",
    "                                                              IMG_H,\n",
    "                                                              BATCH_SIZE,\n",
    "                                                              CAPACITY)\n",
    "\n",
    "                \n",
    "            #     CNN卷积操作\n",
    "                logits = model.inference(train_batch, BATCH_SIZE, N_CLASSES)\n",
    "                \n",
    "                x = tf.placeholder(tf.float32, shape=[BATCH_SIZE, IMG_W, IMG_H, 3])\n",
    "                y_ = tf.placeholder(tf.int16, shape=[BATCH_SIZE])\n",
    "            \n",
    "            \n",
    "            #scale the float to -2.5 to 2.5\n",
    "            #train_batch = (1/(2*2.25)) * train_batch + 0.5\n",
    "        #    损失函数\n",
    "            loss = model.losses(logits, train_label_batch)\n",
    "        #     梯度下降\n",
    "            if value_param == 'lr':\n",
    "                train_op = model.trainning(loss, parm_varm)\n",
    "            else:\n",
    "                train_op = model.trainning(loss)\n",
    "        #     准确率\n",
    "            acc = model.evaluation(logits, train_label_batch)\n",
    "\n",
    "\n",
    "\n",
    "            with tf.Session() as sess:\n",
    "                saver = tf.train.Saver()\n",
    "                sess.run(tf.global_variables_initializer())\n",
    "                coord = tf.train.Coordinator()\n",
    "                threads = tf.train.start_queue_runners(sess= sess, coord=coord)\n",
    "        #         tensorboard查看\n",
    "                summary_op = tf.summary.merge_all()\n",
    "                train_writer = tf.summary.FileWriter(train_logs_dir, sess.graph)\n",
    "                val_writer = tf.summary.FileWriter(val_logs_dir, sess.graph)\n",
    "\n",
    "                steps_val = []\n",
    "                accuracy_val = []\n",
    "                loss_tr = []\n",
    "                steps_tr = []\n",
    "                accuracy_tr = []\n",
    "                loss_val = []\n",
    "        \n",
    "                try:\n",
    "                    for step in np.arange(MAX_STEP):\n",
    "                        if coord.should_stop():\n",
    "                                break\n",
    "                        tra_images,tra_labels = sess.run([train_batch, train_label_batch])\n",
    "                        _, tra_loss, tra_acc = sess.run([train_op, loss, acc],\n",
    "                                                        feed_dict={x:tra_images, y_:tra_labels})\n",
    "                        if step % 50 == 0:\n",
    "                            print('Step %d, train loss = %.2f, train accuracy = %.2f%%' %(step, tra_loss, tra_acc*100.0))\n",
    "                            summary_str = sess.run(summary_op)\n",
    "                            train_writer.add_summary(summary_str, step)\n",
    "                            steps_tr.append(step)\n",
    "                            accuracy_tr.append(tra_acc)\n",
    "                            loss_tr.append(tra_loss)\n",
    "\n",
    "                        if step % 20 == 0 or (step + 1) == MAX_STEP:\n",
    "                            val_images, val_labels = sess.run([val_batch, val_label_batch])\n",
    "                            val_loss, val_acc = sess.run([loss, acc],\n",
    "                                                         feed_dict={x:val_images, y_:val_labels})\n",
    "                            print('**  Step %d, val loss = %.2f, val accuracy = %.2f%%  **' %(step, val_loss, val_acc*100.0))\n",
    "                            summary_str = sess.run(summary_op)\n",
    "                            val_writer.add_summary(summary_str, step)\n",
    "                            steps_val.append(step)\n",
    "                            accuracy_val.append(val_acc)\n",
    "                            loss_val.append(val_loss)\n",
    "\n",
    "                        if step % 2000 == 0 or (step + 1) == MAX_STEP:\n",
    "                            checkpoint_path = os.path.join(train_logs_dir, 'model.ckpt')\n",
    "                            saver.save(sess, checkpoint_path, global_step=step)\n",
    "                    print(value_param, parm_varm)\n",
    "                    models[value_param][str(parm_varm)] = {'tr':{'steps_tr':steps_tr,'accuracy_tr':accuracy_tr,'tr_loss':loss_tr},\n",
    "                                                          'val':{'steps_val':steps_val,'accuracy_val':accuracy_val,'val_loss':loss_val}}\n",
    "    \n",
    "\n",
    "                except tf.errors.OutOfRangeError:\n",
    "                    print('Done training -- epoch limit reached')\n",
    "                finally:\n",
    "                    coord.request_stop()\n",
    "                try:\n",
    "                    coord.join(threads)\n",
    "                except:\n",
    "                    error_type, error_value, trace_back = sys.exc_info()\n",
    "                    print(error_value)\n",
    "    return models"
   ]
  },
  {
   "cell_type": "code",
   "execution_count": 77,
   "metadata": {},
   "outputs": [],
   "source": [
    "# 命令行输入: tensorboard  --logdir=/tmp/mnist 查看结果\n",
    "# 浏览器输入:127.0.0.1:6006"
   ]
  },
  {
   "cell_type": "code",
   "execution_count": 78,
   "metadata": {},
   "outputs": [
    {
     "name": "stdout",
     "output_type": "stream",
     "text": [
      "anananan 128\n",
      "conv1:  (64, 208, 208, 16)\n",
      "norm1:  (64, 104, 104, 16)\n",
      "conv2:  (64, 104, 104, 16)\n",
      "pool2:  (64, 104, 104, 16)\n",
      "local3:  (64, 128)\n",
      "local4:  (64, 128)\n",
      "Step 0, train loss = 0.69, train accuracy = 53.12%\n",
      "**  Step 0, val loss = 0.69, val accuracy = 54.69%  **\n",
      "**  Step 20, val loss = 0.69, val accuracy = 50.00%  **\n",
      "**  Step 40, val loss = 0.69, val accuracy = 50.00%  **\n",
      "Step 50, train loss = 0.69, train accuracy = 51.56%\n",
      "**  Step 60, val loss = 0.69, val accuracy = 50.00%  **\n",
      "**  Step 80, val loss = 0.68, val accuracy = 65.62%  **\n",
      "**  Step 99, val loss = 0.67, val accuracy = 68.75%  **\n",
      "batch_size 128\n",
      "anananan 256\n",
      "conv1:  (64, 208, 208, 16)\n",
      "norm1:  (64, 104, 104, 16)\n",
      "conv2:  (64, 104, 104, 16)\n",
      "pool2:  (64, 104, 104, 16)\n",
      "local3:  (64, 128)\n",
      "local4:  (64, 128)\n",
      "Step 0, train loss = 0.69, train accuracy = 57.81%\n",
      "**  Step 0, val loss = 0.70, val accuracy = 37.50%  **\n",
      "**  Step 20, val loss = 0.69, val accuracy = 46.88%  **\n",
      "**  Step 40, val loss = 0.69, val accuracy = 56.25%  **\n",
      "Step 50, train loss = 0.70, train accuracy = 43.75%\n",
      "**  Step 60, val loss = 0.69, val accuracy = 56.25%  **\n",
      "**  Step 80, val loss = 0.70, val accuracy = 43.75%  **\n",
      "**  Step 99, val loss = 0.69, val accuracy = 59.38%  **\n",
      "batch_size 256\n"
     ]
    }
   ],
   "source": [
    "models = models_process(param_test)"
   ]
  },
  {
   "cell_type": "code",
   "execution_count": 79,
   "metadata": {},
   "outputs": [
    {
     "data": {
      "text/plain": [
       "{'batch_size': {'128': {'tr': {'accuracy_tr': [0.5312, 0.5156],\n",
       "    'steps_tr': [0, 50],\n",
       "    'tr_loss': [0.69293, 0.69232756]},\n",
       "   'val': {'accuracy_val': [0.547, 0.5, 0.5, 0.5, 0.6562, 0.6875],\n",
       "    'steps_val': [0, 20, 40, 60, 80, 99],\n",
       "    'val_loss': [0.6900787,\n",
       "     0.6924832,\n",
       "     0.6940777,\n",
       "     0.69173455,\n",
       "     0.6840451,\n",
       "     0.66853124]}},\n",
       "  '256': {'tr': {'accuracy_tr': [0.578, 0.4375],\n",
       "    'steps_tr': [0, 50],\n",
       "    'tr_loss': [0.69296265, 0.69548464]},\n",
       "   'val': {'accuracy_val': [0.375, 0.4688, 0.5625, 0.5625, 0.4375, 0.5938],\n",
       "    'steps_val': [0, 20, 40, 60, 80, 99],\n",
       "    'val_loss': [0.69871706,\n",
       "     0.6941524,\n",
       "     0.68877584,\n",
       "     0.6859599,\n",
       "     0.6966635,\n",
       "     0.6854813]}}},\n",
       " 'lr': {}}"
      ]
     },
     "execution_count": 79,
     "metadata": {},
     "output_type": "execute_result"
    }
   ],
   "source": [
    "models"
   ]
  },
  {
   "cell_type": "code",
   "execution_count": 83,
   "metadata": {},
   "outputs": [
    {
     "data": {
      "text/plain": [
       "{'tr': {'accuracy_tr': [0.5312, 0.5156],\n",
       "  'steps_tr': [0, 50],\n",
       "  'tr_loss': [0.69293, 0.69232756]},\n",
       " 'val': {'accuracy_val': [0.547, 0.5, 0.5, 0.5, 0.6562, 0.6875],\n",
       "  'steps_val': [0, 20, 40, 60, 80, 99],\n",
       "  'val_loss': [0.6900787,\n",
       "   0.6924832,\n",
       "   0.6940777,\n",
       "   0.69173455,\n",
       "   0.6840451,\n",
       "   0.66853124]}}"
      ]
     },
     "execution_count": 83,
     "metadata": {},
     "output_type": "execute_result"
    }
   ],
   "source": [
    "models['batch_size'][str(128)]"
   ]
  },
  {
   "cell_type": "code",
   "execution_count": 81,
   "metadata": {},
   "outputs": [
    {
     "name": "stdout",
     "output_type": "stream",
     "text": [
      "0 lr\n",
      "1 batch_size\n",
      "128\n",
      "{'128': {'tr': {'steps_tr': [0, 50], 'accuracy_tr': [0.5312, 0.5156], 'tr_loss': [0.69293, 0.69232756]}, 'val': {'steps_val': [0, 20, 40, 60, 80, 99], 'accuracy_val': [0.547, 0.5, 0.5, 0.5, 0.6562, 0.6875], 'val_loss': [0.6900787, 0.6924832, 0.6940777, 0.69173455, 0.6840451, 0.66853124]}}, '256': {'tr': {'steps_tr': [0, 50], 'accuracy_tr': [0.578, 0.4375], 'tr_loss': [0.69296265, 0.69548464]}, 'val': {'steps_val': [0, 20, 40, 60, 80, 99], 'accuracy_val': [0.375, 0.4688, 0.5625, 0.5625, 0.4375, 0.5938], 'val_loss': [0.69871706, 0.6941524, 0.68877584, 0.6859599, 0.6966635, 0.6854813]}}}\n",
      "256\n",
      "{'128': {'tr': {'steps_tr': [0, 50], 'accuracy_tr': [0.5312, 0.5156], 'tr_loss': [0.69293, 0.69232756]}, 'val': {'steps_val': [0, 20, 40, 60, 80, 99], 'accuracy_val': [0.547, 0.5, 0.5, 0.5, 0.6562, 0.6875], 'val_loss': [0.6900787, 0.6924832, 0.6940777, 0.69173455, 0.6840451, 0.66853124]}}, '256': {'tr': {'steps_tr': [0, 50], 'accuracy_tr': [0.578, 0.4375], 'tr_loss': [0.69296265, 0.69548464]}, 'val': {'steps_val': [0, 20, 40, 60, 80, 99], 'accuracy_val': [0.375, 0.4688, 0.5625, 0.5625, 0.4375, 0.5938], 'val_loss': [0.69871706, 0.6941524, 0.68877584, 0.6859599, 0.6966635, 0.6854813]}}}\n"
     ]
    },
    {
     "data": {
      "image/png": "[encoded data removed]",
      "text/plain": [
       "<matplotlib.figure.Figure at 0x11b888c18>"
      ]
     },
     "metadata": {},
     "output_type": "display_data"
    }
   ],
   "source": [
    "# 绘制不同学习函数 accuracy的曲线\n",
    "plt.figure(figsize=(14,8))\n",
    "for param,param_val in enumerate(models):\n",
    "    print(param,param_val)\n",
    "    plt.subplot(221+param)\n",
    "    for inner_key in models[param_val]:\n",
    "        print(inner_key)\n",
    "        print(models[param_val])\n",
    "        plt.plot(models[param_val][inner_key]['val']['steps_val'],models[param_val][inner_key]['val']['accuracy_val'],label=str(inner_key))\n",
    "        plt.ylabel('accuracy')\n",
    "        plt.xlabel('per steps)')\n",
    "        plt.title('val--'+param_val)\n",
    "        legend = plt.legend(loc='best',shadow=True)\n",
    "        frame = legend.get_frame()\n",
    "        frame.set_facecolor('0.90')\n",
    "plt.show()"
   ]
  },
  {
   "cell_type": "code",
   "execution_count": 90,
   "metadata": {},
   "outputs": [
    {
     "name": "stdout",
     "output_type": "stream",
     "text": [
      "0 lr\n",
      "1 batch_size\n",
      "128\n",
      "{'128': {'tr': {'steps_tr': [0, 50], 'accuracy_tr': [0.5312, 0.5156], 'tr_loss': [0.69293, 0.69232756]}, 'val': {'steps_val': [0, 20, 40, 60, 80, 99], 'accuracy_val': [0.547, 0.5, 0.5, 0.5, 0.6562, 0.6875], 'val_loss': [0.6900787, 0.6924832, 0.6940777, 0.69173455, 0.6840451, 0.66853124]}}, '256': {'tr': {'steps_tr': [0, 50], 'accuracy_tr': [0.578, 0.4375], 'tr_loss': [0.69296265, 0.69548464]}, 'val': {'steps_val': [0, 20, 40, 60, 80, 99], 'accuracy_val': [0.375, 0.4688, 0.5625, 0.5625, 0.4375, 0.5938], 'val_loss': [0.69871706, 0.6941524, 0.68877584, 0.6859599, 0.6966635, 0.6854813]}}}\n",
      "256\n",
      "{'128': {'tr': {'steps_tr': [0, 50], 'accuracy_tr': [0.5312, 0.5156], 'tr_loss': [0.69293, 0.69232756]}, 'val': {'steps_val': [0, 20, 40, 60, 80, 99], 'accuracy_val': [0.547, 0.5, 0.5, 0.5, 0.6562, 0.6875], 'val_loss': [0.6900787, 0.6924832, 0.6940777, 0.69173455, 0.6840451, 0.66853124]}}, '256': {'tr': {'steps_tr': [0, 50], 'accuracy_tr': [0.578, 0.4375], 'tr_loss': [0.69296265, 0.69548464]}, 'val': {'steps_val': [0, 20, 40, 60, 80, 99], 'accuracy_val': [0.375, 0.4688, 0.5625, 0.5625, 0.4375, 0.5938], 'val_loss': [0.69871706, 0.6941524, 0.68877584, 0.6859599, 0.6966635, 0.6854813]}}}\n"
     ]
    },
    {
     "data": {
      "image/png": "[encoded data removed]",
      "text/plain": [
       "<matplotlib.figure.Figure at 0x1647881d0>"
      ]
     },
     "metadata": {},
     "output_type": "display_data"
    }
   ],
   "source": [
    "plt.figure(figsize=(14,8))\n",
    "for param,param_val in enumerate(models):\n",
    "    print(param,param_val)\n",
    "    i = 0\n",
    "    for inner_key in models[param_val]:       \n",
    "        plt.subplot(331+i)\n",
    "        print(inner_key)\n",
    "        print(models[param_val])\n",
    "        plt.plot(models[param_val][inner_key]['tr']['steps_tr'],models[param_val][inner_key]['tr']['tr_loss'],\"x-\",label='train')\n",
    "                 \n",
    "        plt.plot(models[param_val][inner_key]['val']['steps_val'],models[param_val][inner_key]['val']['val_loss'],\"+-\",label='val')\n",
    "      \n",
    "        plt.ylabel('loss')\n",
    "        plt.xlabel('per steps)')\n",
    "        plt.title('loss--'+param_val+str(inner_key))\n",
    "        legend = plt.legend(loc='best',shadow=True)\n",
    "        frame = legend.get_frame()\n",
    "        frame.set_facecolor('0.90')\n",
    "        i = i + 1\n",
    "plt.show()"
   ]
  },
  {
   "cell_type": "code",
   "execution_count": null,
   "metadata": {},
   "outputs": [],
   "source": []
  },
  {
   "cell_type": "code",
   "execution_count": null,
   "metadata": {},
   "outputs": [],
   "source": []
  },
  {
   "cell_type": "code",
   "execution_count": null,
   "metadata": {},
   "outputs": [],
   "source": []
  }
 ],
 "metadata": {
  "kernelspec": {
   "display_name": "Python 3",
   "language": "python",
   "name": "python3"
  },
  "language_info": {
   "codemirror_mode": {
    "name": "ipython",
    "version": 3
   },
   "file_extension": ".py",
   "mimetype": "text/x-python",
   "name": "python",
   "nbconvert_exporter": "python",
   "pygments_lexer": "ipython3",
   "version": "3.6.3"
  }
 },
 "nbformat": 4,
 "nbformat_minor": 2
}
