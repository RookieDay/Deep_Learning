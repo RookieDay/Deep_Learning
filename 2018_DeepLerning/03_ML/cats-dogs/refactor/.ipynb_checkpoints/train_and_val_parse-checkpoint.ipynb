{
 "cells": [
  {
   "cell_type": "code",
   "execution_count": 7,
   "metadata": {
    "collapsed": true
   },
   "outputs": [],
   "source": [
    "import os\n",
    "import sys\n",
    "import numpy as np\n",
    "import tensorflow as tf\n",
    "import input_data\n",
    "import matplotlib.pyplot as plt\n",
    "import model_parse as model\n",
    "import time"
   ]
  },
  {
   "cell_type": "code",
   "execution_count": 8,
   "metadata": {
    "collapsed": true
   },
   "outputs": [],
   "source": [
    "# 本例的代码已经不将dropout 优化在内\n",
    "\n",
    "\n",
    "# you need to change the directories to yours.\n",
    "train_dir = '../PetImages/train_convert/'\n",
    "test_dir = '../PetImages/test/'\n",
    "train_logs_dir = '../logs/train/'\n",
    "val_logs_dir = '../logs/val'\n",
    "\n",
    "N_CLASSES = 2\n",
    "IMG_W = 208     # resize the image, if the input image is too large, training will be very slow.\n",
    "IMG_H = 208\n",
    "RATIO = 0.2     # take 20% of dataset as validation data\n",
    "BATCH_SIZE = 64\n",
    "CAPACITY = 2000\n",
    "MAX_STEP = 4000 # with current parameters, it is suggested to use MAX_STEP>10k\n",
    "learning_rate = 0.0001 # with current parameters, it is suggested to use learning rate<0.0001"
   ]
  },
  {
   "cell_type": "code",
   "execution_count": 9,
   "metadata": {},
   "outputs": [
    {
     "name": "stdout",
     "output_type": "stream",
     "text": [
      "There are 11309 cats\n",
      "There are 11238 dogs\n"
     ]
    }
   ],
   "source": [
    "tf.reset_default_graph()\n",
    "param_test = {\n",
    "    'lr':[0.01,0.001,0.0001],\n",
    "    'batch_size':[64,128,256]\n",
    "}\n",
    "# param_test = {\n",
    "#      'lr':[0.01],\n",
    "#     'batch_size':[128,256]\n",
    "# }\n",
    "train, train_label, val, val_label = input_data.get_files(train_dir, RATIO)"
   ]
  },
  {
   "cell_type": "code",
   "execution_count": 10,
   "metadata": {
    "collapsed": true
   },
   "outputs": [],
   "source": [
    "def models_process(param_test):\n",
    "    models = {\n",
    "     'lr':{},\n",
    "     'batch_size':{}\n",
    "    }\n",
    "\n",
    "    for key_param,value_param in enumerate(param_test):\n",
    "\n",
    "        for parm_varm in param_test[value_param]:\n",
    "            \n",
    "            tf.reset_default_graph()\n",
    "            print('anananan',parm_varm)\n",
    "            if value_param == 'bacth_size':\n",
    "             \n",
    "                train_batch, train_label_batch = input_data.get_batch(train,\n",
    "                                                              train_label,\n",
    "                                                              IMG_W,\n",
    "                                                              IMG_H,\n",
    "                                                              parm_varm,\n",
    "                                                              CAPACITY)\n",
    "                val_batch, val_label_batch = input_data.get_batch(val,\n",
    "                                                              val_label,\n",
    "                                                              IMG_W,\n",
    "                                                              IMG_H,\n",
    "                                                              parm_varm,\n",
    "                                                              CAPACITY)\n",
    "                \n",
    "                x = tf.placeholder(tf.float32, shape=[parm_varm, IMG_W, IMG_H, 3])\n",
    "                y_ = tf.placeholder(tf.int32, shape=[parm_varm])\n",
    "                \n",
    "            #     CNN卷积操作\n",
    "                logits = model.inference(x, parm_varm, N_CLASSES)\n",
    "                \n",
    "                \n",
    "            else:\n",
    "                             \n",
    "                train_batch, train_label_batch = input_data.get_batch(train,\n",
    "                                                              train_label,\n",
    "                                                              IMG_W,\n",
    "                                                              IMG_H,\n",
    "                                                              BATCH_SIZE,\n",
    "                                                              CAPACITY)\n",
    "                val_batch, val_label_batch = input_data.get_batch(val,\n",
    "                                                              val_label,\n",
    "                                                              IMG_W,\n",
    "                                                              IMG_H,\n",
    "                                                              BATCH_SIZE,\n",
    "                                                              CAPACITY)\n",
    "              \n",
    "                x = tf.placeholder(tf.float32, shape=[BATCH_SIZE, IMG_W, IMG_H, 3])\n",
    "                y_ = tf.placeholder(tf.int32, shape=[BATCH_SIZE])\n",
    "            #     CNN卷积操作\n",
    "                logits = model.inference(x, BATCH_SIZE, N_CLASSES)\n",
    "            \n",
    "            \n",
    "            #scale the float to -2.5 to 2.5\n",
    "            train_batch = (1/(2*2.25)) * train_batch + 0.5\n",
    "        #    损失函数\n",
    "            loss = model.losses(logits, y_)\n",
    "        #     梯度下降\n",
    "            if value_param == 'lr':\n",
    "                train_op = model.trainning(loss, parm_varm)\n",
    "            else:\n",
    "                train_op = model.trainning(loss)\n",
    "        #     准确率\n",
    "            acc = model.evaluation(logits, y_)\n",
    "\n",
    "\n",
    "\n",
    "            with tf.Session() as sess:\n",
    "                saver = tf.train.Saver()\n",
    "                sess.run(tf.global_variables_initializer())\n",
    "                coord = tf.train.Coordinator()\n",
    "                threads = tf.train.start_queue_runners(sess= sess, coord=coord)\n",
    "        #         tensorboard查看\n",
    "                summary_op = tf.summary.merge_all()\n",
    "                train_writer = tf.summary.FileWriter(train_logs_dir, sess.graph)\n",
    "                val_writer = tf.summary.FileWriter(val_logs_dir, sess.graph)\n",
    "\n",
    "                steps_val = []\n",
    "                accuracy_val = []\n",
    "                loss_tr = []\n",
    "                steps_tr = []\n",
    "                accuracy_tr = []\n",
    "                loss_val = []\n",
    "        \n",
    "                try:\n",
    "                    for step in np.arange(MAX_STEP):\n",
    "                        start = time.time() \n",
    "                        if coord.should_stop():\n",
    "                                break\n",
    "                        tra_images,tra_labels = sess.run([train_batch, train_label_batch])\n",
    "                        _, tra_loss, tra_acc = sess.run([train_op, loss, acc],\n",
    "                                                        feed_dict={x:tra_images, y_:tra_labels})\n",
    "                        if step % 50 == 0:\n",
    "                            print('Step %d, train loss = %.2f, train accuracy = %.2f%%' %(step, tra_loss, tra_acc*100.0))\n",
    "                            summary_str = sess.run(summary_op,feed_dict={x:tra_images, y_:tra_labels})\n",
    "                            train_writer.add_summary(summary_str, step)\n",
    "                            steps_tr.append(step)\n",
    "                            accuracy_tr.append(tra_acc)\n",
    "                            loss_tr.append(tra_loss)\n",
    "\n",
    "#                         if step % 200 == 0 or (step + 1) == MAX_STEP:\n",
    "                        if step % 50 == 0 or (step + 1) == MAX_STEP:\n",
    "                            val_images, val_labels = sess.run([val_batch, val_label_batch])\n",
    "                            val_loss, val_acc = sess.run([loss, acc],\n",
    "                                                         feed_dict={x:val_images, y_:val_labels})\n",
    "                            print('**  Step %d, val loss = %.2f, val accuracy = %.2f%%  **' %(step, val_loss, val_acc*100.0))\n",
    "                            summary_str = sess.run(summary_op,feed_dict={x:val_images, y_:val_labels})\n",
    "                            val_writer.add_summary(summary_str, step)\n",
    "                            steps_val.append(step)\n",
    "                            accuracy_val.append(val_acc)\n",
    "                            loss_val.append(val_loss)\n",
    "\n",
    "                        if step % 2000 == 0 or (step + 1) == MAX_STEP:\n",
    "                            checkpoint_path = os.path.join(train_logs_dir, 'model.ckpt')\n",
    "                            saver.save(sess, checkpoint_path, global_step=step)\n",
    "                    print(value_param, parm_varm)\n",
    "                    time_used = time.time() - start\n",
    "                    models[value_param][str(parm_varm)] = {'tr':{'steps_tr':steps_tr,'accuracy_tr':accuracy_tr,'tr_loss':loss_tr},\n",
    "                                                          'val':{'steps_val':steps_val,'accuracy_val':accuracy_val,'val_loss':loss_val},\n",
    "                                                          'times(s)':time_used}\n",
    "                    \n",
    "\n",
    "                except tf.errors.OutOfRangeError:\n",
    "                    print('Done training -- epoch limit reached')\n",
    "                finally:\n",
    "                    coord.request_stop()\n",
    "                try:\n",
    "                    coord.join(threads)\n",
    "                except:\n",
    "                    error_type, error_value, trace_back = sys.exc_info()\n",
    "                    print(error_value)\n",
    "    return models"
   ]
  },
  {
   "cell_type": "code",
   "execution_count": 11,
   "metadata": {
    "collapsed": true
   },
   "outputs": [],
   "source": [
    "# 命令行输入: tensorboard  --logdir=/tmp/mnist 查看结果\n",
    "# 浏览器输入:127.0.0.1:6006"
   ]
  },
  {
   "cell_type": "code",
   "execution_count": 12,
   "metadata": {
    "scrolled": false
   },
   "outputs": [
    {
     "name": "stdout",
     "output_type": "stream",
     "text": [
      "anananan 0.01\n",
      "conv1:  (64, 208, 208, 16)\n",
      "norm1:  (64, 104, 104, 16)\n",
      "conv2:  (64, 104, 104, 16)\n",
      "pool2:  (64, 104, 104, 16)\n",
      "reshape: Tensor(\"local3/Reshape:0\", shape=(64, 173056), dtype=float32)\n",
      "dim: 173056\n",
      "local3:  (64, 128)\n",
      "local4:  (64, 128)\n",
      "Step 0, train loss = 0.69, train accuracy = 48.44%\n",
      "**  Step 0, val loss = 50.01, val accuracy = 45.31%  **\n"
     ]
    },
    {
     "ename": "KeyboardInterrupt",
     "evalue": "",
     "output_type": "error",
     "traceback": [
      "\u001b[0;31m---------------------------------------------------------------------------\u001b[0m",
      "\u001b[0;31mKeyboardInterrupt\u001b[0m                         Traceback (most recent call last)",
      "\u001b[0;32m<ipython-input-12-16674907e885>\u001b[0m in \u001b[0;36m<module>\u001b[0;34m()\u001b[0m\n\u001b[0;32m----> 1\u001b[0;31m \u001b[0mmodels\u001b[0m \u001b[0;34m=\u001b[0m \u001b[0mmodels_process\u001b[0m\u001b[0;34m(\u001b[0m\u001b[0mparam_test\u001b[0m\u001b[0;34m)\u001b[0m\u001b[0;34m\u001b[0m\u001b[0m\n\u001b[0m",
      "\u001b[0;32m<ipython-input-10-24d4402d279f>\u001b[0m in \u001b[0;36mmodels_process\u001b[0;34m(param_test)\u001b[0m\n\u001b[1;32m     92\u001b[0m                         \u001b[0mtra_images\u001b[0m\u001b[0;34m,\u001b[0m\u001b[0mtra_labels\u001b[0m \u001b[0;34m=\u001b[0m \u001b[0msess\u001b[0m\u001b[0;34m.\u001b[0m\u001b[0mrun\u001b[0m\u001b[0;34m(\u001b[0m\u001b[0;34m[\u001b[0m\u001b[0mtrain_batch\u001b[0m\u001b[0;34m,\u001b[0m \u001b[0mtrain_label_batch\u001b[0m\u001b[0;34m]\u001b[0m\u001b[0;34m)\u001b[0m\u001b[0;34m\u001b[0m\u001b[0m\n\u001b[1;32m     93\u001b[0m                         _, tra_loss, tra_acc = sess.run([train_op, loss, acc],\n\u001b[0;32m---> 94\u001b[0;31m                                                         feed_dict={x:tra_images, y_:tra_labels})\n\u001b[0m\u001b[1;32m     95\u001b[0m                         \u001b[0;32mif\u001b[0m \u001b[0mstep\u001b[0m \u001b[0;34m%\u001b[0m \u001b[0;36m50\u001b[0m \u001b[0;34m==\u001b[0m \u001b[0;36m0\u001b[0m\u001b[0;34m:\u001b[0m\u001b[0;34m\u001b[0m\u001b[0m\n\u001b[1;32m     96\u001b[0m                             \u001b[0mprint\u001b[0m\u001b[0;34m(\u001b[0m\u001b[0;34m'Step %d, train loss = %.2f, train accuracy = %.2f%%'\u001b[0m \u001b[0;34m%\u001b[0m\u001b[0;34m(\u001b[0m\u001b[0mstep\u001b[0m\u001b[0;34m,\u001b[0m \u001b[0mtra_loss\u001b[0m\u001b[0;34m,\u001b[0m \u001b[0mtra_acc\u001b[0m\u001b[0;34m*\u001b[0m\u001b[0;36m100.0\u001b[0m\u001b[0;34m)\u001b[0m\u001b[0;34m)\u001b[0m\u001b[0;34m\u001b[0m\u001b[0m\n",
      "\u001b[0;32m~/anaconda3/lib/python3.6/site-packages/tensorflow/python/client/session.py\u001b[0m in \u001b[0;36mrun\u001b[0;34m(self, fetches, feed_dict, options, run_metadata)\u001b[0m\n\u001b[1;32m    893\u001b[0m     \u001b[0;32mtry\u001b[0m\u001b[0;34m:\u001b[0m\u001b[0;34m\u001b[0m\u001b[0m\n\u001b[1;32m    894\u001b[0m       result = self._run(None, fetches, feed_dict, options_ptr,\n\u001b[0;32m--> 895\u001b[0;31m                          run_metadata_ptr)\n\u001b[0m\u001b[1;32m    896\u001b[0m       \u001b[0;32mif\u001b[0m \u001b[0mrun_metadata\u001b[0m\u001b[0;34m:\u001b[0m\u001b[0;34m\u001b[0m\u001b[0m\n\u001b[1;32m    897\u001b[0m         \u001b[0mproto_data\u001b[0m \u001b[0;34m=\u001b[0m \u001b[0mtf_session\u001b[0m\u001b[0;34m.\u001b[0m\u001b[0mTF_GetBuffer\u001b[0m\u001b[0;34m(\u001b[0m\u001b[0mrun_metadata_ptr\u001b[0m\u001b[0;34m)\u001b[0m\u001b[0;34m\u001b[0m\u001b[0m\n",
      "\u001b[0;32m~/anaconda3/lib/python3.6/site-packages/tensorflow/python/client/session.py\u001b[0m in \u001b[0;36m_run\u001b[0;34m(self, handle, fetches, feed_dict, options, run_metadata)\u001b[0m\n\u001b[1;32m   1122\u001b[0m     \u001b[0;32mif\u001b[0m \u001b[0mfinal_fetches\u001b[0m \u001b[0;32mor\u001b[0m \u001b[0mfinal_targets\u001b[0m \u001b[0;32mor\u001b[0m \u001b[0;34m(\u001b[0m\u001b[0mhandle\u001b[0m \u001b[0;32mand\u001b[0m \u001b[0mfeed_dict_tensor\u001b[0m\u001b[0;34m)\u001b[0m\u001b[0;34m:\u001b[0m\u001b[0;34m\u001b[0m\u001b[0m\n\u001b[1;32m   1123\u001b[0m       results = self._do_run(handle, final_targets, final_fetches,\n\u001b[0;32m-> 1124\u001b[0;31m                              feed_dict_tensor, options, run_metadata)\n\u001b[0m\u001b[1;32m   1125\u001b[0m     \u001b[0;32melse\u001b[0m\u001b[0;34m:\u001b[0m\u001b[0;34m\u001b[0m\u001b[0m\n\u001b[1;32m   1126\u001b[0m       \u001b[0mresults\u001b[0m \u001b[0;34m=\u001b[0m \u001b[0;34m[\u001b[0m\u001b[0;34m]\u001b[0m\u001b[0;34m\u001b[0m\u001b[0m\n",
      "\u001b[0;32m~/anaconda3/lib/python3.6/site-packages/tensorflow/python/client/session.py\u001b[0m in \u001b[0;36m_do_run\u001b[0;34m(self, handle, target_list, fetch_list, feed_dict, options, run_metadata)\u001b[0m\n\u001b[1;32m   1319\u001b[0m     \u001b[0;32mif\u001b[0m \u001b[0mhandle\u001b[0m \u001b[0;32mis\u001b[0m \u001b[0;32mNone\u001b[0m\u001b[0;34m:\u001b[0m\u001b[0;34m\u001b[0m\u001b[0m\n\u001b[1;32m   1320\u001b[0m       return self._do_call(_run_fn, self._session, feeds, fetches, targets,\n\u001b[0;32m-> 1321\u001b[0;31m                            options, run_metadata)\n\u001b[0m\u001b[1;32m   1322\u001b[0m     \u001b[0;32melse\u001b[0m\u001b[0;34m:\u001b[0m\u001b[0;34m\u001b[0m\u001b[0m\n\u001b[1;32m   1323\u001b[0m       \u001b[0;32mreturn\u001b[0m \u001b[0mself\u001b[0m\u001b[0;34m.\u001b[0m\u001b[0m_do_call\u001b[0m\u001b[0;34m(\u001b[0m\u001b[0m_prun_fn\u001b[0m\u001b[0;34m,\u001b[0m \u001b[0mself\u001b[0m\u001b[0;34m.\u001b[0m\u001b[0m_session\u001b[0m\u001b[0;34m,\u001b[0m \u001b[0mhandle\u001b[0m\u001b[0;34m,\u001b[0m \u001b[0mfeeds\u001b[0m\u001b[0;34m,\u001b[0m \u001b[0mfetches\u001b[0m\u001b[0;34m)\u001b[0m\u001b[0;34m\u001b[0m\u001b[0m\n",
      "\u001b[0;32m~/anaconda3/lib/python3.6/site-packages/tensorflow/python/client/session.py\u001b[0m in \u001b[0;36m_do_call\u001b[0;34m(self, fn, *args)\u001b[0m\n\u001b[1;32m   1325\u001b[0m   \u001b[0;32mdef\u001b[0m \u001b[0m_do_call\u001b[0m\u001b[0;34m(\u001b[0m\u001b[0mself\u001b[0m\u001b[0;34m,\u001b[0m \u001b[0mfn\u001b[0m\u001b[0;34m,\u001b[0m \u001b[0;34m*\u001b[0m\u001b[0margs\u001b[0m\u001b[0;34m)\u001b[0m\u001b[0;34m:\u001b[0m\u001b[0;34m\u001b[0m\u001b[0m\n\u001b[1;32m   1326\u001b[0m     \u001b[0;32mtry\u001b[0m\u001b[0;34m:\u001b[0m\u001b[0;34m\u001b[0m\u001b[0m\n\u001b[0;32m-> 1327\u001b[0;31m       \u001b[0;32mreturn\u001b[0m \u001b[0mfn\u001b[0m\u001b[0;34m(\u001b[0m\u001b[0;34m*\u001b[0m\u001b[0margs\u001b[0m\u001b[0;34m)\u001b[0m\u001b[0;34m\u001b[0m\u001b[0m\n\u001b[0m\u001b[1;32m   1328\u001b[0m     \u001b[0;32mexcept\u001b[0m \u001b[0merrors\u001b[0m\u001b[0;34m.\u001b[0m\u001b[0mOpError\u001b[0m \u001b[0;32mas\u001b[0m \u001b[0me\u001b[0m\u001b[0;34m:\u001b[0m\u001b[0;34m\u001b[0m\u001b[0m\n\u001b[1;32m   1329\u001b[0m       \u001b[0mmessage\u001b[0m \u001b[0;34m=\u001b[0m \u001b[0mcompat\u001b[0m\u001b[0;34m.\u001b[0m\u001b[0mas_text\u001b[0m\u001b[0;34m(\u001b[0m\u001b[0me\u001b[0m\u001b[0;34m.\u001b[0m\u001b[0mmessage\u001b[0m\u001b[0;34m)\u001b[0m\u001b[0;34m\u001b[0m\u001b[0m\n",
      "\u001b[0;32m~/anaconda3/lib/python3.6/site-packages/tensorflow/python/client/session.py\u001b[0m in \u001b[0;36m_run_fn\u001b[0;34m(session, feed_dict, fetch_list, target_list, options, run_metadata)\u001b[0m\n\u001b[1;32m   1304\u001b[0m           return tf_session.TF_Run(session, options,\n\u001b[1;32m   1305\u001b[0m                                    \u001b[0mfeed_dict\u001b[0m\u001b[0;34m,\u001b[0m \u001b[0mfetch_list\u001b[0m\u001b[0;34m,\u001b[0m \u001b[0mtarget_list\u001b[0m\u001b[0;34m,\u001b[0m\u001b[0;34m\u001b[0m\u001b[0m\n\u001b[0;32m-> 1306\u001b[0;31m                                    status, run_metadata)\n\u001b[0m\u001b[1;32m   1307\u001b[0m \u001b[0;34m\u001b[0m\u001b[0m\n\u001b[1;32m   1308\u001b[0m     \u001b[0;32mdef\u001b[0m \u001b[0m_prun_fn\u001b[0m\u001b[0;34m(\u001b[0m\u001b[0msession\u001b[0m\u001b[0;34m,\u001b[0m \u001b[0mhandle\u001b[0m\u001b[0;34m,\u001b[0m \u001b[0mfeed_dict\u001b[0m\u001b[0;34m,\u001b[0m \u001b[0mfetch_list\u001b[0m\u001b[0;34m)\u001b[0m\u001b[0;34m:\u001b[0m\u001b[0;34m\u001b[0m\u001b[0m\n",
      "\u001b[0;31mKeyboardInterrupt\u001b[0m: "
     ]
    }
   ],
   "source": [
    "models = models_process(param_test)"
   ]
  },
  {
   "cell_type": "code",
   "execution_count": 8,
   "metadata": {},
   "outputs": [
    {
     "data": {
      "text/plain": [
       "{'batch_size': {'128': {'times(s)': 31.53414821624756,\n",
       "   'tr': {'accuracy_tr': [0.46875, 0.5625],\n",
       "    'steps_tr': [0, 5],\n",
       "    'tr_loss': [0.69364727, 0.69269389]},\n",
       "   'val': {'accuracy_val': [0.54688,\n",
       "     0.53125,\n",
       "     0.51562,\n",
       "     0.5625,\n",
       "     0.54688,\n",
       "     0.51562],\n",
       "    'steps_val': [0, 2, 4, 6, 8, 9],\n",
       "    'val_loss': [0.69126749,\n",
       "     0.6924215,\n",
       "     0.69300604,\n",
       "     0.6926198,\n",
       "     0.69274682,\n",
       "     0.69299829]}},\n",
       "  '256': {'times(s)': 56.317049980163574,\n",
       "   'tr': {'accuracy_tr': [0.51562, 0.40625],\n",
       "    'steps_tr': [0, 5],\n",
       "    'tr_loss': [0.69302726, 0.70083141]},\n",
       "   'val': {'accuracy_val': [0.59375, 0.48438, 0.42188, 0.54688, 0.625, 0.5],\n",
       "    'steps_val': [0, 2, 4, 6, 8, 9],\n",
       "    'val_loss': [0.69035465,\n",
       "     0.69462597,\n",
       "     0.70001841,\n",
       "     0.6923126,\n",
       "     0.6922757,\n",
       "     0.69321144]}}},\n",
       " 'lr': {}}"
      ]
     },
     "execution_count": 8,
     "metadata": {},
     "output_type": "execute_result"
    }
   ],
   "source": [
    "models"
   ]
  },
  {
   "cell_type": "code",
   "execution_count": 10,
   "metadata": {},
   "outputs": [
    {
     "data": {
      "text/plain": [
       "31.53414821624756"
      ]
     },
     "execution_count": 10,
     "metadata": {},
     "output_type": "execute_result"
    }
   ],
   "source": [
    "models['batch_size'][str(128)]['times(s)']"
   ]
  },
  {
   "cell_type": "code",
   "execution_count": 11,
   "metadata": {},
   "outputs": [
    {
     "data": {
      "text/plain": [
       "{'times(s)': 31.53414821624756,\n",
       " 'tr': {'accuracy_tr': [0.46875, 0.5625],\n",
       "  'steps_tr': [0, 5],\n",
       "  'tr_loss': [0.69364727, 0.69269389]},\n",
       " 'val': {'accuracy_val': [0.54688, 0.53125, 0.51562, 0.5625, 0.54688, 0.51562],\n",
       "  'steps_val': [0, 2, 4, 6, 8, 9],\n",
       "  'val_loss': [0.69126749,\n",
       "   0.6924215,\n",
       "   0.69300604,\n",
       "   0.6926198,\n",
       "   0.69274682,\n",
       "   0.69299829]}}"
      ]
     },
     "execution_count": 11,
     "metadata": {},
     "output_type": "execute_result"
    }
   ],
   "source": [
    "models['batch_size'][str(128)]"
   ]
  },
  {
   "cell_type": "code",
   "execution_count": 32,
   "metadata": {
    "scrolled": false
   },
   "outputs": [
    {
     "name": "stdout",
     "output_type": "stream",
     "text": [
      "128 batch_size used 31.53414821624756s\n",
      "256 batch_size used 56.317049980163574s\n"
     ]
    },
    {
     "data": {
      "image/png": "[encoded data removed]",
      "text/plain": [
       "<matplotlib.figure.Figure at 0x7efc2302f048>"
      ]
     },
     "metadata": {},
     "output_type": "display_data"
    }
   ],
   "source": [
    "# 绘制不同学习函数 accuracy的曲线\n",
    "plt.figure(figsize=(14,8))\n",
    "for param,param_val in enumerate(models):\n",
    "#     print(param,param_val)\n",
    "    plt.subplot(221+param)\n",
    "    for inner_key in models[param_val]:\n",
    "#         print(inner_key)\n",
    "#         print(models[param_val])\n",
    "#         print(models[param_val][inner_key]['times(s)'])\n",
    "        print(str(inner_key) +' ' +  param_val + ' used '+str(models[param_val][inner_key]['times(s)'])+'s')\n",
    "        plt.plot(models[param_val][inner_key]['val']['steps_val'],models[param_val][inner_key]['val']['accuracy_val'],label=str(inner_key))\n",
    "        plt.ylabel('accuracy')\n",
    "        plt.xlabel('per steps')\n",
    "        plt.title('val--'+param_val)\n",
    "        legend = plt.legend(loc='best',shadow=True)\n",
    "        frame = legend.get_frame()\n",
    "        frame.set_facecolor('0.90')\n",
    "plt.show()"
   ]
  },
  {
   "cell_type": "code",
   "execution_count": 31,
   "metadata": {
    "scrolled": false
   },
   "outputs": [
    {
     "name": "stdout",
     "output_type": "stream",
     "text": [
      "128 batch_size used 31.53414821624756s\n",
      "256 batch_size used 56.317049980163574s\n"
     ]
    },
    {
     "data": {
      "image/png": "[encoded data removed]",
      "text/plain": [
       "<matplotlib.figure.Figure at 0x7efc1a1e4e80>"
      ]
     },
     "metadata": {},
     "output_type": "display_data"
    }
   ],
   "source": [
    "plt.figure(figsize=(14,8))\n",
    "i = 0\n",
    "for param,param_val in enumerate(models):\n",
    "#     print(param,param_val)\n",
    "    \n",
    "    for inner_key in models[param_val]:       \n",
    "        plt.subplot(331+i)\n",
    "        plt.tight_layout()\n",
    "#         print(inner_key)\n",
    "#         print(models[param_val])\n",
    "        print(str(inner_key) +' ' +  param_val + ' used '+str(models[param_val][inner_key]['times(s)'])+'s')\n",
    "        plt.plot(models[param_val][inner_key]['tr']['steps_tr'],models[param_val][inner_key]['tr']['tr_loss'],\"x-\",label='train')\n",
    "                 \n",
    "        plt.plot(models[param_val][inner_key]['val']['steps_val'],models[param_val][inner_key]['val']['val_loss'],\"+-\",label='val')\n",
    "      \n",
    "        plt.ylabel('loss')\n",
    "        plt.xlabel('per steps')\n",
    "        plt.title('loss--'+param_val+str(inner_key))\n",
    "        legend = plt.legend(loc='best',shadow=True)\n",
    "        frame = legend.get_frame()\n",
    "        frame.set_facecolor('0.90')\n",
    "        i = i + 1\n",
    "plt.show()"
   ]
  },
  {
   "cell_type": "code",
   "execution_count": null,
   "metadata": {
    "collapsed": true
   },
   "outputs": [],
   "source": []
  },
  {
   "cell_type": "code",
   "execution_count": null,
   "metadata": {
    "collapsed": true
   },
   "outputs": [],
   "source": []
  }
 ],
 "metadata": {
  "kernelspec": {
   "display_name": "Python 3",
   "language": "python",
   "name": "python3"
  },
  "language_info": {
   "codemirror_mode": {
    "name": "ipython",
    "version": 3
   },
   "file_extension": ".py",
   "mimetype": "text/x-python",
   "name": "python",
   "nbconvert_exporter": "python",
   "pygments_lexer": "ipython3",
   "version": "3.6.4"
  }
 },
 "nbformat": 4,
 "nbformat_minor": 2
}
