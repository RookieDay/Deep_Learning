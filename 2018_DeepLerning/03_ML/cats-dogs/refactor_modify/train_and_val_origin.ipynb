{
 "cells": [
  {
   "cell_type": "code",
   "execution_count": 26,
   "metadata": {
    "collapsed": true
   },
   "outputs": [],
   "source": [
    "import os\n",
    "import sys\n",
    "import numpy as np\n",
    "import tensorflow as tf\n",
    "import input_data\n",
    "import model_origin as model\n",
    "import time \n",
    "import matplotlib.pyplot as plt"
   ]
  },
  {
   "cell_type": "code",
   "execution_count": 27,
   "metadata": {
    "collapsed": true
   },
   "outputs": [],
   "source": [
    "# you need to change the directories to yours.\n",
    "train_dir = '../PetImages/train_convert/'\n",
    "test_dir = '../PetImages/test/'\n",
    "train_logs_dir = '../logs/train/'\n",
    "val_logs_dir = '../logs/val'\n",
    "\n",
    "N_CLASSES = 2\n",
    "IMG_W = 208     # resize the image, if the input image is too large, training will be very slow.\n",
    "IMG_H = 208\n",
    "RATIO = 0.2     # take 20% of dataset as validation data\n",
    "BATCH_SIZE = 64\n",
    "CAPACITY = 2000\n",
    "MAX_STEP = 1000 # with current parameters, it is suggested to use MAX_STEP>10k\n",
    "learning_rate = 0.0001 # with current parameters, it is suggested to use learning rate<0.0001\n",
    "models = {'origin':{}}"
   ]
  },
  {
   "cell_type": "code",
   "execution_count": 28,
   "metadata": {
    "collapsed": true
   },
   "outputs": [],
   "source": [
    "tf.reset_default_graph()"
   ]
  },
  {
   "cell_type": "code",
   "execution_count": 29,
   "metadata": {
    "collapsed": true
   },
   "outputs": [],
   "source": [
    "def training():\n",
    "    \n",
    "    train, train_label, val, val_label = input_data.get_files(train_dir, RATIO)\n",
    "    train_batch, train_label_batch = input_data.get_batch(train,\n",
    "                                                  train_label,\n",
    "                                                  IMG_W,\n",
    "                                                  IMG_H,\n",
    "                                                  BATCH_SIZE,\n",
    "                                                  CAPACITY)\n",
    "    val_batch, val_label_batch = input_data.get_batch(val,\n",
    "                                                  val_label,\n",
    "                                                  IMG_W,\n",
    "                                                  IMG_H,\n",
    "                                                  BATCH_SIZE,\n",
    "                                                  CAPACITY)\n",
    "    \n",
    "    #scale the float to -2.5 to 2.5\n",
    "    train_batch = (1/(2*2.25)) * train_batch + 0.5\n",
    "\n",
    "#     CNN卷积操作\n",
    "    logits = model.inference(train_batch, BATCH_SIZE, N_CLASSES)\n",
    "#    损失函数\n",
    "    loss = model.losses(logits, train_label_batch)\n",
    "#     梯度下降\n",
    "    train_op = model.trainning(loss, learning_rate)\n",
    "#     准确率\n",
    "    acc = model.evaluation(logits,train_label_batch)\n",
    "\n",
    "    \n",
    "    x = tf.placeholder(tf.float32, shape=[BATCH_SIZE, IMG_W, IMG_H, 3])\n",
    "    y_ = tf.placeholder(tf.int16, shape=[BATCH_SIZE])\n",
    "    \n",
    "    with tf.Session() as sess:\n",
    "        saver = tf.train.Saver()\n",
    "        sess.run(tf.global_variables_initializer())\n",
    "        coord = tf.train.Coordinator()\n",
    "        threads = tf.train.start_queue_runners(sess= sess, coord=coord)\n",
    "#         tensorboard查看\n",
    "        summary_op = tf.summary.merge_all()\n",
    "        train_writer = tf.summary.FileWriter(train_logs_dir, sess.graph)\n",
    "        val_writer = tf.summary.FileWriter(val_logs_dir, sess.graph)\n",
    "\n",
    "        steps_val = []\n",
    "        accuracy_val = []\n",
    "        loss_tr = []\n",
    "        steps_tr = []\n",
    "        accuracy_tr = []\n",
    "        loss_val = []\n",
    "        \n",
    "        \n",
    "        try:\n",
    "            for step in np.arange(MAX_STEP):\n",
    "                start = time.time()\n",
    "                if coord.should_stop():\n",
    "                        break\n",
    "                tra_images,tra_labels = sess.run([train_batch, train_label_batch])\n",
    "                _, tra_loss, tra_acc = sess.run([train_op, loss, acc],\n",
    "                                                feed_dict={x:tra_images, y_:tra_labels})\n",
    "                if step % 50 == 0:\n",
    "                    print('Step %d, train loss = %.2f, train accuracy = %.2f%%' %(step, tra_loss, tra_acc*100.0))\n",
    "                    summary_str = sess.run(summary_op)\n",
    "                    steps_tr.append(step)\n",
    "                    accuracy_tr.append(tra_acc)\n",
    "                    loss_tr.append(tra_loss)\n",
    "                    train_writer.add_summary(summary_str, step)\n",
    "\n",
    "                if step % 50 == 0 or (step + 1) == MAX_STEP:\n",
    "                    val_images, val_labels = sess.run([val_batch, val_label_batch])\n",
    "                    val_loss, val_acc = sess.run([loss, acc],\n",
    "                                                 feed_dict={x:val_images, y_:val_labels})\n",
    "                    print('**  Step %d, val loss = %.2f, val accuracy = %.2f%%  **' %(step, val_loss, val_acc*100.0))\n",
    "                    steps_val.append(step)\n",
    "                    accuracy_val.append(val_acc)\n",
    "                    loss_val.append(val_loss)\n",
    "                    summary_str = sess.run(summary_op)\n",
    "                    val_writer.add_summary(summary_str, step)\n",
    "\n",
    "                if step % 2000 == 0 or (step + 1) == MAX_STEP:\n",
    "                    checkpoint_path = os.path.join(train_logs_dir, 'model.ckpt')\n",
    "                    saver.save(sess, checkpoint_path, global_step=step)\n",
    "            time_used = time.time() - start\n",
    "            models['origin'] = {'tr':{'steps_tr':steps_tr,'accuracy_tr':accuracy_tr,'tr_loss':loss_tr},\n",
    "                                                  'val':{'steps_val':steps_val,'accuracy_val':accuracy_val,'val_loss':loss_val},\n",
    "                                                  'times(s)':time_used}\n",
    "\n",
    "        except tf.errors.OutOfRangeError:\n",
    "            print('Done training -- epoch limit reached')\n",
    "        finally:\n",
    "            coord.request_stop()\n",
    "        try:\n",
    "            coord.join(threads)\n",
    "        except:\n",
    "            error_type, error_value, trace_back = sys.exc_info()\n",
    "            print(error_value)\n"
   ]
  },
  {
   "cell_type": "code",
   "execution_count": 30,
   "metadata": {
    "collapsed": true
   },
   "outputs": [],
   "source": [
    "# 命令行输入: tensorboard  --logdir=/tmp/mnist 查看结果\n",
    "# 浏览器输入:127.0.0.1:6006"
   ]
  },
  {
   "cell_type": "code",
   "execution_count": 31,
   "metadata": {},
   "outputs": [
    {
     "name": "stdout",
     "output_type": "stream",
     "text": [
      "There are 11309 cats\n",
      "There are 11238 dogs\n",
      "conv1:  (64, 208, 208, 16)\n",
      "norm1:  (64, 104, 104, 16)\n",
      "conv2:  (64, 104, 104, 16)\n",
      "pool2:  (64, 104, 104, 16)\n",
      "local3:  (64, 128)\n",
      "local4:  (64, 128)\n",
      "Step 0, train loss = 0.69, train accuracy = 53.12%\n",
      "**  Step 0, val loss = 0.69, val accuracy = 53.12%  **\n",
      "Step 50, train loss = 0.69, train accuracy = 42.19%\n",
      "**  Step 50, val loss = 0.69, val accuracy = 50.00%  **\n",
      "Step 100, train loss = 0.69, train accuracy = 51.56%\n",
      "**  Step 100, val loss = 0.69, val accuracy = 53.12%  **\n",
      "Step 150, train loss = 0.69, train accuracy = 43.75%\n",
      "**  Step 150, val loss = 0.69, val accuracy = 59.38%  **\n",
      "Step 200, train loss = 0.70, train accuracy = 42.19%\n",
      "**  Step 200, val loss = 0.69, val accuracy = 51.56%  **\n",
      "Step 250, train loss = 0.67, train accuracy = 65.62%\n",
      "**  Step 250, val loss = 0.69, val accuracy = 51.56%  **\n",
      "Step 300, train loss = 0.68, train accuracy = 51.56%\n",
      "**  Step 300, val loss = 0.70, val accuracy = 50.00%  **\n",
      "Step 350, train loss = 0.67, train accuracy = 65.62%\n",
      "**  Step 350, val loss = 0.68, val accuracy = 53.12%  **\n",
      "Step 400, train loss = 0.65, train accuracy = 64.06%\n",
      "**  Step 400, val loss = 0.66, val accuracy = 64.06%  **\n",
      "Step 450, train loss = 0.64, train accuracy = 76.56%\n",
      "**  Step 450, val loss = 0.66, val accuracy = 62.50%  **\n",
      "Step 500, train loss = 0.67, train accuracy = 54.69%\n",
      "**  Step 500, val loss = 0.66, val accuracy = 54.69%  **\n",
      "Step 550, train loss = 0.70, train accuracy = 51.56%\n",
      "**  Step 550, val loss = 0.69, val accuracy = 46.88%  **\n",
      "Step 600, train loss = 0.66, train accuracy = 62.50%\n",
      "**  Step 600, val loss = 0.66, val accuracy = 60.94%  **\n",
      "Step 650, train loss = 0.67, train accuracy = 56.25%\n",
      "**  Step 650, val loss = 0.69, val accuracy = 51.56%  **\n",
      "Step 700, train loss = 0.67, train accuracy = 60.94%\n",
      "**  Step 700, val loss = 0.66, val accuracy = 60.94%  **\n",
      "Step 750, train loss = 0.66, train accuracy = 57.81%\n",
      "**  Step 750, val loss = 0.69, val accuracy = 51.56%  **\n",
      "Step 800, train loss = 0.58, train accuracy = 79.69%\n",
      "**  Step 800, val loss = 0.71, val accuracy = 53.12%  **\n",
      "Step 850, train loss = 0.63, train accuracy = 67.19%\n",
      "**  Step 850, val loss = 0.63, val accuracy = 59.38%  **\n",
      "Step 900, train loss = 0.67, train accuracy = 51.56%\n",
      "**  Step 900, val loss = 0.59, val accuracy = 65.62%  **\n",
      "Step 950, train loss = 0.66, train accuracy = 59.38%\n",
      "**  Step 950, val loss = 0.72, val accuracy = 56.25%  **\n",
      "**  Step 999, val loss = 0.66, val accuracy = 57.81%  **\n"
     ]
    }
   ],
   "source": [
    "# if __name__ == '__main__':\n",
    "training()\n",
    "# test_one_image()"
   ]
  },
  {
   "cell_type": "code",
   "execution_count": 32,
   "metadata": {
    "scrolled": true
   },
   "outputs": [
    {
     "data": {
      "text/plain": [
       "{'origin': {'times(s)': 2.676424741744995,\n",
       "  'tr': {'accuracy_tr': [0.53125,\n",
       "    0.42188,\n",
       "    0.51562,\n",
       "    0.4375,\n",
       "    0.42188,\n",
       "    0.65625,\n",
       "    0.51562,\n",
       "    0.65625,\n",
       "    0.64062,\n",
       "    0.76562,\n",
       "    0.54688,\n",
       "    0.51562,\n",
       "    0.625,\n",
       "    0.5625,\n",
       "    0.60938,\n",
       "    0.57812,\n",
       "    0.79688,\n",
       "    0.67188,\n",
       "    0.51562,\n",
       "    0.59375],\n",
       "   'steps_tr': [0,\n",
       "    50,\n",
       "    100,\n",
       "    150,\n",
       "    200,\n",
       "    250,\n",
       "    300,\n",
       "    350,\n",
       "    400,\n",
       "    450,\n",
       "    500,\n",
       "    550,\n",
       "    600,\n",
       "    650,\n",
       "    700,\n",
       "    750,\n",
       "    800,\n",
       "    850,\n",
       "    900,\n",
       "    950],\n",
       "   'tr_loss': [0.69309694,\n",
       "    0.69332433,\n",
       "    0.69298494,\n",
       "    0.69355655,\n",
       "    0.69642782,\n",
       "    0.6748395,\n",
       "    0.68165863,\n",
       "    0.66610801,\n",
       "    0.65185237,\n",
       "    0.64459622,\n",
       "    0.67166758,\n",
       "    0.70393074,\n",
       "    0.66028035,\n",
       "    0.67087466,\n",
       "    0.66746926,\n",
       "    0.65930331,\n",
       "    0.58288145,\n",
       "    0.62544733,\n",
       "    0.66543603,\n",
       "    0.66259384]},\n",
       "  'val': {'accuracy_val': [0.53125,\n",
       "    0.5,\n",
       "    0.53125,\n",
       "    0.59375,\n",
       "    0.51562,\n",
       "    0.51562,\n",
       "    0.5,\n",
       "    0.53125,\n",
       "    0.64062,\n",
       "    0.625,\n",
       "    0.54688,\n",
       "    0.46875,\n",
       "    0.60938,\n",
       "    0.51562,\n",
       "    0.60938,\n",
       "    0.51562,\n",
       "    0.53125,\n",
       "    0.59375,\n",
       "    0.65625,\n",
       "    0.5625,\n",
       "    0.57812],\n",
       "   'steps_val': [0,\n",
       "    50,\n",
       "    100,\n",
       "    150,\n",
       "    200,\n",
       "    250,\n",
       "    300,\n",
       "    350,\n",
       "    400,\n",
       "    450,\n",
       "    500,\n",
       "    550,\n",
       "    600,\n",
       "    650,\n",
       "    700,\n",
       "    750,\n",
       "    800,\n",
       "    850,\n",
       "    900,\n",
       "    950,\n",
       "    999],\n",
       "   'val_loss': [0.69232094,\n",
       "    0.69313371,\n",
       "    0.69284993,\n",
       "    0.69213808,\n",
       "    0.69304407,\n",
       "    0.69250578,\n",
       "    0.70023131,\n",
       "    0.68099332,\n",
       "    0.66312099,\n",
       "    0.65566802,\n",
       "    0.66051245,\n",
       "    0.68736005,\n",
       "    0.65928638,\n",
       "    0.69292116,\n",
       "    0.66218793,\n",
       "    0.68778133,\n",
       "    0.71343386,\n",
       "    0.62736732,\n",
       "    0.58625925,\n",
       "    0.71992457,\n",
       "    0.65504134]}}}"
      ]
     },
     "execution_count": 32,
     "metadata": {},
     "output_type": "execute_result"
    }
   ],
   "source": [
    "models"
   ]
  },
  {
   "cell_type": "code",
   "execution_count": null,
   "metadata": {
    "collapsed": true
   },
   "outputs": [],
   "source": []
  },
  {
   "cell_type": "code",
   "execution_count": 33,
   "metadata": {
    "scrolled": true
   },
   "outputs": [
    {
     "name": "stdout",
     "output_type": "stream",
     "text": [
      "origin used: 2.676424741744995s\n"
     ]
    },
    {
     "data": {
      "image/png": "[encoded data removed]",
      "text/plain": [
       "<matplotlib.figure.Figure at 0x7f97d4b0dc50>"
      ]
     },
     "metadata": {},
     "output_type": "display_data"
    }
   ],
   "source": [
    "# 绘制loss的曲线\n",
    "plt.figure(figsize=(14,8))\n",
    "print('origin used: '+ str(models['origin']['times(s)']) + 's')\n",
    "plt.subplot(221)\n",
    "plt.plot(models['origin']['tr']['steps_tr'],models['origin']['tr']['tr_loss'],\"x-\",label='train')\n",
    "plt.plot(models['origin']['val']['steps_val'],models['origin']['val']['val_loss'],\"+-\",label='val')\n",
    "plt.ylabel('loss')\n",
    "plt.xlabel('per steps')\n",
    "plt.title('--loss-- by origin')\n",
    "legend = plt.legend(loc='best',shadow=True)\n",
    "frame = legend.get_frame()\n",
    "frame.set_facecolor('0.90')\n",
    "\n",
    "plt.subplot(222)\n",
    "plt.plot(models['origin']['tr']['steps_tr'],models['origin']['tr']['accuracy_tr'],\"x-\",label='acc train')\n",
    "plt.plot(models['origin']['val']['steps_val'],models['origin']['val']['accuracy_val'],\"+-\",label='acc val')\n",
    "plt.ylabel('accuracy')\n",
    "plt.xlabel('per steps')\n",
    "plt.title('--acc-- by origin')\n",
    "\n",
    "\n",
    "legend = plt.legend(loc='best',shadow=True)\n",
    "frame = legend.get_frame()\n",
    "frame.set_facecolor('0.90')\n",
    "plt.show()"
   ]
  },
  {
   "cell_type": "code",
   "execution_count": null,
   "metadata": {
    "collapsed": true
   },
   "outputs": [],
   "source": []
  },
  {
   "cell_type": "code",
   "execution_count": null,
   "metadata": {
    "collapsed": true
   },
   "outputs": [],
   "source": []
  }
 ],
 "metadata": {
  "kernelspec": {
   "display_name": "Python 3",
   "language": "python",
   "name": "python3"
  },
  "language_info": {
   "codemirror_mode": {
    "name": "ipython",
    "version": 3
   },
   "file_extension": ".py",
   "mimetype": "text/x-python",
   "name": "python",
   "nbconvert_exporter": "python",
   "pygments_lexer": "ipython3",
   "version": "3.6.4"
  }
 },
 "nbformat": 4,
 "nbformat_minor": 2
}
