{
 "cells": [
  {
   "cell_type": "code",
   "execution_count": 54,
   "metadata": {
    "collapsed": true
   },
   "outputs": [],
   "source": [
    "import os\n",
    "import shutil\n",
    "base_dir = os.getcwd() + '/CAS-PEAL-R1/'\n",
    "out_dir = os.getcwd() + '/lfw/'\n",
    "num = 0"
   ]
  },
  {
   "cell_type": "code",
   "execution_count": 55,
   "metadata": {},
   "outputs": [
    {
     "data": {
      "text/plain": [
       "['FRONTAL', 'pose', 'Evaluation Prototype']"
      ]
     },
     "execution_count": 55,
     "metadata": {},
     "output_type": "execute_result"
    }
   ],
   "source": [
    "os.listdir(base_dir)"
   ]
  },
  {
   "cell_type": "code",
   "execution_count": 59,
   "metadata": {},
   "outputs": [
    {
     "name": "stdout",
     "output_type": "stream",
     "text": [
      "FRONTAL\n",
      "already processed 6500 numbers images\n",
      "already processed 7000 numbers images\n",
      "pose\n",
      "already processed 7500 numbers images\n",
      "already processed 8000 numbers images\n",
      "Evaluation Prototype\n"
     ]
    }
   ],
   "source": [
    "for cas_dir in os.listdir(base_dir):\n",
    "#     print(cas_dir)\n",
    "    if cas_dir == 'FRONTAL' or cas_dir == 'pose':\n",
    "        process_dir = base_dir + cas_dir\n",
    "        for root, dirs, imgs in os.walk(process_dir):\n",
    "            for i in range(len(imgs)):\n",
    "                if(imgs[i].endswith('tif')):\n",
    "                    img_no = imgs[i].split('_')[1]\n",
    "                    img_path = root + '/' + imgs[i]\n",
    "                    out_lfw = out_dir + img_no \n",
    "                    if os.path.exists(out_lfw) == False:\n",
    "                        os.mkdir(out_lfw)\n",
    "                    shutil.copy(img_path,out_lfw)\n",
    "                    num = num + 1\n",
    "                    if num % 500 == 0 and num >= 500:\n",
    "                        print('already processed ' + str(num) + ' numbers images')"
   ]
  },
  {
   "cell_type": "code",
   "execution_count": null,
   "metadata": {
    "collapsed": true
   },
   "outputs": [],
   "source": []
  }
 ],
 "metadata": {
  "kernelspec": {
   "display_name": "Python 3",
   "language": "python",
   "name": "python3"
  },
  "language_info": {
   "codemirror_mode": {
    "name": "ipython",
    "version": 3
   },
   "file_extension": ".py",
   "mimetype": "text/x-python",
   "name": "python",
   "nbconvert_exporter": "python",
   "pygments_lexer": "ipython3",
   "version": "3.6.4"
  }
 },
 "nbformat": 4,
 "nbformat_minor": 2
}
