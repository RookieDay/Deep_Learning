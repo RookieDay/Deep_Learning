{
 "cells": [
  {
   "cell_type": "code",
   "execution_count": 69,
   "metadata": {},
   "outputs": [],
   "source": [
    "# 旧金山犯罪分类预测问题\n",
    "# https://www.kaggle.com/c/sf-crime\n",
    "import pandas as pd\n",
    "import numpy as np\n",
    "from sklearn.cross_validation import train_test_split\n",
    "from sklearn import preprocessing\n",
    "from sklearn.metrics import log_loss\n",
    "from sklearn.naive_bayes import BernoulliNB\n",
    "from sklearn.linear_model import LogisticRegression\n",
    "import matplotlib.pyplot as plt \n",
    "\n",
    "import time\n",
    "\n",
    "#用pandas载入csv训练数据，并解析第一列为日期格式\n",
    "# parse_dates : boolean or list of ints or names or list of lists or dict, default False\n",
    "# boolean. True -> 解析索引\n",
    "# list of ints or names. e.g. If [1, 2, 3] -> 解析1,2,3列的值作为独立的日期列；\n",
    "# list of lists. e.g. If [[1, 3]] -> 合并1,3列作为一个日期列使用\n",
    "# dict, e.g. {‘foo’ : [1, 3]} -> 将1,3列合并，并给合并后的列起名为\"foo\"\n",
    "train=pd.read_csv('./data/Kaggle_sf_crime_data/train.csv', parse_dates = ['Dates'])\n",
    "test=pd.read_csv('./data/Kaggle_sf_crime_data/test.csv', parse_dates = ['Dates'])"
   ]
  },
  {
   "cell_type": "code",
   "execution_count": 23,
   "metadata": {},
   "outputs": [
    {
     "data": {
      "text/html": [
       "<div>\n",
       "<style>\n",
       "    .dataframe thead tr:only-child th {\n",
       "        text-align: right;\n",
       "    }\n",
       "\n",
       "    .dataframe thead th {\n",
       "        text-align: left;\n",
       "    }\n",
       "\n",
       "    .dataframe tbody tr th {\n",
       "        vertical-align: top;\n",
       "    }\n",
       "</style>\n",
       "<table border=\"1\" class=\"dataframe\">\n",
       "  <thead>\n",
       "    <tr style=\"text-align: right;\">\n",
       "      <th></th>\n",
       "      <th>Dates</th>\n",
       "      <th>Category</th>\n",
       "      <th>Descript</th>\n",
       "      <th>DayOfWeek</th>\n",
       "      <th>PdDistrict</th>\n",
       "      <th>Resolution</th>\n",
       "      <th>Address</th>\n",
       "      <th>X</th>\n",
       "      <th>Y</th>\n",
       "    </tr>\n",
       "  </thead>\n",
       "  <tbody>\n",
       "    <tr>\n",
       "      <th>0</th>\n",
       "      <td>2015-05-13 23:53:00</td>\n",
       "      <td>WARRANTS</td>\n",
       "      <td>WARRANT ARREST</td>\n",
       "      <td>Wednesday</td>\n",
       "      <td>NORTHERN</td>\n",
       "      <td>ARREST, BOOKED</td>\n",
       "      <td>OAK ST / LAGUNA ST</td>\n",
       "      <td>-122.425892</td>\n",
       "      <td>37.774599</td>\n",
       "    </tr>\n",
       "  </tbody>\n",
       "</table>\n",
       "</div>"
      ],
      "text/plain": [
       "                Dates  Category        Descript  DayOfWeek PdDistrict  \\\n",
       "0 2015-05-13 23:53:00  WARRANTS  WARRANT ARREST  Wednesday   NORTHERN   \n",
       "\n",
       "       Resolution             Address           X          Y  \n",
       "0  ARREST, BOOKED  OAK ST / LAGUNA ST -122.425892  37.774599  "
      ]
     },
     "execution_count": 23,
     "metadata": {},
     "output_type": "execute_result"
    }
   ],
   "source": [
    "train[:1]"
   ]
  },
  {
   "cell_type": "code",
   "execution_count": 24,
   "metadata": {
    "collapsed": true
   },
   "outputs": [],
   "source": [
    "# Date: 日期\n",
    "# Category: 犯罪类型，比如 Larceny/盗窃罪 等.\n",
    "# Descript: 对于犯罪更详细的描述\n",
    "# DayOfWeek: 星期几\n",
    "# PdDistrict: 所属警区\n",
    "# Resolution: 处理结果，比如说『逮捕』『逃了』\n",
    "# Address: 发生街区位置\n",
    "# X and Y: GPS坐标\n",
    "# train.csv中的数据时间跨度为12年，包含了90w+的记录。\n",
    "# 这部分数据，大部分都是『类别』型，比如犯罪类型，比如星期几。\n",
    "\n",
    "# 我们对特征值进行处理如下：\n",
    "# 星期一/Monday = 1,0,0,0,...\n",
    "# 星期二/Tuesday = 0,1,0,0,...\n",
    "# 星期三/Wednesday = 0,0,1,0,...\n",
    "\n",
    "# 用pandas的get_dummies()可以直接拿到这样的一个二值化的01向量。Pandas里面还有一个很有用的方法LabelEncoder可以用于对类别编号。\n",
    "\n",
    "\n",
    "# 对于已有的数据特征，我们打算做下面的粗略变换：\n",
    "# 用LabelEncoder**对犯罪类型做编号**；\n",
    "# 处理时间，在我看来，也许犯罪发生的时间点(小时)是非常重要的，因此我们会用Pandas把这部分数据抽出来；\n",
    "# 对街区，星期几，时间点用get_dummies()因子化；\n",
    "# 做一些组合特征，比如把上述三个feature拼在一起，再因子化一下；"
   ]
  },
  {
   "cell_type": "code",
   "execution_count": 27,
   "metadata": {},
   "outputs": [
    {
     "data": {
      "text/plain": [
       "array([37])"
      ]
     },
     "execution_count": 27,
     "metadata": {},
     "output_type": "execute_result"
    }
   ],
   "source": [
    "# 使用LabelEncoder对不同犯罪类型编号\n",
    "leCrime = preprocessing.LabelEncoder()\n",
    "crime = leCrime.fit_transform(train.Category)"
   ]
  },
  {
   "cell_type": "code",
   "execution_count": 33,
   "metadata": {
    "collapsed": true
   },
   "outputs": [],
   "source": [
    "# 因子化星期几 街区 小时 等特征\n",
    "days = pd.get_dummies(train.DayOfWeek)\n",
    "district = pd.get_dummies(train.PdDistrict)\n",
    "hour = train.Dates.dt.hour\n",
    "hour = pd.get_dummies(hour) "
   ]
  },
  {
   "cell_type": "code",
   "execution_count": 35,
   "metadata": {},
   "outputs": [],
   "source": [
    "# 组合特征\n",
    "trainData = pd.concat([hour,days,district],axis=1)\n",
    "trainData['crime']=crime"
   ]
  },
  {
   "cell_type": "code",
   "execution_count": 40,
   "metadata": {},
   "outputs": [],
   "source": [
    "#对于测试数据做同样的处理\n",
    "days = pd.get_dummies(test.DayOfWeek)\n",
    "district = pd.get_dummies(test.PdDistrict)\n",
    "\n",
    "hour = test.Dates.dt.hour\n",
    "hour = pd.get_dummies(hour) \n",
    "\n",
    "testData = pd.concat([hour, days, district], axis=1)"
   ]
  },
  {
   "cell_type": "code",
   "execution_count": 60,
   "metadata": {},
   "outputs": [
    {
     "data": {
      "text/html": [
       "<div>\n",
       "<style>\n",
       "    .dataframe thead tr:only-child th {\n",
       "        text-align: right;\n",
       "    }\n",
       "\n",
       "    .dataframe thead th {\n",
       "        text-align: left;\n",
       "    }\n",
       "\n",
       "    .dataframe tbody tr th {\n",
       "        vertical-align: top;\n",
       "    }\n",
       "</style>\n",
       "<table border=\"1\" class=\"dataframe\">\n",
       "  <thead>\n",
       "    <tr style=\"text-align: right;\">\n",
       "      <th></th>\n",
       "      <th>0</th>\n",
       "      <th>1</th>\n",
       "      <th>2</th>\n",
       "      <th>3</th>\n",
       "      <th>4</th>\n",
       "      <th>5</th>\n",
       "      <th>6</th>\n",
       "      <th>7</th>\n",
       "      <th>8</th>\n",
       "      <th>9</th>\n",
       "      <th>...</th>\n",
       "      <th>BAYVIEW</th>\n",
       "      <th>CENTRAL</th>\n",
       "      <th>INGLESIDE</th>\n",
       "      <th>MISSION</th>\n",
       "      <th>NORTHERN</th>\n",
       "      <th>PARK</th>\n",
       "      <th>RICHMOND</th>\n",
       "      <th>SOUTHERN</th>\n",
       "      <th>TARAVAL</th>\n",
       "      <th>TENDERLOIN</th>\n",
       "    </tr>\n",
       "  </thead>\n",
       "  <tbody>\n",
       "    <tr>\n",
       "      <th>0</th>\n",
       "      <td>0</td>\n",
       "      <td>0</td>\n",
       "      <td>0</td>\n",
       "      <td>0</td>\n",
       "      <td>0</td>\n",
       "      <td>0</td>\n",
       "      <td>0</td>\n",
       "      <td>0</td>\n",
       "      <td>0</td>\n",
       "      <td>0</td>\n",
       "      <td>...</td>\n",
       "      <td>1</td>\n",
       "      <td>0</td>\n",
       "      <td>0</td>\n",
       "      <td>0</td>\n",
       "      <td>0</td>\n",
       "      <td>0</td>\n",
       "      <td>0</td>\n",
       "      <td>0</td>\n",
       "      <td>0</td>\n",
       "      <td>0</td>\n",
       "    </tr>\n",
       "  </tbody>\n",
       "</table>\n",
       "<p>1 rows × 41 columns</p>\n",
       "</div>"
      ],
      "text/plain": [
       "   0  1  2  3  4  5  6  7  8  9     ...      BAYVIEW  CENTRAL  INGLESIDE  \\\n",
       "0  0  0  0  0  0  0  0  0  0  0     ...            1        0          0   \n",
       "\n",
       "   MISSION  NORTHERN  PARK  RICHMOND  SOUTHERN  TARAVAL  TENDERLOIN  \n",
       "0        0         0     0         0         0        0           0  \n",
       "\n",
       "[1 rows x 41 columns]"
      ]
     },
     "execution_count": 60,
     "metadata": {},
     "output_type": "execute_result"
    }
   ],
   "source": [
    "testData[:1]"
   ]
  },
  {
   "cell_type": "code",
   "execution_count": 47,
   "metadata": {},
   "outputs": [
    {
     "data": {
      "text/plain": [
       "0                            WARRANTS\n",
       "1                      OTHER OFFENSES\n",
       "3                       LARCENY/THEFT\n",
       "6                       VEHICLE THEFT\n",
       "12                          VANDALISM\n",
       "14                       NON-CRIMINAL\n",
       "16                            ROBBERY\n",
       "17                            ASSAULT\n",
       "38                        WEAPON LAWS\n",
       "49                           BURGLARY\n",
       "54                     SUSPICIOUS OCC\n",
       "61                        DRUNKENNESS\n",
       "102            FORGERY/COUNTERFEITING\n",
       "107                     DRUG/NARCOTIC\n",
       "110                   STOLEN PROPERTY\n",
       "111                   SECONDARY CODES\n",
       "123                          TRESPASS\n",
       "148                    MISSING PERSON\n",
       "238                             FRAUD\n",
       "242                        KIDNAPPING\n",
       "280                           RUNAWAY\n",
       "351       DRIVING UNDER THE INFLUENCE\n",
       "375             SEX OFFENSES FORCIBLE\n",
       "426                      PROSTITUTION\n",
       "591                DISORDERLY CONDUCT\n",
       "661                             ARSON\n",
       "811                   FAMILY OFFENSES\n",
       "1156                      LIQUOR LAWS\n",
       "1760                          BRIBERY\n",
       "2396                     EMBEZZLEMENT\n",
       "2903                          SUICIDE\n",
       "3257                        LOITERING\n",
       "6386        SEX OFFENSES NON FORCIBLE\n",
       "7629                        EXTORTION\n",
       "7945                         GAMBLING\n",
       "11207                      BAD CHECKS\n",
       "21002                            TREA\n",
       "102636              RECOVERED VEHICLE\n",
       "148475        PORNOGRAPHY/OBSCENE MAT\n",
       "Name: Category, dtype: object"
      ]
     },
     "execution_count": 47,
     "metadata": {},
     "output_type": "execute_result"
    }
   ],
   "source": [
    "train.Category.drop_duplicates()  "
   ]
  },
  {
   "cell_type": "code",
   "execution_count": 48,
   "metadata": {
    "collapsed": true
   },
   "outputs": [],
   "source": [
    "# 我们可以快速地筛出一部分重要的特征，搭建一个baseline系统，再考虑步步优化。\n",
    "# 比如我们这里简单一点，就只取星期几和街区作为分类器输入特征，我们用scikit-learn\n",
    "# 中的train_test_split函数拿到训练集和交叉验证集，用朴素贝叶斯和逻辑回归都建立模型，\n",
    "# 对比一下它们的表现："
   ]
  },
  {
   "cell_type": "code",
   "execution_count": 49,
   "metadata": {
    "collapsed": true
   },
   "outputs": [],
   "source": [
    "# 只取星期几和街区作为分类器输入特征\n",
    "features = ['Monday', 'Tuesday', 'Wednesday', 'Thursday', 'Friday', 'Saturday', 'Sunday', 'BAYVIEW', 'CENTRAL', 'INGLESIDE', 'MISSION',\n",
    " 'NORTHERN', 'PARK', 'RICHMOND', 'SOUTHERN', 'TARAVAL', 'TENDERLOIN']"
   ]
  },
  {
   "cell_type": "code",
   "execution_count": 50,
   "metadata": {
    "collapsed": true
   },
   "outputs": [],
   "source": [
    "# 分割训练集(3/5)和测试集(2/5)\n",
    "training, validation = train_test_split(trainData, train_size=.60)"
   ]
  },
  {
   "cell_type": "code",
   "execution_count": 57,
   "metadata": {},
   "outputs": [
    {
     "data": {
      "text/html": [
       "<div>\n",
       "<style>\n",
       "    .dataframe thead tr:only-child th {\n",
       "        text-align: right;\n",
       "    }\n",
       "\n",
       "    .dataframe thead th {\n",
       "        text-align: left;\n",
       "    }\n",
       "\n",
       "    .dataframe tbody tr th {\n",
       "        vertical-align: top;\n",
       "    }\n",
       "</style>\n",
       "<table border=\"1\" class=\"dataframe\">\n",
       "  <thead>\n",
       "    <tr style=\"text-align: right;\">\n",
       "      <th></th>\n",
       "      <th>0</th>\n",
       "      <th>1</th>\n",
       "      <th>2</th>\n",
       "      <th>3</th>\n",
       "      <th>4</th>\n",
       "      <th>5</th>\n",
       "      <th>6</th>\n",
       "      <th>7</th>\n",
       "      <th>8</th>\n",
       "      <th>9</th>\n",
       "      <th>...</th>\n",
       "      <th>CENTRAL</th>\n",
       "      <th>INGLESIDE</th>\n",
       "      <th>MISSION</th>\n",
       "      <th>NORTHERN</th>\n",
       "      <th>PARK</th>\n",
       "      <th>RICHMOND</th>\n",
       "      <th>SOUTHERN</th>\n",
       "      <th>TARAVAL</th>\n",
       "      <th>TENDERLOIN</th>\n",
       "      <th>crime</th>\n",
       "    </tr>\n",
       "  </thead>\n",
       "  <tbody>\n",
       "    <tr>\n",
       "      <th>123474</th>\n",
       "      <td>0</td>\n",
       "      <td>0</td>\n",
       "      <td>0</td>\n",
       "      <td>0</td>\n",
       "      <td>0</td>\n",
       "      <td>0</td>\n",
       "      <td>0</td>\n",
       "      <td>0</td>\n",
       "      <td>0</td>\n",
       "      <td>0</td>\n",
       "      <td>...</td>\n",
       "      <td>0</td>\n",
       "      <td>0</td>\n",
       "      <td>0</td>\n",
       "      <td>0</td>\n",
       "      <td>0</td>\n",
       "      <td>0</td>\n",
       "      <td>1</td>\n",
       "      <td>0</td>\n",
       "      <td>0</td>\n",
       "      <td>20</td>\n",
       "    </tr>\n",
       "  </tbody>\n",
       "</table>\n",
       "<p>1 rows × 42 columns</p>\n",
       "</div>"
      ],
      "text/plain": [
       "        0  1  2  3  4  5  6  7  8  9  ...    CENTRAL  INGLESIDE  MISSION  \\\n",
       "123474  0  0  0  0  0  0  0  0  0  0  ...          0          0        0   \n",
       "\n",
       "        NORTHERN  PARK  RICHMOND  SOUTHERN  TARAVAL  TENDERLOIN  crime  \n",
       "123474         0     0         0         1        0           0     20  \n",
       "\n",
       "[1 rows x 42 columns]"
      ]
     },
     "execution_count": 57,
     "metadata": {},
     "output_type": "execute_result"
    }
   ],
   "source": [
    "training[:1]"
   ]
  },
  {
   "cell_type": "code",
   "execution_count": 58,
   "metadata": {},
   "outputs": [
    {
     "data": {
      "text/html": [
       "<div>\n",
       "<style>\n",
       "    .dataframe thead tr:only-child th {\n",
       "        text-align: right;\n",
       "    }\n",
       "\n",
       "    .dataframe thead th {\n",
       "        text-align: left;\n",
       "    }\n",
       "\n",
       "    .dataframe tbody tr th {\n",
       "        vertical-align: top;\n",
       "    }\n",
       "</style>\n",
       "<table border=\"1\" class=\"dataframe\">\n",
       "  <thead>\n",
       "    <tr style=\"text-align: right;\">\n",
       "      <th></th>\n",
       "      <th>0</th>\n",
       "      <th>1</th>\n",
       "      <th>2</th>\n",
       "      <th>3</th>\n",
       "      <th>4</th>\n",
       "      <th>5</th>\n",
       "      <th>6</th>\n",
       "      <th>7</th>\n",
       "      <th>8</th>\n",
       "      <th>9</th>\n",
       "      <th>...</th>\n",
       "      <th>CENTRAL</th>\n",
       "      <th>INGLESIDE</th>\n",
       "      <th>MISSION</th>\n",
       "      <th>NORTHERN</th>\n",
       "      <th>PARK</th>\n",
       "      <th>RICHMOND</th>\n",
       "      <th>SOUTHERN</th>\n",
       "      <th>TARAVAL</th>\n",
       "      <th>TENDERLOIN</th>\n",
       "      <th>crime</th>\n",
       "    </tr>\n",
       "  </thead>\n",
       "  <tbody>\n",
       "    <tr>\n",
       "      <th>194402</th>\n",
       "      <td>0</td>\n",
       "      <td>0</td>\n",
       "      <td>0</td>\n",
       "      <td>0</td>\n",
       "      <td>0</td>\n",
       "      <td>0</td>\n",
       "      <td>1</td>\n",
       "      <td>0</td>\n",
       "      <td>0</td>\n",
       "      <td>0</td>\n",
       "      <td>...</td>\n",
       "      <td>0</td>\n",
       "      <td>0</td>\n",
       "      <td>0</td>\n",
       "      <td>0</td>\n",
       "      <td>0</td>\n",
       "      <td>0</td>\n",
       "      <td>1</td>\n",
       "      <td>0</td>\n",
       "      <td>0</td>\n",
       "      <td>21</td>\n",
       "    </tr>\n",
       "  </tbody>\n",
       "</table>\n",
       "<p>1 rows × 42 columns</p>\n",
       "</div>"
      ],
      "text/plain": [
       "        0  1  2  3  4  5  6  7  8  9  ...    CENTRAL  INGLESIDE  MISSION  \\\n",
       "194402  0  0  0  0  0  0  1  0  0  0  ...          0          0        0   \n",
       "\n",
       "        NORTHERN  PARK  RICHMOND  SOUTHERN  TARAVAL  TENDERLOIN  crime  \n",
       "194402         0     0         0         1        0           0     21  \n",
       "\n",
       "[1 rows x 42 columns]"
      ]
     },
     "execution_count": 58,
     "metadata": {},
     "output_type": "execute_result"
    }
   ],
   "source": [
    "validation[:1]"
   ]
  },
  {
   "cell_type": "code",
   "execution_count": 52,
   "metadata": {},
   "outputs": [
    {
     "name": "stdout",
     "output_type": "stream",
     "text": [
      "朴素贝叶斯建模耗时 1.126662 秒\n",
      "朴素贝叶斯log损失为 2.614267\n"
     ]
    }
   ],
   "source": [
    "# 朴素贝叶斯建模 计算log_loss\n",
    "model = BernoulliNB()\n",
    "nbStart = time.time()\n",
    "model.fit(training[features],training['crime'])\n",
    "nbCostTime = time.time() - nbStart\n",
    "predicted = np.array(model.predict_proba(validation[features]))\n",
    "print (\"朴素贝叶斯建模耗时 %f 秒\" %(nbCostTime))\n",
    "print (\"朴素贝叶斯log损失为 %f\" %(log_loss(validation['crime'], predicted)))"
   ]
  },
  {
   "cell_type": "code",
   "execution_count": 53,
   "metadata": {},
   "outputs": [
    {
     "name": "stdout",
     "output_type": "stream",
     "text": [
      "逻辑回归建模耗时 75.901641 秒\n",
      "逻辑回归log损失为 2.621046\n"
     ]
    }
   ],
   "source": [
    "#逻辑回归建模 计算log_loss\n",
    "model = LogisticRegression(C = .01)\n",
    "lrStart = time.time()\n",
    "model.fit(training[features], training['crime'])\n",
    "lrCostTime = time.time() - lrStart\n",
    "predicted = np.array(model.predict_proba(validation[features]))\n",
    "log_loss(validation['crime'], predicted)\n",
    "print (\"逻辑回归建模耗时 %f 秒\" %(lrCostTime))\n",
    "print (\"逻辑回归log损失为 %f\" %(log_loss(validation['crime'], predicted)))"
   ]
  },
  {
   "cell_type": "code",
   "execution_count": 61,
   "metadata": {},
   "outputs": [
    {
     "data": {
      "text/plain": [
       "123474    20\n",
       "Name: crime, dtype: int64"
      ]
     },
     "execution_count": 61,
     "metadata": {},
     "output_type": "execute_result"
    }
   ],
   "source": [
    "training['crime'][:1]"
   ]
  },
  {
   "cell_type": "code",
   "execution_count": 62,
   "metadata": {
    "collapsed": true
   },
   "outputs": [],
   "source": [
    "# 目前的特征和参数设定下，朴素贝叶斯的log损失还低一些，另外我们可以明显看到，\n",
    "# 朴素贝叶斯建模消耗的时间远小于逻辑回归建模"
   ]
  },
  {
   "cell_type": "code",
   "execution_count": null,
   "metadata": {
    "collapsed": true
   },
   "outputs": [],
   "source": [
    "# 考虑到犯罪类型可能和犯罪事件发生的小时时间点相关，我们加入小时时间点特征再次建模"
   ]
  },
  {
   "cell_type": "code",
   "execution_count": 63,
   "metadata": {},
   "outputs": [
    {
     "name": "stdout",
     "output_type": "stream",
     "text": [
      "朴素贝叶斯建模耗时 19.646911 秒\n",
      "朴素贝叶斯log损失为 2.586421\n",
      "逻辑回归建模耗时 90.872917 秒\n",
      "逻辑回归log损失为 2.595009\n"
     ]
    }
   ],
   "source": [
    "# 添加犯罪的小时时间点作为特征\n",
    "features = ['Friday', 'Monday', 'Saturday', 'Sunday', 'Thursday', 'Tuesday',\n",
    "'Wednesday', 'BAYVIEW', 'CENTRAL', 'INGLESIDE', 'MISSION',\n",
    "'NORTHERN', 'PARK', 'RICHMOND', 'SOUTHERN', 'TARAVAL', 'TENDERLOIN']\n",
    "\n",
    "hourFea = [x for x in range(0,24)]\n",
    "features = features + hourFea\n",
    "\n",
    "# 分割训练集(3/5)和测试集(2/5)\n",
    "training, validation = train_test_split(trainData, train_size=.60)\n",
    "\n",
    "# 朴素贝叶斯建模，计算log_loss\n",
    "model = BernoulliNB()\n",
    "nbStart = time.time()\n",
    "model.fit(training[features], training['crime'])\n",
    "nbCostTime = time.time() - nbStart\n",
    "predicted = np.array(model.predict_proba(validation[features]))\n",
    "print (\"朴素贝叶斯建模耗时 %f 秒\" %(nbCostTime))\n",
    "print (\"朴素贝叶斯log损失为 %f\" %(log_loss(validation['crime'], predicted)))\n",
    "\n",
    "#逻辑回归建模，计算log_loss\n",
    "model = LogisticRegression(C=.01)\n",
    "lrStart= time.time()\n",
    "model.fit(training[features], training['crime'])\n",
    "lrCostTime = time.time() - lrStart\n",
    "predicted = np.array(model.predict_proba(validation[features]))\n",
    "log_loss(validation['crime'], predicted)\n",
    "print (\"逻辑回归建模耗时 %f 秒\" %(lrCostTime))\n",
    "print (\"逻辑回归log损失为 %f\" %(log_loss(validation['crime'], predicted)))"
   ]
  },
  {
   "cell_type": "code",
   "execution_count": null,
   "metadata": {
    "collapsed": true
   },
   "outputs": [],
   "source": [
    "# 可以看到在这三个类别特征下，朴素贝叶斯相对于逻辑回归，依旧有一定的优势(log损失更小)，同时训练时间很短，\n",
    "# 这意味着模型虽然简单，但是效果依旧强大。"
   ]
  },
  {
   "cell_type": "code",
   "execution_count": null,
   "metadata": {
    "collapsed": true
   },
   "outputs": [],
   "source": []
  },
  {
   "cell_type": "code",
   "execution_count": null,
   "metadata": {
    "collapsed": true
   },
   "outputs": [],
   "source": []
  }
 ],
 "metadata": {
  "kernelspec": {
   "display_name": "Python 3",
   "language": "python",
   "name": "python3"
  },
  "language_info": {
   "codemirror_mode": {
    "name": "ipython",
    "version": 3
   },
   "file_extension": ".py",
   "mimetype": "text/x-python",
   "name": "python",
   "nbconvert_exporter": "python",
   "pygments_lexer": "ipython3",
   "version": "3.6.4"
  }
 },
 "nbformat": 4,
 "nbformat_minor": 2
}
